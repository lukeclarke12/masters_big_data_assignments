{
 "cells": [
  {
   "cell_type": "markdown",
   "metadata": {
    "id": "_a2hajcA99-K"
   },
   "source": [
    "![BTS](https://github.com/vfp1/bts-dsf-2020/blob/main/Logo-BTS.jpg?raw=1)\n",
    "\n",
    "# Session 1 and Session 2: Assignements\n",
    "\n",
    "### Victor F. Pajuelo Madrigal <victor.pajuelo@bts.tech> - Data Science Foundations (S1 - S2)\n",
    "\n",
    "Open this notebook in Google Colaboratory: [![Open in Colab](https://colab.research.google.com/assets/colab-badge.svg)](https://colab.research.google.com/github/vfp1/bts-dsf-2020/blob/main/exercises/Session_1_2_EXERCISES.ipynb)"
   ]
  },
  {
   "cell_type": "markdown",
   "metadata": {
    "id": "byRLEOBP1pet"
   },
   "source": [
    "## Exercise 1: CSV\n",
    "\n",
    "Analize the data of the JetBrains 2017 Python survey https://www.jetbrains.com/research/python-developers-survey-2017/\n",
    "\n",
    "1. Download raw data from http://jb.gg/pythondevsurvey2017raw\n",
    "2. Read it in pandas\n",
    "3. Reproduce \"What do you use Python for the most? (single answer)\" chart\n",
    "4. Reproduce \"What do you use Python for? (multiple answers)\" chart"
   ]
  },
  {
   "cell_type": "code",
   "execution_count": null,
   "metadata": {
    "colab": {
     "base_uri": "https://localhost:8080/",
     "height": 748
    },
    "executionInfo": {
     "elapsed": 1013,
     "status": "ok",
     "timestamp": 1603649778589,
     "user": {
      "displayName": "",
      "photoUrl": "",
      "userId": ""
     },
     "user_tz": -60
    },
    "id": "oBnQwY1c1peu",
    "outputId": "b62ff6ec-168a-41c5-b66d-478954dcf390"
   },
   "outputs": [
    {
     "data": {
      "text/html": [
       "<div>\n",
       "<style scoped>\n",
       "    .dataframe tbody tr th:only-of-type {\n",
       "        vertical-align: middle;\n",
       "    }\n",
       "\n",
       "    .dataframe tbody tr th {\n",
       "        vertical-align: top;\n",
       "    }\n",
       "\n",
       "    .dataframe thead th {\n",
       "        text-align: right;\n",
       "    }\n",
       "</style>\n",
       "<table border=\"1\" class=\"dataframe\">\n",
       "  <thead>\n",
       "    <tr style=\"text-align: right;\">\n",
       "      <th></th>\n",
       "      <th>Is Python the main language you use for your current projects?</th>\n",
       "      <th>None:What other language(s) do you use?</th>\n",
       "      <th>Java:What other language(s) do you use?</th>\n",
       "      <th>JavaScript:What other language(s) do you use?</th>\n",
       "      <th>C/C++:What other language(s) do you use?</th>\n",
       "      <th>PHP:What other language(s) do you use?</th>\n",
       "      <th>C#:What other language(s) do you use?</th>\n",
       "      <th>Ruby:What other language(s) do you use?</th>\n",
       "      <th>Bash / Shell:What other language(s) do you use?</th>\n",
       "      <th>Objective-C:What other language(s) do you use?</th>\n",
       "      <th>Go:What other language(s) do you use?</th>\n",
       "      <th>Visual Basic:What other language(s) do you use?</th>\n",
       "      <th>Scala:What other language(s) do you use?</th>\n",
       "      <th>SQL:What other language(s) do you use?</th>\n",
       "      <th>Kotlin:What other language(s) do you use?</th>\n",
       "      <th>R:What other language(s) do you use?</th>\n",
       "      <th>Swift:What other language(s) do you use?</th>\n",
       "      <th>Clojure:What other language(s) do you use?</th>\n",
       "      <th>Perl:What other language(s) do you use?</th>\n",
       "      <th>Rust:What other language(s) do you use?</th>\n",
       "      <th>Groovy:What other language(s) do you use?</th>\n",
       "      <th>TypeScript:What other language(s) do you use?</th>\n",
       "      <th>CoffeeScript:What other language(s) do you use?</th>\n",
       "      <th>HTML/CSS:What other language(s) do you use?</th>\n",
       "      <th>Other - Write In::What other language(s) do you use?</th>\n",
       "      <th>Educational purposes: What do you use Python for?</th>\n",
       "      <th>Data analysis: What do you use Python for?</th>\n",
       "      <th>DevOps / System administration / Writing automation scripts: What do you use Python for?</th>\n",
       "      <th>Software testing / Writing automated tests: What do you use Python for?</th>\n",
       "      <th>Software prototyping: What do you use Python for?</th>\n",
       "      <th>Web development: What do you use Python for?</th>\n",
       "      <th>Machine learning: What do you use Python for?</th>\n",
       "      <th>Mobile development: What do you use Python for?</th>\n",
       "      <th>Desktop development: What do you use Python for?</th>\n",
       "      <th>Computer graphics: What do you use Python for?</th>\n",
       "      <th>Network programming: What do you use Python for?</th>\n",
       "      <th>Game development: What do you use Python for?</th>\n",
       "      <th>Multimedia applications development: What do you use Python for?</th>\n",
       "      <th>Embedded development: What do you use Python for?</th>\n",
       "      <th>Programming of web parsers / scrapers / crawlers: What do you use Python for?</th>\n",
       "      <th>...</th>\n",
       "      <th>refactor your code:When developing in Python, how often do you…?</th>\n",
       "      <th>use VCS:When developing in Python, how often do you…?</th>\n",
       "      <th>use code linting (programs that analyze code for potential errors):When developing in Python, how often do you…?</th>\n",
       "      <th>use Python virtual environments for your projects:When developing in Python, how often do you…?</th>\n",
       "      <th>use SQL databases :When developing in Python, how often do you…?</th>\n",
       "      <th>use NoSQL databases:When developing in Python, how often do you…?</th>\n",
       "      <th>run / debug or edit code on remote machines (remote hosts, VMs, etc.):When developing in Python, how often do you…?</th>\n",
       "      <th>use a Python profiler:When developing in Python, how often do you…?</th>\n",
       "      <th>write tests for your code:When developing in Python, how often do you…?</th>\n",
       "      <th>use code coverage:When developing in Python, how often do you…?</th>\n",
       "      <th>use optional type hinting:When developing in Python, how often do you…?</th>\n",
       "      <th>use Continuous Integration tools:When developing in Python, how often do you…?</th>\n",
       "      <th>use Issue Trackers:When developing in Python, how often do you…?</th>\n",
       "      <th>Do you regularly work on multiple projects at the same time?</th>\n",
       "      <th>How did you first learn about your main editor?</th>\n",
       "      <th>How often do you use your main editor?</th>\n",
       "      <th>Are you missing any features in your main editor?</th>\n",
       "      <th>How likely is it that you would recommend your main editor to a friend or colleague?</th>\n",
       "      <th>What do you think is the ratio of these two numbers?:Please think about the total number of Python Web Developers in the world and the total number of Data Scientists using Python.</th>\n",
       "      <th>What do you think would be the most popular opinion?:Please think about the total number of Python Web Developers in the world and the total number of Data Scientists using Python.</th>\n",
       "      <th>Most of the time, do you...?</th>\n",
       "      <th>How many people are in your project team?</th>\n",
       "      <th>What is your employment status?</th>\n",
       "      <th>Choose one from the list::Which of the following industries best describes your company's business?</th>\n",
       "      <th>Choose one from the list::Which of the following industries do you develop for?</th>\n",
       "      <th>How long have you been working in the IT industry?</th>\n",
       "      <th>DBA:Which of the following best describes your job role(s)?</th>\n",
       "      <th>Architect:Which of the following best describes your job role(s)?</th>\n",
       "      <th>QA engineer:Which of the following best describes your job role(s)?</th>\n",
       "      <th>Developer / Programmer:Which of the following best describes your job role(s)?</th>\n",
       "      <th>Technical support:Which of the following best describes your job role(s)?</th>\n",
       "      <th>Data analyst:Which of the following best describes your job role(s)?</th>\n",
       "      <th>Business analyst:Which of the following best describes your job role(s)?</th>\n",
       "      <th>Team lead:Which of the following best describes your job role(s)?</th>\n",
       "      <th>Product manager:Which of the following best describes your job role(s)?</th>\n",
       "      <th>CIO / CEO / CTO:Which of the following best describes your job role(s)?</th>\n",
       "      <th>Systems analyst:Which of the following best describes your job role(s)?</th>\n",
       "      <th>Other - Write In::Which of the following best describes your job role(s)?</th>\n",
       "      <th>Could you tell us your age range?</th>\n",
       "      <th>What country do you live in?</th>\n",
       "    </tr>\n",
       "  </thead>\n",
       "  <tbody>\n",
       "    <tr>\n",
       "      <th>0</th>\n",
       "      <td>Yes</td>\n",
       "      <td>NaN</td>\n",
       "      <td>NaN</td>\n",
       "      <td>JavaScript</td>\n",
       "      <td>NaN</td>\n",
       "      <td>PHP</td>\n",
       "      <td>NaN</td>\n",
       "      <td>NaN</td>\n",
       "      <td>Bash / Shell</td>\n",
       "      <td>NaN</td>\n",
       "      <td>NaN</td>\n",
       "      <td>NaN</td>\n",
       "      <td>NaN</td>\n",
       "      <td>NaN</td>\n",
       "      <td>NaN</td>\n",
       "      <td>NaN</td>\n",
       "      <td>NaN</td>\n",
       "      <td>NaN</td>\n",
       "      <td>NaN</td>\n",
       "      <td>NaN</td>\n",
       "      <td>NaN</td>\n",
       "      <td>NaN</td>\n",
       "      <td>NaN</td>\n",
       "      <td>HTML/CSS</td>\n",
       "      <td>NaN</td>\n",
       "      <td>Educational purposes</td>\n",
       "      <td>Data analysis</td>\n",
       "      <td>DevOps / System administration / Writing autom...</td>\n",
       "      <td>NaN</td>\n",
       "      <td>NaN</td>\n",
       "      <td>NaN</td>\n",
       "      <td>NaN</td>\n",
       "      <td>NaN</td>\n",
       "      <td>NaN</td>\n",
       "      <td>NaN</td>\n",
       "      <td>NaN</td>\n",
       "      <td>NaN</td>\n",
       "      <td>NaN</td>\n",
       "      <td>NaN</td>\n",
       "      <td>Programming of web parsers / scrapers / crawlers</td>\n",
       "      <td>...</td>\n",
       "      <td>Never or Almost never</td>\n",
       "      <td>Never or Almost never</td>\n",
       "      <td>Never or Almost never</td>\n",
       "      <td>From time to time</td>\n",
       "      <td>Never or Almost never</td>\n",
       "      <td>From time to time</td>\n",
       "      <td>Often</td>\n",
       "      <td>Never or Almost never</td>\n",
       "      <td>From time to time</td>\n",
       "      <td>Never or Almost never</td>\n",
       "      <td>Never or Almost never</td>\n",
       "      <td>Never or Almost never</td>\n",
       "      <td>Never or Almost never</td>\n",
       "      <td>Yes, I work on many different projects</td>\n",
       "      <td>Friend / Colleague</td>\n",
       "      <td>Daily</td>\n",
       "      <td>Yes</td>\n",
       "      <td>6.0</td>\n",
       "      <td>2:1</td>\n",
       "      <td>2:1</td>\n",
       "      <td>Work in a team</td>\n",
       "      <td>2-7 people</td>\n",
       "      <td>Fully employed by a company / organization</td>\n",
       "      <td>Education / Training</td>\n",
       "      <td>NaN</td>\n",
       "      <td>Less than 1 year</td>\n",
       "      <td>NaN</td>\n",
       "      <td>NaN</td>\n",
       "      <td>NaN</td>\n",
       "      <td>Developer / Programmer</td>\n",
       "      <td>NaN</td>\n",
       "      <td>NaN</td>\n",
       "      <td>NaN</td>\n",
       "      <td>NaN</td>\n",
       "      <td>NaN</td>\n",
       "      <td>NaN</td>\n",
       "      <td>NaN</td>\n",
       "      <td>NaN</td>\n",
       "      <td>60 or older</td>\n",
       "      <td>Italy</td>\n",
       "    </tr>\n",
       "    <tr>\n",
       "      <th>1</th>\n",
       "      <td>Yes</td>\n",
       "      <td>NaN</td>\n",
       "      <td>NaN</td>\n",
       "      <td>JavaScript</td>\n",
       "      <td>NaN</td>\n",
       "      <td>NaN</td>\n",
       "      <td>NaN</td>\n",
       "      <td>NaN</td>\n",
       "      <td>NaN</td>\n",
       "      <td>NaN</td>\n",
       "      <td>NaN</td>\n",
       "      <td>NaN</td>\n",
       "      <td>NaN</td>\n",
       "      <td>NaN</td>\n",
       "      <td>NaN</td>\n",
       "      <td>NaN</td>\n",
       "      <td>NaN</td>\n",
       "      <td>Clojure</td>\n",
       "      <td>NaN</td>\n",
       "      <td>Rust</td>\n",
       "      <td>NaN</td>\n",
       "      <td>NaN</td>\n",
       "      <td>NaN</td>\n",
       "      <td>HTML/CSS</td>\n",
       "      <td>Other - Write In:</td>\n",
       "      <td>NaN</td>\n",
       "      <td>Data analysis</td>\n",
       "      <td>DevOps / System administration / Writing autom...</td>\n",
       "      <td>NaN</td>\n",
       "      <td>NaN</td>\n",
       "      <td>Web development</td>\n",
       "      <td>NaN</td>\n",
       "      <td>NaN</td>\n",
       "      <td>NaN</td>\n",
       "      <td>NaN</td>\n",
       "      <td>Network programming</td>\n",
       "      <td>NaN</td>\n",
       "      <td>NaN</td>\n",
       "      <td>NaN</td>\n",
       "      <td>Programming of web parsers / scrapers / crawlers</td>\n",
       "      <td>...</td>\n",
       "      <td>Often</td>\n",
       "      <td>Often</td>\n",
       "      <td>Often</td>\n",
       "      <td>Often</td>\n",
       "      <td>Often</td>\n",
       "      <td>From time to time</td>\n",
       "      <td>From time to time</td>\n",
       "      <td>Never or Almost never</td>\n",
       "      <td>Often</td>\n",
       "      <td>Often</td>\n",
       "      <td>Never or Almost never</td>\n",
       "      <td>Often</td>\n",
       "      <td>Often</td>\n",
       "      <td>Yes, I work on many different projects</td>\n",
       "      <td>Friend / Colleague</td>\n",
       "      <td>Daily</td>\n",
       "      <td>No</td>\n",
       "      <td>7.0</td>\n",
       "      <td>10:1</td>\n",
       "      <td>5:1</td>\n",
       "      <td>Work in a team</td>\n",
       "      <td>2-7 people</td>\n",
       "      <td>Fully employed by a company / organization</td>\n",
       "      <td>Banking / Real Estate / Mortgage Financing</td>\n",
       "      <td>NaN</td>\n",
       "      <td>11+ years</td>\n",
       "      <td>NaN</td>\n",
       "      <td>Architect</td>\n",
       "      <td>NaN</td>\n",
       "      <td>Developer / Programmer</td>\n",
       "      <td>NaN</td>\n",
       "      <td>NaN</td>\n",
       "      <td>NaN</td>\n",
       "      <td>Team lead</td>\n",
       "      <td>NaN</td>\n",
       "      <td>NaN</td>\n",
       "      <td>NaN</td>\n",
       "      <td>NaN</td>\n",
       "      <td>40-49</td>\n",
       "      <td>United Kingdom</td>\n",
       "    </tr>\n",
       "    <tr>\n",
       "      <th>2</th>\n",
       "      <td>Yes</td>\n",
       "      <td>NaN</td>\n",
       "      <td>NaN</td>\n",
       "      <td>JavaScript</td>\n",
       "      <td>NaN</td>\n",
       "      <td>NaN</td>\n",
       "      <td>NaN</td>\n",
       "      <td>NaN</td>\n",
       "      <td>NaN</td>\n",
       "      <td>NaN</td>\n",
       "      <td>NaN</td>\n",
       "      <td>NaN</td>\n",
       "      <td>NaN</td>\n",
       "      <td>NaN</td>\n",
       "      <td>NaN</td>\n",
       "      <td>NaN</td>\n",
       "      <td>NaN</td>\n",
       "      <td>NaN</td>\n",
       "      <td>NaN</td>\n",
       "      <td>NaN</td>\n",
       "      <td>NaN</td>\n",
       "      <td>NaN</td>\n",
       "      <td>NaN</td>\n",
       "      <td>HTML/CSS</td>\n",
       "      <td>NaN</td>\n",
       "      <td>NaN</td>\n",
       "      <td>NaN</td>\n",
       "      <td>DevOps / System administration / Writing autom...</td>\n",
       "      <td>NaN</td>\n",
       "      <td>NaN</td>\n",
       "      <td>Web development</td>\n",
       "      <td>NaN</td>\n",
       "      <td>NaN</td>\n",
       "      <td>NaN</td>\n",
       "      <td>NaN</td>\n",
       "      <td>NaN</td>\n",
       "      <td>NaN</td>\n",
       "      <td>NaN</td>\n",
       "      <td>NaN</td>\n",
       "      <td>NaN</td>\n",
       "      <td>...</td>\n",
       "      <td>Often</td>\n",
       "      <td>Often</td>\n",
       "      <td>Often</td>\n",
       "      <td>Often</td>\n",
       "      <td>From time to time</td>\n",
       "      <td>Never or Almost never</td>\n",
       "      <td>Never or Almost never</td>\n",
       "      <td>Never or Almost never</td>\n",
       "      <td>From time to time</td>\n",
       "      <td>Often</td>\n",
       "      <td>Never or Almost never</td>\n",
       "      <td>Often</td>\n",
       "      <td>Often</td>\n",
       "      <td>Yes, I work on many different projects</td>\n",
       "      <td>Social network</td>\n",
       "      <td>Daily</td>\n",
       "      <td>No</td>\n",
       "      <td>9.0</td>\n",
       "      <td>1:2</td>\n",
       "      <td>2:1</td>\n",
       "      <td>Work as an external consultant or trainer</td>\n",
       "      <td>NaN</td>\n",
       "      <td>Freelancer</td>\n",
       "      <td>NaN</td>\n",
       "      <td>NaN</td>\n",
       "      <td>11+ years</td>\n",
       "      <td>NaN</td>\n",
       "      <td>NaN</td>\n",
       "      <td>NaN</td>\n",
       "      <td>Developer / Programmer</td>\n",
       "      <td>NaN</td>\n",
       "      <td>NaN</td>\n",
       "      <td>NaN</td>\n",
       "      <td>NaN</td>\n",
       "      <td>NaN</td>\n",
       "      <td>NaN</td>\n",
       "      <td>NaN</td>\n",
       "      <td>NaN</td>\n",
       "      <td>40-49</td>\n",
       "      <td>France</td>\n",
       "    </tr>\n",
       "    <tr>\n",
       "      <th>3</th>\n",
       "      <td>No, I don’t use Python for my current projects</td>\n",
       "      <td>NaN</td>\n",
       "      <td>NaN</td>\n",
       "      <td>NaN</td>\n",
       "      <td>NaN</td>\n",
       "      <td>NaN</td>\n",
       "      <td>C#</td>\n",
       "      <td>NaN</td>\n",
       "      <td>NaN</td>\n",
       "      <td>NaN</td>\n",
       "      <td>NaN</td>\n",
       "      <td>NaN</td>\n",
       "      <td>NaN</td>\n",
       "      <td>NaN</td>\n",
       "      <td>NaN</td>\n",
       "      <td>NaN</td>\n",
       "      <td>NaN</td>\n",
       "      <td>NaN</td>\n",
       "      <td>NaN</td>\n",
       "      <td>NaN</td>\n",
       "      <td>NaN</td>\n",
       "      <td>NaN</td>\n",
       "      <td>NaN</td>\n",
       "      <td>NaN</td>\n",
       "      <td>NaN</td>\n",
       "      <td>NaN</td>\n",
       "      <td>NaN</td>\n",
       "      <td>NaN</td>\n",
       "      <td>NaN</td>\n",
       "      <td>NaN</td>\n",
       "      <td>NaN</td>\n",
       "      <td>NaN</td>\n",
       "      <td>NaN</td>\n",
       "      <td>NaN</td>\n",
       "      <td>NaN</td>\n",
       "      <td>NaN</td>\n",
       "      <td>NaN</td>\n",
       "      <td>NaN</td>\n",
       "      <td>NaN</td>\n",
       "      <td>NaN</td>\n",
       "      <td>...</td>\n",
       "      <td>NaN</td>\n",
       "      <td>NaN</td>\n",
       "      <td>NaN</td>\n",
       "      <td>NaN</td>\n",
       "      <td>NaN</td>\n",
       "      <td>NaN</td>\n",
       "      <td>NaN</td>\n",
       "      <td>NaN</td>\n",
       "      <td>NaN</td>\n",
       "      <td>NaN</td>\n",
       "      <td>NaN</td>\n",
       "      <td>NaN</td>\n",
       "      <td>NaN</td>\n",
       "      <td>NaN</td>\n",
       "      <td>NaN</td>\n",
       "      <td>NaN</td>\n",
       "      <td>NaN</td>\n",
       "      <td>NaN</td>\n",
       "      <td>NaN</td>\n",
       "      <td>NaN</td>\n",
       "      <td>Work on your own project(s) independently</td>\n",
       "      <td>NaN</td>\n",
       "      <td>Student</td>\n",
       "      <td>NaN</td>\n",
       "      <td>NaN</td>\n",
       "      <td>Less than 1 year</td>\n",
       "      <td>NaN</td>\n",
       "      <td>NaN</td>\n",
       "      <td>NaN</td>\n",
       "      <td>Developer / Programmer</td>\n",
       "      <td>NaN</td>\n",
       "      <td>NaN</td>\n",
       "      <td>NaN</td>\n",
       "      <td>NaN</td>\n",
       "      <td>NaN</td>\n",
       "      <td>NaN</td>\n",
       "      <td>NaN</td>\n",
       "      <td>NaN</td>\n",
       "      <td>17 or younger</td>\n",
       "      <td>Spain</td>\n",
       "    </tr>\n",
       "    <tr>\n",
       "      <th>4</th>\n",
       "      <td>Yes</td>\n",
       "      <td>NaN</td>\n",
       "      <td>Java</td>\n",
       "      <td>NaN</td>\n",
       "      <td>NaN</td>\n",
       "      <td>NaN</td>\n",
       "      <td>NaN</td>\n",
       "      <td>NaN</td>\n",
       "      <td>NaN</td>\n",
       "      <td>NaN</td>\n",
       "      <td>NaN</td>\n",
       "      <td>NaN</td>\n",
       "      <td>NaN</td>\n",
       "      <td>SQL</td>\n",
       "      <td>Kotlin</td>\n",
       "      <td>NaN</td>\n",
       "      <td>Swift</td>\n",
       "      <td>NaN</td>\n",
       "      <td>NaN</td>\n",
       "      <td>NaN</td>\n",
       "      <td>NaN</td>\n",
       "      <td>NaN</td>\n",
       "      <td>NaN</td>\n",
       "      <td>NaN</td>\n",
       "      <td>NaN</td>\n",
       "      <td>NaN</td>\n",
       "      <td>Data analysis</td>\n",
       "      <td>NaN</td>\n",
       "      <td>NaN</td>\n",
       "      <td>Software prototyping</td>\n",
       "      <td>NaN</td>\n",
       "      <td>Machine learning</td>\n",
       "      <td>NaN</td>\n",
       "      <td>Desktop development</td>\n",
       "      <td>NaN</td>\n",
       "      <td>NaN</td>\n",
       "      <td>NaN</td>\n",
       "      <td>NaN</td>\n",
       "      <td>NaN</td>\n",
       "      <td>NaN</td>\n",
       "      <td>...</td>\n",
       "      <td>From time to time</td>\n",
       "      <td>Often</td>\n",
       "      <td>Never or Almost never</td>\n",
       "      <td>From time to time</td>\n",
       "      <td>From time to time</td>\n",
       "      <td>Never or Almost never</td>\n",
       "      <td>Never or Almost never</td>\n",
       "      <td>Often</td>\n",
       "      <td>Never or Almost never</td>\n",
       "      <td>Never or Almost never</td>\n",
       "      <td>From time to time</td>\n",
       "      <td>Never or Almost never</td>\n",
       "      <td>Often</td>\n",
       "      <td>Yes, I work on one main and several side projects</td>\n",
       "      <td>Search engines</td>\n",
       "      <td>Daily</td>\n",
       "      <td>No</td>\n",
       "      <td>10.0</td>\n",
       "      <td>1:5</td>\n",
       "      <td>1:2</td>\n",
       "      <td>Work in a team</td>\n",
       "      <td>2-7 people</td>\n",
       "      <td>Student</td>\n",
       "      <td>NaN</td>\n",
       "      <td>NaN</td>\n",
       "      <td>3 - 5 years</td>\n",
       "      <td>NaN</td>\n",
       "      <td>NaN</td>\n",
       "      <td>NaN</td>\n",
       "      <td>Developer / Programmer</td>\n",
       "      <td>NaN</td>\n",
       "      <td>NaN</td>\n",
       "      <td>NaN</td>\n",
       "      <td>NaN</td>\n",
       "      <td>NaN</td>\n",
       "      <td>NaN</td>\n",
       "      <td>NaN</td>\n",
       "      <td>NaN</td>\n",
       "      <td>18-20</td>\n",
       "      <td>Israel</td>\n",
       "    </tr>\n",
       "  </tbody>\n",
       "</table>\n",
       "<p>5 rows × 162 columns</p>\n",
       "</div>"
      ],
      "text/plain": [
       "  Is Python the main language you use for your current projects?  ... What country do you live in?\n",
       "0                                                Yes              ...                        Italy\n",
       "1                                                Yes              ...               United Kingdom\n",
       "2                                                Yes              ...                       France\n",
       "3     No, I don’t use Python for my current projects              ...                        Spain\n",
       "4                                                Yes              ...                       Israel\n",
       "\n",
       "[5 rows x 162 columns]"
      ]
     },
     "execution_count": 209,
     "metadata": {
      "tags": []
     },
     "output_type": "execute_result"
    }
   ],
   "source": [
    "import pandas as pd\n",
    "\n",
    "\n",
    "data = pd.read_csv(\"pythondevsurvey2017_raw_data.csv\")\n",
    "data.head(5)"
   ]
  },
  {
   "cell_type": "code",
   "execution_count": null,
   "metadata": {
    "colab": {
     "base_uri": "https://localhost:8080/",
     "height": 601
    },
    "executionInfo": {
     "elapsed": 892,
     "status": "ok",
     "timestamp": 1603649779900,
     "user": {
      "displayName": "",
      "photoUrl": "",
      "userId": ""
     },
     "user_tz": -60
    },
    "id": "0_ACNVc5g3Rt",
    "outputId": "cb89ee02-71fa-4b4f-9222-76ebfd66e9a7"
   },
   "outputs": [
    {
     "data": {
      "text/plain": [
       "<matplotlib.axes._subplots.AxesSubplot at 0x7f0d77237828>"
      ]
     },
     "execution_count": 210,
     "metadata": {
      "tags": []
     },
     "output_type": "execute_result"
    },
    {
     "data": {
      "image/png": "[encoded data removed]",
      "text/plain": [
       "<Figure size 432x288 with 1 Axes>"
      ]
     },
     "metadata": {
      "needs_background": "light",
      "tags": []
     },
     "output_type": "display_data"
    }
   ],
   "source": [
    "import matplotlib as plt\n",
    "\n",
    "data = pd.DataFrame(data)\n",
    "\n",
    "python_the_most_df = pd.DataFrame(data.iloc[: ,41:42])\n",
    "\n",
    "python_the_most_df.value_counts().plot.bar()\n",
    "\n",
    "\n",
    "\n"
   ]
  },
  {
   "cell_type": "code",
   "execution_count": null,
   "metadata": {
    "colab": {
     "base_uri": "https://localhost:8080/",
     "height": 576
    },
    "executionInfo": {
     "elapsed": 718,
     "status": "ok",
     "timestamp": 1603649781004,
     "user": {
      "displayName": "",
      "photoUrl": "",
      "userId": ""
     },
     "user_tz": -60
    },
    "id": "3jrcxP6u8oO4",
    "outputId": "4a67953d-02b3-42ff-d3b1-85242981fa0f"
   },
   "outputs": [
    {
     "data": {
      "text/plain": [
       "<matplotlib.axes._subplots.AxesSubplot at 0x7f0d785f7eb8>"
      ]
     },
     "execution_count": 211,
     "metadata": {
      "tags": []
     },
     "output_type": "execute_result"
    },
    {
     "data": {
      "image/png": "[encoded data removed]",
      "text/plain": [
       "<Figure size 432x288 with 1 Axes>"
      ]
     },
     "metadata": {
      "needs_background": "light",
      "tags": []
     },
     "output_type": "display_data"
    }
   ],
   "source": [
    "data[\"What do you use Python for the most?\"].value_counts(normalize=True).head().plot.bar() \n"
   ]
  },
  {
   "cell_type": "code",
   "execution_count": null,
   "metadata": {
    "colab": {
     "base_uri": "https://localhost:8080/",
     "height": 726
    },
    "executionInfo": {
     "elapsed": 1206,
     "status": "ok",
     "timestamp": 1603649868273,
     "user": {
      "displayName": "",
      "photoUrl": "",
      "userId": ""
     },
     "user_tz": -60
    },
    "id": "qCdHzNdt3H-0",
    "outputId": "68dc1033-db67-4968-a809-e849255f9b54"
   },
   "outputs": [
    {
     "data": {
      "text/plain": [
       "<matplotlib.axes._subplots.AxesSubplot at 0x7f0d7713c400>"
      ]
     },
     "execution_count": 216,
     "metadata": {
      "tags": []
     },
     "output_type": "execute_result"
    },
    {
     "data": {
      "image/png": "[encoded data removed]",
      "text/plain": [
       "<Figure size 432x288 with 1 Axes>"
      ]
     },
     "metadata": {
      "needs_background": "light",
      "tags": []
     },
     "output_type": "display_data"
    }
   ],
   "source": [
    "data1 = pd.DataFrame(data.iloc[ : , 25:40])\n",
    "data1.count().plot.bar()\n",
    "\n"
   ]
  },
  {
   "cell_type": "markdown",
   "metadata": {
    "id": "HCvH2cLM_1Cq"
   },
   "source": [
    "# Exercise 2: slicing arrays\n",
    "\n",
    "Given the array provided in the next cell. Do the following with slicing (check the other notebooks for examples)\n",
    "\n",
    "\n",
    "\n",
    "*   Print the whole array using slice\n",
    "*   Print number 12\n",
    "*   Reverse the array\n",
    "*   Reverse only one row in the array\n",
    "*   Slice the first three columns in the array\n",
    "*   Slice the last three columns and reverse them\n",
    "*   Slice the last two rows and print them\n",
    "*   Slice the last integers in a row\n",
    "*   Slice rows and columns\n",
    "\n",
    "\n",
    "[Here](https://machinelearningmastery.com/index-slice-reshape-numpy-arrays-machine-learning-python/) some good examples ;-)\n",
    "\n",
    "\n",
    "\n"
   ]
  },
  {
   "cell_type": "code",
   "execution_count": null,
   "metadata": {
    "colab": {
     "base_uri": "https://localhost:8080/",
     "height": 86
    },
    "executionInfo": {
     "elapsed": 596,
     "status": "ok",
     "timestamp": 1603642567289,
     "user": {
      "displayName": "",
      "photoUrl": "",
      "userId": ""
     },
     "user_tz": -60
    },
    "id": "ksQUFmu3-HKl",
    "outputId": "c8273c70-68d4-4fec-e662-46f77c47c217"
   },
   "outputs": [
    {
     "data": {
      "text/plain": [
       "array([[ 1,  2,  3,  4,  5],\n",
       "       [ 6,  7,  8,  9, 10],\n",
       "       [11, 12, 13, 14, 15],\n",
       "       [16, 17, 18, 19, 20]])"
      ]
     },
     "execution_count": 37,
     "metadata": {
      "tags": []
     },
     "output_type": "execute_result"
    }
   ],
   "source": [
    "import numpy as np\n",
    "\n",
    "a = [[1, 2, 3, 4, 5], [6, 7, 8, 9, 10], [11, 12, 13, 14, 15], [16, 17, 18, 19, 20]]\n",
    "nd_a = np.array(a)\n",
    "nd_a"
   ]
  },
  {
   "cell_type": "code",
   "execution_count": null,
   "metadata": {
    "colab": {
     "base_uri": "https://localhost:8080/",
     "height": 86
    },
    "executionInfo": {
     "elapsed": 600,
     "status": "ok",
     "timestamp": 1603642576575,
     "user": {
      "displayName": "",
      "photoUrl": "",
      "userId": ""
     },
     "user_tz": -60
    },
    "id": "GDMyk3aOwotZ",
    "outputId": "03a1c11e-e7c3-4c83-fa8d-7eb333de340c"
   },
   "outputs": [
    {
     "data": {
      "text/plain": [
       "array([[ 1,  2,  3,  4,  5],\n",
       "       [ 6,  7,  8,  9, 10],\n",
       "       [11, 12, 13, 14, 15],\n",
       "       [16, 17, 18, 19, 20]])"
      ]
     },
     "execution_count": 38,
     "metadata": {
      "tags": []
     },
     "output_type": "execute_result"
    }
   ],
   "source": [
    "\"\"\"Print Whole Array\"\"\"\n",
    "\n",
    "nd_a[:]"
   ]
  },
  {
   "cell_type": "code",
   "execution_count": null,
   "metadata": {
    "colab": {
     "base_uri": "https://localhost:8080/",
     "height": 35
    },
    "executionInfo": {
     "elapsed": 828,
     "status": "ok",
     "timestamp": 1603643136107,
     "user": {
      "displayName": "",
      "photoUrl": "",
      "userId": ""
     },
     "user_tz": -60
    },
    "id": "KRzAMVpWi-Nr",
    "outputId": "5039d369-ad8b-4b05-b8f5-f191ac3115d5"
   },
   "outputs": [
    {
     "name": "stdout",
     "output_type": "stream",
     "text": [
      "[12]\n"
     ]
    }
   ],
   "source": [
    "\"\"\"Print number 12\"\"\"\n",
    "\n",
    "print(nd_a[2, [1]])"
   ]
  },
  {
   "cell_type": "code",
   "execution_count": null,
   "metadata": {
    "colab": {
     "base_uri": "https://localhost:8080/",
     "height": 86
    },
    "executionInfo": {
     "elapsed": 729,
     "status": "ok",
     "timestamp": 1603643117478,
     "user": {
      "displayName": "",
      "photoUrl": "",
      "userId": ""
     },
     "user_tz": -60
    },
    "id": "Nu8cEp0Mjh-r",
    "outputId": "d88de875-3886-47aa-e54b-0e6f16175d2b"
   },
   "outputs": [
    {
     "name": "stdout",
     "output_type": "stream",
     "text": [
      "[20 19 18 17 16]\n",
      "[15 14 13 12 11]\n",
      "[10  9  8  7  6]\n",
      "[5 4 3 2 1]\n"
     ]
    }
   ],
   "source": [
    "\"\"\"Reverse the array\"\"\"\n",
    "\n",
    "\n",
    "for i in nd_a[ : :-1]:\n",
    "  print(i[ : : -1])\n"
   ]
  },
  {
   "cell_type": "code",
   "execution_count": null,
   "metadata": {
    "colab": {
     "base_uri": "https://localhost:8080/",
     "height": 86
    },
    "executionInfo": {
     "elapsed": 604,
     "status": "ok",
     "timestamp": 1603644367655,
     "user": {
      "displayName": "",
      "photoUrl": "",
      "userId": ""
     },
     "user_tz": -60
    },
    "id": "rCiDWkmJlHjk",
    "outputId": "c2685291-b92e-44a9-e92c-6d7c8513a691"
   },
   "outputs": [
    {
     "data": {
      "text/plain": [
       "array([[ 5,  4,  3,  2,  1],\n",
       "       [ 6,  7,  8,  9, 10],\n",
       "       [11, 12, 13, 14, 15],\n",
       "       [16, 17, 18, 19, 20]])"
      ]
     },
     "execution_count": 86,
     "metadata": {
      "tags": []
     },
     "output_type": "execute_result"
    }
   ],
   "source": [
    "\"\"\"Reverse only one row in the array\"\"\"\n",
    "\n",
    "x = nd_a.copy()\n",
    "\n",
    "x[0] = nd_a[ 0:1 , : :-1]\n",
    "x"
   ]
  },
  {
   "cell_type": "code",
   "execution_count": null,
   "metadata": {
    "colab": {
     "base_uri": "https://localhost:8080/",
     "height": 86
    },
    "executionInfo": {
     "elapsed": 583,
     "status": "ok",
     "timestamp": 1603644597101,
     "user": {
      "displayName": "",
      "photoUrl": "",
      "userId": ""
     },
     "user_tz": -60
    },
    "id": "r1IIiAxip0Z5",
    "outputId": "8f6241a2-5304-4ba7-bd7b-440fee6fd272"
   },
   "outputs": [
    {
     "data": {
      "text/plain": [
       "array([[ 1,  2,  3],\n",
       "       [ 6,  7,  8],\n",
       "       [11, 12, 13],\n",
       "       [16, 17, 18]])"
      ]
     },
     "execution_count": 91,
     "metadata": {
      "tags": []
     },
     "output_type": "execute_result"
    }
   ],
   "source": [
    "\"\"\"Slice the first three columns in the array\"\"\"\n",
    "\n",
    "first_3 = nd_a[ : , 0:3]\n",
    "first_3"
   ]
  },
  {
   "cell_type": "code",
   "execution_count": null,
   "metadata": {
    "colab": {
     "base_uri": "https://localhost:8080/",
     "height": 86
    },
    "executionInfo": {
     "elapsed": 597,
     "status": "ok",
     "timestamp": 1603644735639,
     "user": {
      "displayName": "",
      "photoUrl": "",
      "userId": ""
     },
     "user_tz": -60
    },
    "id": "Tl-IFj_7qYoz",
    "outputId": "c97a9217-8aa4-46c3-81c1-63f111cb445f"
   },
   "outputs": [
    {
     "data": {
      "text/plain": [
       "array([[ 5,  4,  3],\n",
       "       [10,  9,  8],\n",
       "       [15, 14, 13],\n",
       "       [20, 19, 18]])"
      ]
     },
     "execution_count": 96,
     "metadata": {
      "tags": []
     },
     "output_type": "execute_result"
    }
   ],
   "source": [
    "\"\"\"Slice last 3 columns and reverse them\"\"\"\n",
    "\n",
    "last_3 = nd_a[:, -3:]\n",
    "last_3_rev = last_3[ : , : :-1]\n",
    "last_3_rev\n",
    "\n",
    "\n"
   ]
  },
  {
   "cell_type": "code",
   "execution_count": null,
   "metadata": {
    "colab": {
     "base_uri": "https://localhost:8080/",
     "height": 52
    },
    "executionInfo": {
     "elapsed": 1196,
     "status": "ok",
     "timestamp": 1603644819955,
     "user": {
      "displayName": "",
      "photoUrl": "",
      "userId": ""
     },
     "user_tz": -60
    },
    "id": "oC6tSnqbrNjB",
    "outputId": "31cb77f5-b800-4f2d-ffce-546553f97677"
   },
   "outputs": [
    {
     "name": "stdout",
     "output_type": "stream",
     "text": [
      "[[11 12 13 14 15]\n",
      " [16 17 18 19 20]]\n"
     ]
    }
   ],
   "source": [
    "\"\"\"Slice the last 2 rows\"\"\"\n",
    "\n",
    "last_2_rows = nd_a[-2:]\n",
    "print(last_2_rows)"
   ]
  },
  {
   "cell_type": "code",
   "execution_count": null,
   "metadata": {
    "colab": {
     "base_uri": "https://localhost:8080/",
     "height": 52
    },
    "executionInfo": {
     "elapsed": 689,
     "status": "ok",
     "timestamp": 1603646377194,
     "user": {
      "displayName": "",
      "photoUrl": "",
      "userId": ""
     },
     "user_tz": -60
    },
    "id": "fZSErFDgsfm-",
    "outputId": "678e4ca0-9e24-4448-a826-4c8398bd5262"
   },
   "outputs": [
    {
     "name": "stdout",
     "output_type": "stream",
     "text": [
      "[9]\n",
      "[6, 5, 8, 9]\n"
     ]
    }
   ],
   "source": [
    "\"\"\"Slice the last integers in a row\"\"\"\n",
    "\n",
    "x = [\"a\", \"b\", \"c\", 4, 6, \"d\", 5, 8, 9]\n",
    "\n",
    "\n",
    "y = []\n",
    "\n",
    "for i in x:\n",
    "  if type(i) == int:\n",
    "    y.append(i)\n",
    "\n",
    "y\n",
    "\n",
    "print(y[-1:])\n",
    "print(y[-4:])"
   ]
  },
  {
   "cell_type": "code",
   "execution_count": null,
   "metadata": {
    "colab": {
     "base_uri": "https://localhost:8080/",
     "height": 52
    },
    "executionInfo": {
     "elapsed": 578,
     "status": "ok",
     "timestamp": 1603645175920,
     "user": {
      "displayName": "",
      "photoUrl": "",
      "userId": ""
     },
     "user_tz": -60
    },
    "id": "yOOvuMOgsfsi",
    "outputId": "aa8b38c8-1657-4445-ed1f-a285e65cbc9e"
   },
   "outputs": [
    {
     "data": {
      "text/plain": [
       "array([[ 7,  8],\n",
       "       [12, 13]])"
      ]
     },
     "execution_count": 103,
     "metadata": {
      "tags": []
     },
     "output_type": "execute_result"
    }
   ],
   "source": [
    "\"\"\"Slice rows and columns\"\"\"\n",
    "\n",
    "sliced_row_col = nd_a[ 1:3, 1:3]\n",
    "sliced_row_col\n"
   ]
  },
  {
   "cell_type": "markdown",
   "metadata": {
    "id": "XrA3YsGkQVY4"
   },
   "source": [
    "# Exercise 3: when is best to bike alone?\n",
    "\n",
    "Given the bike dataset:\n",
    "\n",
    "* Download the Dataset using curl\n",
    "* Open the dataset using Pandas\n",
    "* Display the DataFrame\n",
    "* Reply to the following questions (either by plotting the graph and summarizing the values):\n",
    "\n",
    "    * When are the busiest hours per week in Total?\n",
    "    * Where will you be more comfortable (alone) riding during the week in West or East?\n",
    "    * What about riding during the business days? When and where are the best hours to ride alone between 06:00 and 10:00? And between 15:00 and 20:00?\n",
    "    * What happened during the coronavirus pandemic? Did the daily riding hours change? How many riders are passing through the bridge comparing 2018 and 2020?"
   ]
  },
  {
   "cell_type": "code",
   "execution_count": 3,
   "metadata": {
    "colab": {
     "base_uri": "https://localhost:8080/"
    },
    "executionInfo": {
     "elapsed": 3944,
     "status": "ok",
     "timestamp": 1603989058870,
     "user": {
      "displayName": "Luke Clarke",
      "photoUrl": "https://lh3.googleusercontent.com/-ds8_9UVCbA4/AAAAAAAAAAI/AAAAAAAAACc/kXWITE9QGm4/s64/photo.jpg",
      "userId": "00311603624727982337"
     },
     "user_tz": -60
    },
    "id": "007TRg0V4EUn",
    "outputId": "25b6da0a-b005-495b-8888-a6451b59dec7"
   },
   "outputs": [
    {
     "name": "stdout",
     "output_type": "stream",
     "text": [
      "  % Total    % Received % Xferd  Average Speed   Time    Time     Time  Current\n",
      "                                 Dload  Upload   Total   Spent    Left  Speed\n",
      "100 4248k    0 4248k    0     0  1351k      0 --:--:--  0:00:03 --:--:-- 1351k\n"
     ]
    }
   ],
   "source": [
    "\"\"\"Download the dataset using curl\"\"\"\n",
    "\n",
    "!curl -o FremontBridge.csv https://data.seattle.gov/api/views/65db-xm6k/rows.csv?accessType=DOWNLOAD"
   ]
  },
  {
   "cell_type": "code",
   "execution_count": 58,
   "metadata": {
    "colab": {
     "base_uri": "https://localhost:8080/",
     "height": 228
    },
    "executionInfo": {
     "elapsed": 14885,
     "status": "ok",
     "timestamp": 1603992009689,
     "user": {
      "displayName": "Luke Clarke",
      "photoUrl": "https://lh3.googleusercontent.com/-ds8_9UVCbA4/AAAAAAAAAAI/AAAAAAAAACc/kXWITE9QGm4/s64/photo.jpg",
      "userId": "00311603624727982337"
     },
     "user_tz": -60
    },
    "id": "ej7-wZiF_P0q",
    "outputId": "464436e7-7fea-4e75-a174-f319c97b516d"
   },
   "outputs": [
    {
     "data": {
      "text/html": [
       "<div>\n",
       "<style scoped>\n",
       "    .dataframe tbody tr th:only-of-type {\n",
       "        vertical-align: middle;\n",
       "    }\n",
       "\n",
       "    .dataframe tbody tr th {\n",
       "        vertical-align: top;\n",
       "    }\n",
       "\n",
       "    .dataframe thead th {\n",
       "        text-align: right;\n",
       "    }\n",
       "</style>\n",
       "<table border=\"1\" class=\"dataframe\">\n",
       "  <thead>\n",
       "    <tr style=\"text-align: right;\">\n",
       "      <th></th>\n",
       "      <th>Fremont Bridge Total</th>\n",
       "      <th>Fremont Bridge East Sidewalk</th>\n",
       "      <th>Fremont Bridge West Sidewalk</th>\n",
       "    </tr>\n",
       "    <tr>\n",
       "      <th>Date</th>\n",
       "      <th></th>\n",
       "      <th></th>\n",
       "      <th></th>\n",
       "    </tr>\n",
       "  </thead>\n",
       "  <tbody>\n",
       "    <tr>\n",
       "      <th>2012-10-03 00:00:00</th>\n",
       "      <td>13.0</td>\n",
       "      <td>4.0</td>\n",
       "      <td>9.0</td>\n",
       "    </tr>\n",
       "    <tr>\n",
       "      <th>2012-10-03 01:00:00</th>\n",
       "      <td>10.0</td>\n",
       "      <td>4.0</td>\n",
       "      <td>6.0</td>\n",
       "    </tr>\n",
       "    <tr>\n",
       "      <th>2012-10-03 02:00:00</th>\n",
       "      <td>2.0</td>\n",
       "      <td>1.0</td>\n",
       "      <td>1.0</td>\n",
       "    </tr>\n",
       "    <tr>\n",
       "      <th>2012-10-03 03:00:00</th>\n",
       "      <td>5.0</td>\n",
       "      <td>2.0</td>\n",
       "      <td>3.0</td>\n",
       "    </tr>\n",
       "    <tr>\n",
       "      <th>2012-10-03 04:00:00</th>\n",
       "      <td>7.0</td>\n",
       "      <td>6.0</td>\n",
       "      <td>1.0</td>\n",
       "    </tr>\n",
       "  </tbody>\n",
       "</table>\n",
       "</div>"
      ],
      "text/plain": [
       "                     Fremont Bridge Total  ...  Fremont Bridge West Sidewalk\n",
       "Date                                       ...                              \n",
       "2012-10-03 00:00:00                  13.0  ...                           9.0\n",
       "2012-10-03 01:00:00                  10.0  ...                           6.0\n",
       "2012-10-03 02:00:00                   2.0  ...                           1.0\n",
       "2012-10-03 03:00:00                   5.0  ...                           3.0\n",
       "2012-10-03 04:00:00                   7.0  ...                           1.0\n",
       "\n",
       "[5 rows x 3 columns]"
      ]
     },
     "execution_count": 58,
     "metadata": {
      "tags": []
     },
     "output_type": "execute_result"
    }
   ],
   "source": [
    "\"\"\"Open the dataset using pandas and display the dataframe\"\"\"\n",
    "\n",
    "import pandas as pd\n",
    "import matplotlib as plt\n",
    "\n",
    "# Within IPython notebook, add multiple print capabilities\n",
    "from IPython.core.interactiveshell import InteractiveShell\n",
    "InteractiveShell.ast_node_interactivity = \"all\"\n",
    "\n",
    "data = pd.read_csv('FremontBridge.csv', index_col='Date', parse_dates=True)\n",
    "data.head()"
   ]
  },
  {
   "cell_type": "code",
   "execution_count": 5,
   "metadata": {
    "colab": {
     "base_uri": "https://localhost:8080/",
     "height": 286
    },
    "executionInfo": {
     "elapsed": 3310,
     "status": "ok",
     "timestamp": 1603989080981,
     "user": {
      "displayName": "Luke Clarke",
      "photoUrl": "https://lh3.googleusercontent.com/-ds8_9UVCbA4/AAAAAAAAAAI/AAAAAAAAACc/kXWITE9QGm4/s64/photo.jpg",
      "userId": "00311603624727982337"
     },
     "user_tz": -60
    },
    "id": "UyTdJsQ0_P3O",
    "outputId": "74635095-98d5-4445-ef06-14cf1f8bd4f5"
   },
   "outputs": [
    {
     "data": {
      "text/plain": [
       "<matplotlib.axes._subplots.AxesSubplot at 0x7fd8713d8198>"
      ]
     },
     "execution_count": 5,
     "metadata": {
      "tags": []
     },
     "output_type": "execute_result"
    },
    {
     "data": {
      "image/png": "[encoded data removed]",
      "text/plain": [
       "<Figure size 432x288 with 1 Axes>"
      ]
     },
     "metadata": {
      "needs_background": "light",
      "tags": []
     },
     "output_type": "display_data"
    }
   ],
   "source": [
    "data.columns = ['Total', 'West', 'East']\n",
    "data.plot()\n"
   ]
  },
  {
   "cell_type": "code",
   "execution_count": 6,
   "metadata": {
    "colab": {
     "base_uri": "https://localhost:8080/",
     "height": 296
    },
    "executionInfo": {
     "elapsed": 870,
     "status": "ok",
     "timestamp": 1603989082323,
     "user": {
      "displayName": "Luke Clarke",
      "photoUrl": "https://lh3.googleusercontent.com/-ds8_9UVCbA4/AAAAAAAAAAI/AAAAAAAAACc/kXWITE9QGm4/s64/photo.jpg",
      "userId": "00311603624727982337"
     },
     "user_tz": -60
    },
    "id": "vSmo3rf8CQLN",
    "outputId": "6a354b95-f588-4064-fc50-1050747d702b"
   },
   "outputs": [
    {
     "data": {
      "text/plain": [
       "<matplotlib.axes._subplots.AxesSubplot at 0x7fd870d74b38>"
      ]
     },
     "execution_count": 6,
     "metadata": {
      "tags": []
     },
     "output_type": "execute_result"
    },
    {
     "data": {
      "image/png": "[encoded data removed]",
      "text/plain": [
       "<Figure size 432x288 with 1 Axes>"
      ]
     },
     "metadata": {
      "needs_background": "light",
      "tags": []
     },
     "output_type": "display_data"
    }
   ],
   "source": [
    "weekly = data.resample('W').sum()\n",
    "weekly.plot()"
   ]
  },
  {
   "cell_type": "markdown",
   "metadata": {
    "id": "sJteAhJQElMy"
   },
   "source": [
    "As we can see in the two graphs below. In for the total count of bicyclists the busiest time of the day on average is approximately 5:00pm ( when people are leaving work ) and the busiest day of the week is Tuesday. Thus, We can estimate that Tuesday at approximately 5pm will be the busiest time.\n",
    "\n",
    "Conversely, we can see that Sunday on the East side of the bridge is the quietest day of the week for cyclists, and the quietest time of the day is approximately 3:00am (Sunday night/Monday Morning). Thus, we can estimate that Sunday night/Monday morning at 3:00am on the East side of the bridge is when the cyclist will be most alone.\n"
   ]
  },
  {
   "cell_type": "code",
   "execution_count": 7,
   "metadata": {
    "colab": {
     "base_uri": "https://localhost:8080/",
     "height": 296
    },
    "executionInfo": {
     "elapsed": 818,
     "status": "ok",
     "timestamp": 1603989085645,
     "user": {
      "displayName": "Luke Clarke",
      "photoUrl": "https://lh3.googleusercontent.com/-ds8_9UVCbA4/AAAAAAAAAAI/AAAAAAAAACc/kXWITE9QGm4/s64/photo.jpg",
      "userId": "00311603624727982337"
     },
     "user_tz": -60
    },
    "id": "kFVgZq3a_P8S",
    "outputId": "ad1e8cc9-0a8f-48b8-affb-b0fa17578695"
   },
   "outputs": [
    {
     "data": {
      "text/plain": [
       "<matplotlib.axes._subplots.AxesSubplot at 0x7fd86f54a550>"
      ]
     },
     "execution_count": 7,
     "metadata": {
      "tags": []
     },
     "output_type": "execute_result"
    },
    {
     "data": {
      "image/png": "[encoded data removed]",
      "text/plain": [
       "<Figure size 432x288 with 1 Axes>"
      ]
     },
     "metadata": {
      "needs_background": "light",
      "tags": []
     },
     "output_type": "display_data"
    }
   ],
   "source": [
    "import numpy as np\n",
    "\n",
    "by_time = data.groupby(data.index.time).mean()\n",
    "by_time.plot(style = [':', '--', '-'])\n",
    "\n"
   ]
  },
  {
   "cell_type": "code",
   "execution_count": 8,
   "metadata": {
    "colab": {
     "base_uri": "https://localhost:8080/",
     "height": 282
    },
    "executionInfo": {
     "elapsed": 668,
     "status": "ok",
     "timestamp": 1603989087087,
     "user": {
      "displayName": "Luke Clarke",
      "photoUrl": "https://lh3.googleusercontent.com/-ds8_9UVCbA4/AAAAAAAAAAI/AAAAAAAAACc/kXWITE9QGm4/s64/photo.jpg",
      "userId": "00311603624727982337"
     },
     "user_tz": -60
    },
    "id": "7qnu1gW-_P6D",
    "outputId": "6b1cc677-a0f6-433d-8134-d1a010ccec62"
   },
   "outputs": [
    {
     "data": {
      "text/plain": [
       "<matplotlib.axes._subplots.AxesSubplot at 0x7fd86f518978>"
      ]
     },
     "execution_count": 8,
     "metadata": {
      "tags": []
     },
     "output_type": "execute_result"
    },
    {
     "data": {
      "image/png": "[encoded data removed]",
      "text/plain": [
       "<Figure size 432x288 with 1 Axes>"
      ]
     },
     "metadata": {
      "needs_background": "light",
      "tags": []
     },
     "output_type": "display_data"
    }
   ],
   "source": [
    "by_weekday = data.groupby(data.index.weekday).mean()\n",
    "by_weekday.index = ['Mon', 'Tues', 'Wed', 'Thurs', 'Fri', 'Sat', 'Sun']\n",
    "by_weekday.plot(style = [':', '--', '-'])"
   ]
  },
  {
   "cell_type": "markdown",
   "metadata": {
    "id": "j7FXMpuBtekN"
   },
   "source": [
    "Now in the below we are grouping by both weekday and time and plotting this to get more accurate results. \n",
    "\n",
    "Below, this plot we use the min, max, idxmin, idxmax functions to see the exact times at which the bridge is busiest and quietest.\n",
    "\n",
    "We can see that the busiest time in total is on Monday eveing at 5:00pm with an average count of 542 cyclists/hour.\n",
    "\n",
    "We can see that the quiestest time on the bridge is on the east side at 3:00am on Monday morning with an average of 1 cyclist/hour."
   ]
  },
  {
   "cell_type": "code",
   "execution_count": 9,
   "metadata": {
    "colab": {
     "base_uri": "https://localhost:8080/",
     "height": 351
    },
    "executionInfo": {
     "elapsed": 796,
     "status": "ok",
     "timestamp": 1603989130212,
     "user": {
      "displayName": "Luke Clarke",
      "photoUrl": "https://lh3.googleusercontent.com/-ds8_9UVCbA4/AAAAAAAAAAI/AAAAAAAAACc/kXWITE9QGm4/s64/photo.jpg",
      "userId": "00311603624727982337"
     },
     "user_tz": -60
    },
    "id": "mS2gXcjqnjZ6",
    "outputId": "3fec3117-05ea-469b-c0b8-dbcd8d51537d"
   },
   "outputs": [
    {
     "data": {
      "text/plain": [
       "<matplotlib.axes._subplots.AxesSubplot at 0x7fd86f5135f8>"
      ]
     },
     "execution_count": 9,
     "metadata": {
      "tags": []
     },
     "output_type": "execute_result"
    },
    {
     "data": {
      "image/png": "[encoded data removed]",
      "text/plain": [
       "<Figure size 432x288 with 1 Axes>"
      ]
     },
     "metadata": {
      "needs_background": "light",
      "tags": []
     },
     "output_type": "display_data"
    }
   ],
   "source": [
    "by_weekday_time = data.groupby([data.index.weekday, data.index.time]).mean()\n",
    "by_weekday_time.plot(rot=90)"
   ]
  },
  {
   "cell_type": "code",
   "execution_count": 10,
   "metadata": {
    "colab": {
     "base_uri": "https://localhost:8080/",
     "height": 437
    },
    "executionInfo": {
     "elapsed": 469,
     "status": "ok",
     "timestamp": 1603989133808,
     "user": {
      "displayName": "Luke Clarke",
      "photoUrl": "https://lh3.googleusercontent.com/-ds8_9UVCbA4/AAAAAAAAAAI/AAAAAAAAACc/kXWITE9QGm4/s64/photo.jpg",
      "userId": "00311603624727982337"
     },
     "user_tz": -60
    },
    "id": "27S_2tJRzxNF",
    "outputId": "f8188285-de48-446d-e74c-6ea1be670c01"
   },
   "outputs": [
    {
     "data": {
      "text/html": [
       "<div>\n",
       "<style scoped>\n",
       "    .dataframe tbody tr th:only-of-type {\n",
       "        vertical-align: middle;\n",
       "    }\n",
       "\n",
       "    .dataframe tbody tr th {\n",
       "        vertical-align: top;\n",
       "    }\n",
       "\n",
       "    .dataframe thead th {\n",
       "        text-align: right;\n",
       "    }\n",
       "</style>\n",
       "<table border=\"1\" class=\"dataframe\">\n",
       "  <thead>\n",
       "    <tr style=\"text-align: right;\">\n",
       "      <th></th>\n",
       "      <th></th>\n",
       "      <th>Total</th>\n",
       "      <th>West</th>\n",
       "      <th>East</th>\n",
       "    </tr>\n",
       "    <tr>\n",
       "      <th>Date</th>\n",
       "      <th></th>\n",
       "      <th></th>\n",
       "      <th></th>\n",
       "      <th></th>\n",
       "    </tr>\n",
       "  </thead>\n",
       "  <tbody>\n",
       "    <tr>\n",
       "      <th rowspan=\"5\" valign=\"top\">0</th>\n",
       "      <th>00:00:00</th>\n",
       "      <td>7.054254</td>\n",
       "      <td>2.985203</td>\n",
       "      <td>4.069051</td>\n",
       "    </tr>\n",
       "    <tr>\n",
       "      <th>01:00:00</th>\n",
       "      <td>3.350185</td>\n",
       "      <td>1.471023</td>\n",
       "      <td>1.879162</td>\n",
       "    </tr>\n",
       "    <tr>\n",
       "      <th>02:00:00</th>\n",
       "      <td>2.367448</td>\n",
       "      <td>1.193588</td>\n",
       "      <td>1.173859</td>\n",
       "    </tr>\n",
       "    <tr>\n",
       "      <th>03:00:00</th>\n",
       "      <td>2.278668</td>\n",
       "      <td>1.213317</td>\n",
       "      <td>1.065351</td>\n",
       "    </tr>\n",
       "    <tr>\n",
       "      <th>04:00:00</th>\n",
       "      <td>7.257707</td>\n",
       "      <td>3.891492</td>\n",
       "      <td>3.366215</td>\n",
       "    </tr>\n",
       "    <tr>\n",
       "      <th>...</th>\n",
       "      <th>...</th>\n",
       "      <td>...</td>\n",
       "      <td>...</td>\n",
       "      <td>...</td>\n",
       "    </tr>\n",
       "    <tr>\n",
       "      <th rowspan=\"5\" valign=\"top\">6</th>\n",
       "      <th>19:00:00</th>\n",
       "      <td>54.573366</td>\n",
       "      <td>26.940814</td>\n",
       "      <td>27.632552</td>\n",
       "    </tr>\n",
       "    <tr>\n",
       "      <th>20:00:00</th>\n",
       "      <td>38.829840</td>\n",
       "      <td>18.679408</td>\n",
       "      <td>20.150432</td>\n",
       "    </tr>\n",
       "    <tr>\n",
       "      <th>21:00:00</th>\n",
       "      <td>25.451295</td>\n",
       "      <td>11.961776</td>\n",
       "      <td>13.489519</td>\n",
       "    </tr>\n",
       "    <tr>\n",
       "      <th>22:00:00</th>\n",
       "      <td>17.879162</td>\n",
       "      <td>7.776819</td>\n",
       "      <td>10.102343</td>\n",
       "    </tr>\n",
       "    <tr>\n",
       "      <th>23:00:00</th>\n",
       "      <td>12.226880</td>\n",
       "      <td>4.877928</td>\n",
       "      <td>7.348952</td>\n",
       "    </tr>\n",
       "  </tbody>\n",
       "</table>\n",
       "<p>168 rows × 3 columns</p>\n",
       "</div>"
      ],
      "text/plain": [
       "                   Total       West       East\n",
       "Date                                          \n",
       "0    00:00:00   7.054254   2.985203   4.069051\n",
       "     01:00:00   3.350185   1.471023   1.879162\n",
       "     02:00:00   2.367448   1.193588   1.173859\n",
       "     03:00:00   2.278668   1.213317   1.065351\n",
       "     04:00:00   7.257707   3.891492   3.366215\n",
       "...                  ...        ...        ...\n",
       "6    19:00:00  54.573366  26.940814  27.632552\n",
       "     20:00:00  38.829840  18.679408  20.150432\n",
       "     21:00:00  25.451295  11.961776  13.489519\n",
       "     22:00:00  17.879162   7.776819  10.102343\n",
       "     23:00:00  12.226880   4.877928   7.348952\n",
       "\n",
       "[168 rows x 3 columns]"
      ]
     },
     "execution_count": 10,
     "metadata": {
      "tags": []
     },
     "output_type": "execute_result"
    }
   ],
   "source": [
    "by_weekday_time"
   ]
  },
  {
   "cell_type": "code",
   "execution_count": 11,
   "metadata": {
    "colab": {
     "base_uri": "https://localhost:8080/"
    },
    "executionInfo": {
     "elapsed": 468,
     "status": "ok",
     "timestamp": 1603989144537,
     "user": {
      "displayName": "Luke Clarke",
      "photoUrl": "https://lh3.googleusercontent.com/-ds8_9UVCbA4/AAAAAAAAAAI/AAAAAAAAACc/kXWITE9QGm4/s64/photo.jpg",
      "userId": "00311603624727982337"
     },
     "user_tz": -60
    },
    "id": "0WHURWvlsw1Z",
    "outputId": "afeb512e-8e77-4488-e030-fedd7ce16242"
   },
   "outputs": [
    {
     "data": {
      "text/plain": [
       "Total    541.890259\n",
       "West     275.182491\n",
       "East     398.471023\n",
       "dtype: float64"
      ]
     },
     "execution_count": 11,
     "metadata": {
      "tags": []
     },
     "output_type": "execute_result"
    }
   ],
   "source": [
    "by_weekday_time.max()"
   ]
  },
  {
   "cell_type": "code",
   "execution_count": 12,
   "metadata": {
    "colab": {
     "base_uri": "https://localhost:8080/"
    },
    "executionInfo": {
     "elapsed": 451,
     "status": "ok",
     "timestamp": 1603989146335,
     "user": {
      "displayName": "Luke Clarke",
      "photoUrl": "https://lh3.googleusercontent.com/-ds8_9UVCbA4/AAAAAAAAAAI/AAAAAAAAACc/kXWITE9QGm4/s64/photo.jpg",
      "userId": "00311603624727982337"
     },
     "user_tz": -60
    },
    "id": "u7VQymXXrVGz",
    "outputId": "0e5324fe-a42d-4e6e-ca5e-50790bce35a3"
   },
   "outputs": [
    {
     "data": {
      "text/plain": [
       "Total    (1, 17:00:00)\n",
       "West     (1, 08:00:00)\n",
       "East     (1, 17:00:00)\n",
       "dtype: object"
      ]
     },
     "execution_count": 12,
     "metadata": {
      "tags": []
     },
     "output_type": "execute_result"
    }
   ],
   "source": [
    "by_weekday_time.idxmax()"
   ]
  },
  {
   "cell_type": "code",
   "execution_count": 13,
   "metadata": {
    "colab": {
     "base_uri": "https://localhost:8080/"
    },
    "executionInfo": {
     "elapsed": 328,
     "status": "ok",
     "timestamp": 1603989147023,
     "user": {
      "displayName": "Luke Clarke",
      "photoUrl": "https://lh3.googleusercontent.com/-ds8_9UVCbA4/AAAAAAAAAAI/AAAAAAAAACc/kXWITE9QGm4/s64/photo.jpg",
      "userId": "00311603624727982337"
     },
     "user_tz": -60
    },
    "id": "QxFcE267rmaK",
    "outputId": "b245ab91-d793-407b-89b6-5536b214ce00"
   },
   "outputs": [
    {
     "data": {
      "text/plain": [
       "Total    2.278668\n",
       "West     1.193588\n",
       "East     1.065351\n",
       "dtype: float64"
      ]
     },
     "execution_count": 13,
     "metadata": {
      "tags": []
     },
     "output_type": "execute_result"
    }
   ],
   "source": [
    "by_weekday_time.min()"
   ]
  },
  {
   "cell_type": "code",
   "execution_count": 14,
   "metadata": {
    "colab": {
     "base_uri": "https://localhost:8080/"
    },
    "executionInfo": {
     "elapsed": 534,
     "status": "ok",
     "timestamp": 1603989148007,
     "user": {
      "displayName": "Luke Clarke",
      "photoUrl": "https://lh3.googleusercontent.com/-ds8_9UVCbA4/AAAAAAAAAAI/AAAAAAAAACc/kXWITE9QGm4/s64/photo.jpg",
      "userId": "00311603624727982337"
     },
     "user_tz": -60
    },
    "id": "Es5cLVYSsoi1",
    "outputId": "96e3148a-6e9a-4edd-a45c-71f1cabb6d96"
   },
   "outputs": [
    {
     "data": {
      "text/plain": [
       "Total    (0, 03:00:00)\n",
       "West     (0, 02:00:00)\n",
       "East     (0, 03:00:00)\n",
       "dtype: object"
      ]
     },
     "execution_count": 14,
     "metadata": {
      "tags": []
     },
     "output_type": "execute_result"
    }
   ],
   "source": [
    "by_weekday_time.idxmin()"
   ]
  },
  {
   "cell_type": "code",
   "execution_count": 36,
   "metadata": {
    "colab": {
     "base_uri": "https://localhost:8080/"
    },
    "executionInfo": {
     "elapsed": 502,
     "status": "ok",
     "timestamp": 1603991403808,
     "user": {
      "displayName": "Luke Clarke",
      "photoUrl": "https://lh3.googleusercontent.com/-ds8_9UVCbA4/AAAAAAAAAAI/AAAAAAAAACc/kXWITE9QGm4/s64/photo.jpg",
      "userId": "00311603624727982337"
     },
     "user_tz": -60
    },
    "id": "w94TRyqUURRM",
    "outputId": "07ebdd30-0245-43a6-b1d5-3c09c5203623"
   },
   "outputs": [
    {
     "data": {
      "text/plain": [
       "array(['Weekday', 'Weekday', 'Weekday', ..., 'Weekday', 'Weekday',\n",
       "       'Weekday'], dtype='<U7')"
      ]
     },
     "execution_count": 36,
     "metadata": {
      "tags": []
     },
     "output_type": "execute_result"
    }
   ],
   "source": [
    "\"\"\"Riding During Business Days? 6:00 - 10:00 & 15:00 - 20:00\"\"\"\n",
    "\n",
    "weekend = np.where(data.index.weekday < 5, 'Weekday', 'Weekend')\n",
    "weekend"
   ]
  },
  {
   "cell_type": "code",
   "execution_count": 63,
   "metadata": {
    "colab": {
     "base_uri": "https://localhost:8080/",
     "height": 198
    },
    "executionInfo": {
     "elapsed": 454,
     "status": "ok",
     "timestamp": 1603992465940,
     "user": {
      "displayName": "Luke Clarke",
      "photoUrl": "https://lh3.googleusercontent.com/-ds8_9UVCbA4/AAAAAAAAAAI/AAAAAAAAACc/kXWITE9QGm4/s64/photo.jpg",
      "userId": "00311603624727982337"
     },
     "user_tz": -60
    },
    "id": "zjQPIuinZaAQ",
    "outputId": "9bc42a30-f111-4232-eb95-d3e20a24f283"
   },
   "outputs": [
    {
     "data": {
      "text/html": [
       "<div>\n",
       "<style scoped>\n",
       "    .dataframe tbody tr th:only-of-type {\n",
       "        vertical-align: middle;\n",
       "    }\n",
       "\n",
       "    .dataframe tbody tr th {\n",
       "        vertical-align: top;\n",
       "    }\n",
       "\n",
       "    .dataframe thead th {\n",
       "        text-align: right;\n",
       "    }\n",
       "</style>\n",
       "<table border=\"1\" class=\"dataframe\">\n",
       "  <thead>\n",
       "    <tr style=\"text-align: right;\">\n",
       "      <th></th>\n",
       "      <th>Fremont Bridge Total</th>\n",
       "      <th>Fremont Bridge East Sidewalk</th>\n",
       "      <th>Fremont Bridge West Sidewalk</th>\n",
       "    </tr>\n",
       "  </thead>\n",
       "  <tbody>\n",
       "    <tr>\n",
       "      <th>00:00:00</th>\n",
       "      <td>9.431387</td>\n",
       "      <td>4.044346</td>\n",
       "      <td>5.387041</td>\n",
       "    </tr>\n",
       "    <tr>\n",
       "      <th>01:00:00</th>\n",
       "      <td>4.671348</td>\n",
       "      <td>2.100271</td>\n",
       "      <td>2.571077</td>\n",
       "    </tr>\n",
       "    <tr>\n",
       "      <th>02:00:00</th>\n",
       "      <td>3.115792</td>\n",
       "      <td>1.535600</td>\n",
       "      <td>1.580192</td>\n",
       "    </tr>\n",
       "    <tr>\n",
       "      <th>03:00:00</th>\n",
       "      <td>2.678739</td>\n",
       "      <td>1.396403</td>\n",
       "      <td>1.282336</td>\n",
       "    </tr>\n",
       "    <tr>\n",
       "      <th>04:00:00</th>\n",
       "      <td>7.534122</td>\n",
       "      <td>4.177384</td>\n",
       "      <td>3.356738</td>\n",
       "    </tr>\n",
       "  </tbody>\n",
       "</table>\n",
       "</div>"
      ],
      "text/plain": [
       "          Fremont Bridge Total  ...  Fremont Bridge West Sidewalk\n",
       "00:00:00              9.431387  ...                      5.387041\n",
       "01:00:00              4.671348  ...                      2.571077\n",
       "02:00:00              3.115792  ...                      1.580192\n",
       "03:00:00              2.678739  ...                      1.282336\n",
       "04:00:00              7.534122  ...                      3.356738\n",
       "\n",
       "[5 rows x 3 columns]"
      ]
     },
     "execution_count": 63,
     "metadata": {
      "tags": []
     },
     "output_type": "execute_result"
    }
   ],
   "source": [
    "by_time = data.groupby([weekend, data.index.time]).mean()\n",
    "business_days = by_time.loc['Weekday']\n",
    "business_days.head()"
   ]
  },
  {
   "cell_type": "code",
   "execution_count": 71,
   "metadata": {
    "colab": {
     "base_uri": "https://localhost:8080/",
     "height": 198
    },
    "executionInfo": {
     "elapsed": 463,
     "status": "ok",
     "timestamp": 1603992638455,
     "user": {
      "displayName": "Luke Clarke",
      "photoUrl": "https://lh3.googleusercontent.com/-ds8_9UVCbA4/AAAAAAAAAAI/AAAAAAAAACc/kXWITE9QGm4/s64/photo.jpg",
      "userId": "00311603624727982337"
     },
     "user_tz": -60
    },
    "id": "MgyFUS2oZpXS",
    "outputId": "ffd6fc0f-2c52-4a99-9a2d-ec8f6fb21cc7"
   },
   "outputs": [
    {
     "data": {
      "text/html": [
       "<div>\n",
       "<style scoped>\n",
       "    .dataframe tbody tr th:only-of-type {\n",
       "        vertical-align: middle;\n",
       "    }\n",
       "\n",
       "    .dataframe tbody tr th {\n",
       "        vertical-align: top;\n",
       "    }\n",
       "\n",
       "    .dataframe thead th {\n",
       "        text-align: right;\n",
       "    }\n",
       "</style>\n",
       "<table border=\"1\" class=\"dataframe\">\n",
       "  <thead>\n",
       "    <tr style=\"text-align: right;\">\n",
       "      <th></th>\n",
       "      <th>Fremont Bridge Total</th>\n",
       "      <th>Fremont Bridge East Sidewalk</th>\n",
       "      <th>Fremont Bridge West Sidewalk</th>\n",
       "    </tr>\n",
       "  </thead>\n",
       "  <tbody>\n",
       "    <tr>\n",
       "      <th>06:00:00</th>\n",
       "      <td>118.766199</td>\n",
       "      <td>72.202020</td>\n",
       "      <td>46.564178</td>\n",
       "    </tr>\n",
       "    <tr>\n",
       "      <th>07:00:00</th>\n",
       "      <td>303.740823</td>\n",
       "      <td>189.646957</td>\n",
       "      <td>114.093865</td>\n",
       "    </tr>\n",
       "    <tr>\n",
       "      <th>08:00:00</th>\n",
       "      <td>425.290712</td>\n",
       "      <td>251.848731</td>\n",
       "      <td>173.441981</td>\n",
       "    </tr>\n",
       "    <tr>\n",
       "      <th>09:00:00</th>\n",
       "      <td>230.423219</td>\n",
       "      <td>125.491250</td>\n",
       "      <td>104.931969</td>\n",
       "    </tr>\n",
       "    <tr>\n",
       "      <th>10:00:00</th>\n",
       "      <td>100.123983</td>\n",
       "      <td>51.877742</td>\n",
       "      <td>48.246241</td>\n",
       "    </tr>\n",
       "  </tbody>\n",
       "</table>\n",
       "</div>"
      ],
      "text/plain": [
       "          Fremont Bridge Total  ...  Fremont Bridge West Sidewalk\n",
       "06:00:00            118.766199  ...                     46.564178\n",
       "07:00:00            303.740823  ...                    114.093865\n",
       "08:00:00            425.290712  ...                    173.441981\n",
       "09:00:00            230.423219  ...                    104.931969\n",
       "10:00:00            100.123983  ...                     48.246241\n",
       "\n",
       "[5 rows x 3 columns]"
      ]
     },
     "execution_count": 71,
     "metadata": {
      "tags": []
     },
     "output_type": "execute_result"
    }
   ],
   "source": [
    "business_days_morning = business_days.iloc[6:11]\n",
    "business_days_morning\n"
   ]
  },
  {
   "cell_type": "code",
   "execution_count": 76,
   "metadata": {
    "colab": {
     "base_uri": "https://localhost:8080/"
    },
    "executionInfo": {
     "elapsed": 496,
     "status": "ok",
     "timestamp": 1603992795694,
     "user": {
      "displayName": "Luke Clarke",
      "photoUrl": "https://lh3.googleusercontent.com/-ds8_9UVCbA4/AAAAAAAAAAI/AAAAAAAAACc/kXWITE9QGm4/s64/photo.jpg",
      "userId": "00311603624727982337"
     },
     "user_tz": -60
    },
    "id": "abTSiHqUa4EB",
    "outputId": "150ca02a-6368-4b1c-8e3d-707c45334a5c"
   },
   "outputs": [
    {
     "data": {
      "text/plain": [
       "Fremont Bridge Total            10:00:00\n",
       "Fremont Bridge East Sidewalk    10:00:00\n",
       "Fremont Bridge West Sidewalk    06:00:00\n",
       "dtype: object"
      ]
     },
     "execution_count": 76,
     "metadata": {
      "tags": []
     },
     "output_type": "execute_result"
    }
   ],
   "source": [
    "# Quietest hour to ride alone during the week from 6am - 10am, is 6:00am on the west side of the bridge\n",
    "# With an average of 47 people crossing the bridge during that hour\n",
    "\n",
    "business_days_morning.idxmin() "
   ]
  },
  {
   "cell_type": "code",
   "execution_count": 77,
   "metadata": {
    "colab": {
     "base_uri": "https://localhost:8080/"
    },
    "executionInfo": {
     "elapsed": 447,
     "status": "ok",
     "timestamp": 1603992814326,
     "user": {
      "displayName": "Luke Clarke",
      "photoUrl": "https://lh3.googleusercontent.com/-ds8_9UVCbA4/AAAAAAAAAAI/AAAAAAAAACc/kXWITE9QGm4/s64/photo.jpg",
      "userId": "00311603624727982337"
     },
     "user_tz": -60
    },
    "id": "6KvP_-WXa4L4",
    "outputId": "ad0c3c51-2fc6-47f4-931d-691c8db0c905"
   },
   "outputs": [
    {
     "data": {
      "text/plain": [
       "Fremont Bridge Total            100.123983\n",
       "Fremont Bridge East Sidewalk     51.877742\n",
       "Fremont Bridge West Sidewalk     46.564178\n",
       "dtype: float64"
      ]
     },
     "execution_count": 77,
     "metadata": {
      "tags": []
     },
     "output_type": "execute_result"
    }
   ],
   "source": [
    "business_days_morning.min()"
   ]
  },
  {
   "cell_type": "code",
   "execution_count": 74,
   "metadata": {
    "colab": {
     "base_uri": "https://localhost:8080/",
     "height": 228
    },
    "executionInfo": {
     "elapsed": 510,
     "status": "ok",
     "timestamp": 1603992756055,
     "user": {
      "displayName": "Luke Clarke",
      "photoUrl": "https://lh3.googleusercontent.com/-ds8_9UVCbA4/AAAAAAAAAAI/AAAAAAAAACc/kXWITE9QGm4/s64/photo.jpg",
      "userId": "00311603624727982337"
     },
     "user_tz": -60
    },
    "id": "zWDvfF7jZ2eb",
    "outputId": "5f7bcd72-f13a-4aca-e426-c771509cdb05"
   },
   "outputs": [
    {
     "data": {
      "text/html": [
       "<div>\n",
       "<style scoped>\n",
       "    .dataframe tbody tr th:only-of-type {\n",
       "        vertical-align: middle;\n",
       "    }\n",
       "\n",
       "    .dataframe tbody tr th {\n",
       "        vertical-align: top;\n",
       "    }\n",
       "\n",
       "    .dataframe thead th {\n",
       "        text-align: right;\n",
       "    }\n",
       "</style>\n",
       "<table border=\"1\" class=\"dataframe\">\n",
       "  <thead>\n",
       "    <tr style=\"text-align: right;\">\n",
       "      <th></th>\n",
       "      <th>Fremont Bridge Total</th>\n",
       "      <th>Fremont Bridge East Sidewalk</th>\n",
       "      <th>Fremont Bridge West Sidewalk</th>\n",
       "    </tr>\n",
       "  </thead>\n",
       "  <tbody>\n",
       "    <tr>\n",
       "      <th>15:00:00</th>\n",
       "      <td>140.250123</td>\n",
       "      <td>58.355101</td>\n",
       "      <td>81.895022</td>\n",
       "    </tr>\n",
       "    <tr>\n",
       "      <th>16:00:00</th>\n",
       "      <td>272.713406</td>\n",
       "      <td>89.993593</td>\n",
       "      <td>182.719813</td>\n",
       "    </tr>\n",
       "    <tr>\n",
       "      <th>17:00:00</th>\n",
       "      <td>499.379004</td>\n",
       "      <td>135.690734</td>\n",
       "      <td>363.688270</td>\n",
       "    </tr>\n",
       "    <tr>\n",
       "      <th>18:00:00</th>\n",
       "      <td>336.076639</td>\n",
       "      <td>108.350665</td>\n",
       "      <td>227.725973</td>\n",
       "    </tr>\n",
       "    <tr>\n",
       "      <th>19:00:00</th>\n",
       "      <td>159.715623</td>\n",
       "      <td>58.151306</td>\n",
       "      <td>101.564317</td>\n",
       "    </tr>\n",
       "    <tr>\n",
       "      <th>20:00:00</th>\n",
       "      <td>88.239280</td>\n",
       "      <td>34.779694</td>\n",
       "      <td>53.459586</td>\n",
       "    </tr>\n",
       "  </tbody>\n",
       "</table>\n",
       "</div>"
      ],
      "text/plain": [
       "          Fremont Bridge Total  ...  Fremont Bridge West Sidewalk\n",
       "15:00:00            140.250123  ...                     81.895022\n",
       "16:00:00            272.713406  ...                    182.719813\n",
       "17:00:00            499.379004  ...                    363.688270\n",
       "18:00:00            336.076639  ...                    227.725973\n",
       "19:00:00            159.715623  ...                    101.564317\n",
       "20:00:00             88.239280  ...                     53.459586\n",
       "\n",
       "[6 rows x 3 columns]"
      ]
     },
     "execution_count": 74,
     "metadata": {
      "tags": []
     },
     "output_type": "execute_result"
    }
   ],
   "source": [
    "business_days_evening = business_days.iloc[15:21]\n",
    "business_days_evening"
   ]
  },
  {
   "cell_type": "code",
   "execution_count": 79,
   "metadata": {
    "colab": {
     "base_uri": "https://localhost:8080/"
    },
    "executionInfo": {
     "elapsed": 463,
     "status": "ok",
     "timestamp": 1603992988745,
     "user": {
      "displayName": "Luke Clarke",
      "photoUrl": "https://lh3.googleusercontent.com/-ds8_9UVCbA4/AAAAAAAAAAI/AAAAAAAAACc/kXWITE9QGm4/s64/photo.jpg",
      "userId": "00311603624727982337"
     },
     "user_tz": -60
    },
    "id": "7zGeoQGia0b9",
    "outputId": "5fe8eb3d-317f-4ad4-e7b4-fb54548ff93f"
   },
   "outputs": [
    {
     "data": {
      "text/plain": [
       "Fremont Bridge Total            20:00:00\n",
       "Fremont Bridge East Sidewalk    20:00:00\n",
       "Fremont Bridge West Sidewalk    20:00:00\n",
       "dtype: object"
      ]
     },
     "execution_count": 79,
     "metadata": {
      "tags": []
     },
     "output_type": "execute_result"
    }
   ],
   "source": [
    "# Quietest hour to ride alone during the week from 3pm - 8pmm, is 8:00pm on the west side of the bridge\n",
    "# With an average of 53 people crossing the bridge during that hour\n",
    "\n",
    "business_days_evening.idxmin()"
   ]
  },
  {
   "cell_type": "code",
   "execution_count": 80,
   "metadata": {
    "colab": {
     "base_uri": "https://localhost:8080/"
    },
    "executionInfo": {
     "elapsed": 313,
     "status": "ok",
     "timestamp": 1603992989387,
     "user": {
      "displayName": "Luke Clarke",
      "photoUrl": "https://lh3.googleusercontent.com/-ds8_9UVCbA4/AAAAAAAAAAI/AAAAAAAAACc/kXWITE9QGm4/s64/photo.jpg",
      "userId": "00311603624727982337"
     },
     "user_tz": -60
    },
    "id": "2vDUHXe4anWn",
    "outputId": "dca941bb-11ce-4373-f9be-9062f783edb9"
   },
   "outputs": [
    {
     "data": {
      "text/plain": [
       "Fremont Bridge Total            88.239280\n",
       "Fremont Bridge East Sidewalk    34.779694\n",
       "Fremont Bridge West Sidewalk    53.459586\n",
       "dtype: float64"
      ]
     },
     "execution_count": 80,
     "metadata": {
      "tags": []
     },
     "output_type": "execute_result"
    }
   ],
   "source": [
    "business_days_evening.min()"
   ]
  },
  {
   "cell_type": "code",
   "execution_count": 86,
   "metadata": {
    "colab": {
     "base_uri": "https://localhost:8080/",
     "height": 279
    },
    "executionInfo": {
     "elapsed": 1023,
     "status": "ok",
     "timestamp": 1603993438700,
     "user": {
      "displayName": "Luke Clarke",
      "photoUrl": "https://lh3.googleusercontent.com/-ds8_9UVCbA4/AAAAAAAAAAI/AAAAAAAAACc/kXWITE9QGm4/s64/photo.jpg",
      "userId": "00311603624727982337"
     },
     "user_tz": -60
    },
    "id": "Ja4ZJCVg4OvP",
    "outputId": "fd6a5151-c5ea-4e72-fb5f-825b09bde7d5"
   },
   "outputs": [
    {
     "data": {
      "image/png": "[encoded data removed]",
      "text/plain": [
       "<Figure size 432x288 with 1 Axes>"
      ]
     },
     "metadata": {
      "needs_background": "light",
      "tags": []
     },
     "output_type": "display_data"
    }
   ],
   "source": [
    "# In the below plotted daily rolling average, you can see that there is a clear trail off in the number of cyclists on the bridge\n",
    "# once covid occurs around the beginning of 2020\n",
    "\n",
    "daily = data.resample('D').sum()\n",
    "daily.rolling(50, center=True,\n",
    "              win_type='gaussian').sum(std=10).plot(style=[':', '--', '-']);"
   ]
  },
  {
   "cell_type": "code",
   "execution_count": 92,
   "metadata": {
    "colab": {
     "base_uri": "https://localhost:8080/",
     "height": 168
    },
    "executionInfo": {
     "elapsed": 660,
     "status": "ok",
     "timestamp": 1603993724465,
     "user": {
      "displayName": "Luke Clarke",
      "photoUrl": "https://lh3.googleusercontent.com/-ds8_9UVCbA4/AAAAAAAAAAI/AAAAAAAAACc/kXWITE9QGm4/s64/photo.jpg",
      "userId": "00311603624727982337"
     },
     "user_tz": -60
    },
    "id": "0buNx2k85VAN",
    "outputId": "d8e0bc72-22de-439c-9b87-681b752966b1"
   },
   "outputs": [
    {
     "data": {
      "text/html": [
       "<div>\n",
       "<style scoped>\n",
       "    .dataframe tbody tr th:only-of-type {\n",
       "        vertical-align: middle;\n",
       "    }\n",
       "\n",
       "    .dataframe tbody tr th {\n",
       "        vertical-align: top;\n",
       "    }\n",
       "\n",
       "    .dataframe thead th {\n",
       "        text-align: right;\n",
       "    }\n",
       "</style>\n",
       "<table border=\"1\" class=\"dataframe\">\n",
       "  <thead>\n",
       "    <tr style=\"text-align: right;\">\n",
       "      <th></th>\n",
       "      <th>Total</th>\n",
       "      <th>East</th>\n",
       "      <th>West</th>\n",
       "    </tr>\n",
       "    <tr>\n",
       "      <th>Date</th>\n",
       "      <th></th>\n",
       "      <th></th>\n",
       "      <th></th>\n",
       "    </tr>\n",
       "  </thead>\n",
       "  <tbody>\n",
       "    <tr>\n",
       "      <th>2018-12-31</th>\n",
       "      <td>2103760.0</td>\n",
       "      <td>851310.0</td>\n",
       "      <td>1252450.0</td>\n",
       "    </tr>\n",
       "    <tr>\n",
       "      <th>2019-12-31</th>\n",
       "      <td>2374292.0</td>\n",
       "      <td>899708.0</td>\n",
       "      <td>1474584.0</td>\n",
       "    </tr>\n",
       "    <tr>\n",
       "      <th>2020-12-31</th>\n",
       "      <td>883224.0</td>\n",
       "      <td>362068.0</td>\n",
       "      <td>521156.0</td>\n",
       "    </tr>\n",
       "  </tbody>\n",
       "</table>\n",
       "</div>"
      ],
      "text/plain": [
       "                Total      East       West\n",
       "Date                                      \n",
       "2018-12-31  2103760.0  851310.0  1252450.0\n",
       "2019-12-31  2374292.0  899708.0  1474584.0\n",
       "2020-12-31   883224.0  362068.0   521156.0"
      ]
     },
     "execution_count": 92,
     "metadata": {
      "tags": []
     },
     "output_type": "execute_result"
    }
   ],
   "source": [
    "by_year = data.resample('Y').sum()\n",
    "by_year.columns = ['Total', 'East', 'West']\n",
    "by_year[\"2018-12\":]"
   ]
  },
  {
   "cell_type": "code",
   "execution_count": 115,
   "metadata": {
    "colab": {
     "base_uri": "https://localhost:8080/"
    },
    "executionInfo": {
     "elapsed": 459,
     "status": "ok",
     "timestamp": 1603994292162,
     "user": {
      "displayName": "Luke Clarke",
      "photoUrl": "https://lh3.googleusercontent.com/-ds8_9UVCbA4/AAAAAAAAAAI/AAAAAAAAACc/kXWITE9QGm4/s64/photo.jpg",
      "userId": "00311603624727982337"
     },
     "user_tz": -60
    },
    "id": "zwMscX5Nd7dy",
    "outputId": "0d925295-0013-494f-cf84-2329a71e2e7e"
   },
   "outputs": [
    {
     "data": {
      "text/plain": [
       "0.5801688405521542"
      ]
     },
     "execution_count": 115,
     "metadata": {
      "tags": []
     },
     "output_type": "execute_result"
    }
   ],
   "source": [
    "# The number of people in total riding the bridge has dropped 58% from 2018 to 2020\n",
    "\n",
    "percentage_drop = 1 - (float(by_year[\"2020\"]['Total']) / float(by_year[\"2018\"]['Total']))\n",
    "percentage_drop"
   ]
  },
  {
   "cell_type": "markdown",
   "metadata": {
    "id": "kRIP0xZeYrvn"
   },
   "source": [
    "# Exercise 4: let's get rich!\n",
    "\n",
    "Given this apple stock history [this dataset](https://raw.githubusercontent.com/vfp1/bts-dsf-2020/main/data/appl_1980_2014.csv)\n",
    "\n",
    "* Open the dataset using Pandas\n",
    "* Display the DataFrame\n",
    "* Reply to the following questions (either by plotting the graph and summarizing the values):\n",
    "\n",
    "    * How much money will you have now if you bought 10 stocks for Apple at the end of January 2000 and you sold it at the end of 2013\n",
    "    * When was the peak maximum of volume of trades done?\n",
    "    * When was the month with the lowest close?\n",
    "    * And the lowest close of the day in the whole dataset?"
   ]
  },
  {
   "cell_type": "code",
   "execution_count": 123,
   "metadata": {
    "colab": {
     "base_uri": "https://localhost:8080/",
     "height": 455
    },
    "executionInfo": {
     "elapsed": 448,
     "status": "ok",
     "timestamp": 1603996509185,
     "user": {
      "displayName": "Luke Clarke",
      "photoUrl": "https://lh3.googleusercontent.com/-ds8_9UVCbA4/AAAAAAAAAAI/AAAAAAAAACc/kXWITE9QGm4/s64/photo.jpg",
      "userId": "00311603624727982337"
     },
     "user_tz": -60
    },
    "id": "k0xMrNse3n8g",
    "outputId": "571b4976-606f-45e8-f745-b8fa9e11ed61"
   },
   "outputs": [
    {
     "data": {
      "application/vnd.google.colaboratory.intrinsic+json": {
       "type": "string"
      },
      "text/plain": [
       "'Open the dataset and display it using pandas'"
      ]
     },
     "execution_count": 123,
     "metadata": {
      "tags": []
     },
     "output_type": "execute_result"
    },
    {
     "data": {
      "text/html": [
       "<div>\n",
       "<style scoped>\n",
       "    .dataframe tbody tr th:only-of-type {\n",
       "        vertical-align: middle;\n",
       "    }\n",
       "\n",
       "    .dataframe tbody tr th {\n",
       "        vertical-align: top;\n",
       "    }\n",
       "\n",
       "    .dataframe thead th {\n",
       "        text-align: right;\n",
       "    }\n",
       "</style>\n",
       "<table border=\"1\" class=\"dataframe\">\n",
       "  <thead>\n",
       "    <tr style=\"text-align: right;\">\n",
       "      <th></th>\n",
       "      <th>Open</th>\n",
       "      <th>High</th>\n",
       "      <th>Low</th>\n",
       "      <th>Close</th>\n",
       "      <th>Volume</th>\n",
       "      <th>Adj Close</th>\n",
       "    </tr>\n",
       "    <tr>\n",
       "      <th>Date</th>\n",
       "      <th></th>\n",
       "      <th></th>\n",
       "      <th></th>\n",
       "      <th></th>\n",
       "      <th></th>\n",
       "      <th></th>\n",
       "    </tr>\n",
       "  </thead>\n",
       "  <tbody>\n",
       "    <tr>\n",
       "      <th>2014-07-08</th>\n",
       "      <td>96.27</td>\n",
       "      <td>96.80</td>\n",
       "      <td>93.92</td>\n",
       "      <td>95.35</td>\n",
       "      <td>65130000</td>\n",
       "      <td>95.35</td>\n",
       "    </tr>\n",
       "    <tr>\n",
       "      <th>2014-07-07</th>\n",
       "      <td>94.14</td>\n",
       "      <td>95.99</td>\n",
       "      <td>94.10</td>\n",
       "      <td>95.97</td>\n",
       "      <td>56305400</td>\n",
       "      <td>95.97</td>\n",
       "    </tr>\n",
       "    <tr>\n",
       "      <th>2014-07-03</th>\n",
       "      <td>93.67</td>\n",
       "      <td>94.10</td>\n",
       "      <td>93.20</td>\n",
       "      <td>94.03</td>\n",
       "      <td>22891800</td>\n",
       "      <td>94.03</td>\n",
       "    </tr>\n",
       "    <tr>\n",
       "      <th>2014-07-02</th>\n",
       "      <td>93.87</td>\n",
       "      <td>94.06</td>\n",
       "      <td>93.09</td>\n",
       "      <td>93.48</td>\n",
       "      <td>28420900</td>\n",
       "      <td>93.48</td>\n",
       "    </tr>\n",
       "    <tr>\n",
       "      <th>2014-07-01</th>\n",
       "      <td>93.52</td>\n",
       "      <td>94.07</td>\n",
       "      <td>93.13</td>\n",
       "      <td>93.52</td>\n",
       "      <td>38170200</td>\n",
       "      <td>93.52</td>\n",
       "    </tr>\n",
       "    <tr>\n",
       "      <th>...</th>\n",
       "      <td>...</td>\n",
       "      <td>...</td>\n",
       "      <td>...</td>\n",
       "      <td>...</td>\n",
       "      <td>...</td>\n",
       "      <td>...</td>\n",
       "    </tr>\n",
       "    <tr>\n",
       "      <th>1980-12-18</th>\n",
       "      <td>26.63</td>\n",
       "      <td>26.75</td>\n",
       "      <td>26.63</td>\n",
       "      <td>26.63</td>\n",
       "      <td>18362400</td>\n",
       "      <td>0.41</td>\n",
       "    </tr>\n",
       "    <tr>\n",
       "      <th>1980-12-17</th>\n",
       "      <td>25.87</td>\n",
       "      <td>26.00</td>\n",
       "      <td>25.87</td>\n",
       "      <td>25.87</td>\n",
       "      <td>21610400</td>\n",
       "      <td>0.40</td>\n",
       "    </tr>\n",
       "    <tr>\n",
       "      <th>1980-12-16</th>\n",
       "      <td>25.37</td>\n",
       "      <td>25.37</td>\n",
       "      <td>25.25</td>\n",
       "      <td>25.25</td>\n",
       "      <td>26432000</td>\n",
       "      <td>0.39</td>\n",
       "    </tr>\n",
       "    <tr>\n",
       "      <th>1980-12-15</th>\n",
       "      <td>27.38</td>\n",
       "      <td>27.38</td>\n",
       "      <td>27.25</td>\n",
       "      <td>27.25</td>\n",
       "      <td>43971200</td>\n",
       "      <td>0.42</td>\n",
       "    </tr>\n",
       "    <tr>\n",
       "      <th>1980-12-12</th>\n",
       "      <td>28.75</td>\n",
       "      <td>28.87</td>\n",
       "      <td>28.75</td>\n",
       "      <td>28.75</td>\n",
       "      <td>117258400</td>\n",
       "      <td>0.45</td>\n",
       "    </tr>\n",
       "  </tbody>\n",
       "</table>\n",
       "<p>8465 rows × 6 columns</p>\n",
       "</div>"
      ],
      "text/plain": [
       "             Open   High    Low  Close     Volume  Adj Close\n",
       "Date                                                        \n",
       "2014-07-08  96.27  96.80  93.92  95.35   65130000      95.35\n",
       "2014-07-07  94.14  95.99  94.10  95.97   56305400      95.97\n",
       "2014-07-03  93.67  94.10  93.20  94.03   22891800      94.03\n",
       "2014-07-02  93.87  94.06  93.09  93.48   28420900      93.48\n",
       "2014-07-01  93.52  94.07  93.13  93.52   38170200      93.52\n",
       "...           ...    ...    ...    ...        ...        ...\n",
       "1980-12-18  26.63  26.75  26.63  26.63   18362400       0.41\n",
       "1980-12-17  25.87  26.00  25.87  25.87   21610400       0.40\n",
       "1980-12-16  25.37  25.37  25.25  25.25   26432000       0.39\n",
       "1980-12-15  27.38  27.38  27.25  27.25   43971200       0.42\n",
       "1980-12-12  28.75  28.87  28.75  28.75  117258400       0.45\n",
       "\n",
       "[8465 rows x 6 columns]"
      ]
     },
     "execution_count": 123,
     "metadata": {
      "tags": []
     },
     "output_type": "execute_result"
    }
   ],
   "source": [
    "\"\"\"Open the dataset and display it using pandas\"\"\"\n",
    "\n",
    "apple_stock = pd.read_csv(\"https://raw.githubusercontent.com/vfp1/bts-dsf-2020/main/data/appl_1980_2014.csv\", index_col='Date', parse_dates=True)\n",
    "apple_stock"
   ]
  },
  {
   "cell_type": "code",
   "execution_count": 125,
   "metadata": {
    "colab": {
     "base_uri": "https://localhost:8080/"
    },
    "executionInfo": {
     "elapsed": 557,
     "status": "ok",
     "timestamp": 1603996518955,
     "user": {
      "displayName": "Luke Clarke",
      "photoUrl": "https://lh3.googleusercontent.com/-ds8_9UVCbA4/AAAAAAAAAAI/AAAAAAAAACc/kXWITE9QGm4/s64/photo.jpg",
      "userId": "00311603624727982337"
     },
     "user_tz": -60
    },
    "id": "GN7wOl1goJWo",
    "outputId": "42574a8a-c3bb-46d0-cfd5-a441120f72fb"
   },
   "outputs": [
    {
     "name": "stdout",
     "output_type": "stream",
     "text": [
      "<class 'pandas.core.frame.DataFrame'>\n",
      "DatetimeIndex: 8465 entries, 2014-07-08 to 1980-12-12\n",
      "Data columns (total 6 columns):\n",
      " #   Column     Non-Null Count  Dtype  \n",
      "---  ------     --------------  -----  \n",
      " 0   Open       8465 non-null   float64\n",
      " 1   High       8465 non-null   float64\n",
      " 2   Low        8465 non-null   float64\n",
      " 3   Close      8465 non-null   float64\n",
      " 4   Volume     8465 non-null   int64  \n",
      " 5   Adj Close  8465 non-null   float64\n",
      "dtypes: float64(5), int64(1)\n",
      "memory usage: 462.9 KB\n"
     ]
    }
   ],
   "source": [
    "apple_stock.info()"
   ]
  },
  {
   "cell_type": "code",
   "execution_count": 146,
   "metadata": {
    "colab": {
     "base_uri": "https://localhost:8080/"
    },
    "executionInfo": {
     "elapsed": 507,
     "status": "ok",
     "timestamp": 1603997090330,
     "user": {
      "displayName": "Luke Clarke",
      "photoUrl": "https://lh3.googleusercontent.com/-ds8_9UVCbA4/AAAAAAAAAAI/AAAAAAAAACc/kXWITE9QGm4/s64/photo.jpg",
      "userId": "00311603624727982337"
     },
     "user_tz": -60
    },
    "id": "IlodNUcr5qSO",
    "outputId": "39b5f173-9726-42a0-cf94-a58fe1d04beb"
   },
   "outputs": [
    {
     "data": {
      "text/plain": [
       "Date\n",
       "2000-01-31    1037.5\n",
       "Name: Close, dtype: float64"
      ]
     },
     "execution_count": 146,
     "metadata": {
      "tags": []
     },
     "output_type": "execute_result"
    }
   ],
   "source": [
    "purchase_price = apple_stock.loc[\"2000-01-31\", 'Close'] * 10\n",
    "purchase_price"
   ]
  },
  {
   "cell_type": "code",
   "execution_count": 148,
   "metadata": {
    "colab": {
     "base_uri": "https://localhost:8080/"
    },
    "executionInfo": {
     "elapsed": 648,
     "status": "ok",
     "timestamp": 1603997160460,
     "user": {
      "displayName": "Luke Clarke",
      "photoUrl": "https://lh3.googleusercontent.com/-ds8_9UVCbA4/AAAAAAAAAAI/AAAAAAAAACc/kXWITE9QGm4/s64/photo.jpg",
      "userId": "00311603624727982337"
     },
     "user_tz": -60
    },
    "id": "jzRzwojjpMmd",
    "outputId": "4b3fa124-89ed-400c-f132-6d270ef56b11"
   },
   "outputs": [
    {
     "data": {
      "text/plain": [
       "Date\n",
       "2013-12-31    5610.2\n",
       "Name: Close, dtype: float64"
      ]
     },
     "execution_count": 148,
     "metadata": {
      "tags": []
     },
     "output_type": "execute_result"
    }
   ],
   "source": [
    "# If you sold 10 apple stocks at the end of 2013 you would have $5,610.20\n",
    "\n",
    "selling_price = apple_stock.loc[\"2013-12-31\", 'Close'] * 10 \n",
    "selling_price"
   ]
  },
  {
   "cell_type": "code",
   "execution_count": 151,
   "metadata": {
    "colab": {
     "base_uri": "https://localhost:8080/"
    },
    "executionInfo": {
     "elapsed": 673,
     "status": "ok",
     "timestamp": 1603997310282,
     "user": {
      "displayName": "Luke Clarke",
      "photoUrl": "https://lh3.googleusercontent.com/-ds8_9UVCbA4/AAAAAAAAAAI/AAAAAAAAACc/kXWITE9QGm4/s64/photo.jpg",
      "userId": "00311603624727982337"
     },
     "user_tz": -60
    },
    "id": "wBv8QS4fritv",
    "outputId": "4efce81f-edb9-4e9f-897e-74367b64f382"
   },
   "outputs": [
    {
     "data": {
      "text/plain": [
       "4572.7"
      ]
     },
     "execution_count": 151,
     "metadata": {
      "tags": []
     },
     "output_type": "execute_result"
    }
   ],
   "source": [
    "# The profit you have made from buying in 2000 and selling in 2013 is $4,572.7\n",
    "\n",
    "profit = float(selling_price) - float(purchase_price)\n",
    "profit"
   ]
  },
  {
   "cell_type": "code",
   "execution_count": 159,
   "metadata": {
    "colab": {
     "base_uri": "https://localhost:8080/"
    },
    "executionInfo": {
     "elapsed": 519,
     "status": "ok",
     "timestamp": 1603997518425,
     "user": {
      "displayName": "Luke Clarke",
      "photoUrl": "https://lh3.googleusercontent.com/-ds8_9UVCbA4/AAAAAAAAAAI/AAAAAAAAACc/kXWITE9QGm4/s64/photo.jpg",
      "userId": "00311603624727982337"
     },
     "user_tz": -60
    },
    "id": "lpP0Og7Ir-Ce",
    "outputId": "cd3aa64c-29ea-4717-828f-c3b1b612c350"
   },
   "outputs": [
    {
     "data": {
      "text/plain": [
       "1855410200"
      ]
     },
     "execution_count": 159,
     "metadata": {
      "tags": []
     },
     "output_type": "execute_result"
    }
   ],
   "source": [
    "# max volume occured on 2000-09-29 with a max volume of 1,855,410,200\n",
    "\n",
    "max_volume = apple_stock.loc[:,'Volume'].max()\n",
    "max_volume"
   ]
  },
  {
   "cell_type": "code",
   "execution_count": 160,
   "metadata": {
    "colab": {
     "base_uri": "https://localhost:8080/"
    },
    "executionInfo": {
     "elapsed": 498,
     "status": "ok",
     "timestamp": 1603997586181,
     "user": {
      "displayName": "Luke Clarke",
      "photoUrl": "https://lh3.googleusercontent.com/-ds8_9UVCbA4/AAAAAAAAAAI/AAAAAAAAACc/kXWITE9QGm4/s64/photo.jpg",
      "userId": "00311603624727982337"
     },
     "user_tz": -60
    },
    "id": "636uXP2usVHc",
    "outputId": "12e28b83-fd7c-4a70-92e1-066ce9ada28d"
   },
   "outputs": [
    {
     "data": {
      "text/plain": [
       "Timestamp('2000-09-29 00:00:00')"
      ]
     },
     "execution_count": 160,
     "metadata": {
      "tags": []
     },
     "output_type": "execute_result"
    }
   ],
   "source": [
    "apple_stock.loc[:,'Volume'].idxmax()"
   ]
  },
  {
   "cell_type": "code",
   "execution_count": 204,
   "metadata": {
    "colab": {
     "base_uri": "https://localhost:8080/",
     "height": 329
    },
    "executionInfo": {
     "elapsed": 761,
     "status": "ok",
     "timestamp": 1604000083045,
     "user": {
      "displayName": "Luke Clarke",
      "photoUrl": "https://lh3.googleusercontent.com/-ds8_9UVCbA4/AAAAAAAAAAI/AAAAAAAAACc/kXWITE9QGm4/s64/photo.jpg",
      "userId": "00311603624727982337"
     },
     "user_tz": -60
    },
    "id": "6EkthTOAwrpm",
    "outputId": "635ebc7d-ea51-4444-b3b1-dce74b659a18"
   },
   "outputs": [
    {
     "data": {
      "text/plain": [
       "<matplotlib.axes._subplots.AxesSubplot at 0x7fd85c87eac8>"
      ]
     },
     "execution_count": 204,
     "metadata": {
      "tags": []
     },
     "output_type": "execute_result"
    },
    {
     "data": {
      "text/plain": [
       "Close   1982-07-30\n",
       "dtype: datetime64[ns]"
      ]
     },
     "execution_count": 204,
     "metadata": {
      "tags": []
     },
     "output_type": "execute_result"
    },
    {
     "data": {
      "image/png": "[encoded data removed]",
      "text/plain": [
       "<Figure size 432x288 with 1 Axes>"
      ]
     },
     "metadata": {
      "needs_background": "light",
      "tags": []
     },
     "output_type": "display_data"
    }
   ],
   "source": [
    "# When was the month with the lowest close - July 1982(1982-07-30)\n",
    "\n",
    "\n",
    "apple_stock_close = apple_stock[[\"Close\"]]\n",
    "apple_close_month = apple_stock_close.resample('BM').min()\n",
    "apple_close_month.plot(title = 'Apple Monthly Close')\n",
    "\n",
    "\n",
    "apple_close_month.idxmin()"
   ]
  },
  {
   "cell_type": "code",
   "execution_count": 202,
   "metadata": {
    "colab": {
     "base_uri": "https://localhost:8080/"
    },
    "executionInfo": {
     "elapsed": 650,
     "status": "ok",
     "timestamp": 1604000039891,
     "user": {
      "displayName": "Luke Clarke",
      "photoUrl": "https://lh3.googleusercontent.com/-ds8_9UVCbA4/AAAAAAAAAAI/AAAAAAAAACc/kXWITE9QGm4/s64/photo.jpg",
      "userId": "00311603624727982337"
     },
     "user_tz": -60
    },
    "id": "EPgSmYmNtNCy",
    "outputId": "2fa07abd-6145-4648-ad43-7a8fad28e4c1"
   },
   "outputs": [
    {
     "data": {
      "text/plain": [
       "Close   1982-07-08\n",
       "dtype: datetime64[ns]"
      ]
     },
     "execution_count": 202,
     "metadata": {
      "tags": []
     },
     "output_type": "execute_result"
    }
   ],
   "source": [
    " # The month with the lowest close in the entire dataset was July 1982\n",
    "\n",
    "\n",
    "apple_stock_close = apple_stock[[\"Close\"]]\n",
    "apple_stock_close.idxmin()\n",
    "\n"
   ]
  },
  {
   "cell_type": "code",
   "execution_count": null,
   "metadata": {
    "id": "L3B-Kdeytycw"
   },
   "outputs": [],
   "source": []
  }
 ],
 "metadata": {
  "colab": {
   "collapsed_sections": [],
   "name": "Assignment 1.ipynb",
   "provenance": [
    {
     "file_id": "https://github.com/vfp1/bts-dsf-2020/blob/main/exercises/Session_1_2_EXERCISES.ipynb",
     "timestamp": 1603988787404
    }
   ]
  },
  "kernelspec": {
   "display_name": "Python 3",
   "language": "python",
   "name": "python3"
  },
  "language_info": {
   "codemirror_mode": {
    "name": "ipython",
    "version": 3
   },
   "file_extension": ".py",
   "mimetype": "text/x-python",
   "name": "python",
   "nbconvert_exporter": "python",
   "pygments_lexer": "ipython3",
   "version": "3.8.3"
  }
 },
 "nbformat": 4,
 "nbformat_minor": 1
}
