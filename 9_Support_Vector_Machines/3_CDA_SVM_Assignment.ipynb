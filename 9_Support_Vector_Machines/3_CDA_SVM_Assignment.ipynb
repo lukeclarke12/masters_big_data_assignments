{
  "nbformat": 4,
  "nbformat_minor": 0,
  "metadata": {
    "colab": {
      "name": "3_CDA_SVM_Assignment.ipynb",
      "provenance": [],
      "collapsed_sections": []
    },
    "kernelspec": {
      "display_name": "Python 3",
      "language": "python",
      "name": "python3"
    },
    "language_info": {
      "codemirror_mode": {
        "name": "ipython",
        "version": 3
      },
      "file_extension": ".py",
      "mimetype": "text/x-python",
      "name": "python",
      "nbconvert_exporter": "python",
      "pygments_lexer": "ipython3",
      "version": "3.7.4"
    }
  },
  "cells": [
    {
      "cell_type": "markdown",
      "metadata": {
        "id": "aB_ck5OSE3TU"
      },
      "source": [
        "![BTS](https://github.com/vfp1/bts-mbds-data-science-foundations-2019/raw/master/sessions/img/Logo-BTS.jpg)\n",
        "\n",
        "# Session 5: Support Vector Machines EXERCISES\n",
        "\n",
        "### Filipa Peleja <filipa.peleja@bts.tech>\n",
        "### Victor F. Pajuelo Madrigal <victor.pajuelo@bts.tech>\n",
        "\n",
        "## Classical Data Analysis (16-02-2021)\n",
        "\n",
        "Open this notebook in Google Colaboratory: [![Open in Colab](https://colab.research.google.com/assets/colab-badge.svg)](https://colab.research.google.com/github/vfp1/bts-cda-2020/blob/master/Session_5/Session_5_Classical_Data_Analysis_SVM_EXERCISES.ipynb)\n",
        "\n",
        "\n",
        "\n"
      ]
    },
    {
      "cell_type": "markdown",
      "metadata": {
        "id": "W9rDsHQd_aQQ"
      },
      "source": [
        "## Exercise one [NO CODE]\n",
        "\n",
        "\n",
        "\n",
        "1.   What is a support vector?\n",
        "\n",
        " - The hyperplane in a 2-D data representation for example is the line that most accurately separates two classes. The support vectors are the lines on either side of this hyperplane, which run parallel to the hyperplane and also through the closest variable to the hyperplane from each class.\n",
        "\n",
        " - The support vectors are the samples located on the \"edge of the street\".\n",
        " - The are the closest samples to the decision boundary and they are those that support the decision boundary.\n",
        "\n",
        "2.   Why it is important to scale inputs when using the SVM?\n",
        "\n",
        " - Because SVM is scale sensitive, meaning that its performance is directly affected by the normalization of the dataset. Greater ranges between each of the data points and differences in scale of the features will hamper an SVM as it won't have a great bearing on the support vectors that it relies upon for accuracy\n",
        "\n",
        " - Also, SVMS consume a lot of computational power and take much longer to train than many other standard machine learning algorithms. For example, in the mnist dataset each pixel in each image ranges from 0 - 255. If we normalize the data between 0 - 1 by dividing by 255 problem becomes less computationally heavy and thus takes less time.\n",
        "\n",
        "\n",
        "3. Should you use dual=True or dual=False when training a model with millions of samples but hundreds of features?\n",
        "\n",
        "  - In a LinearSVC we may use polynomial expansion, where we can end up with Samples < Features or Samples > Features.\n",
        "\n",
        "  - When samples > features we should always set dual=false.\n",
        "  - In SkLearn dual=True by default.\n",
        "\n",
        "\n"
      ]
    },
    {
      "cell_type": "markdown",
      "metadata": {
        "id": "razi289oCbos"
      },
      "source": [
        "## Exercise two [NECESSARY]\n",
        "\n",
        "Train a SVM classifier on the datasets shown in class (not the regression one). Take special care with the hyperparameters for multiclassification, C and other hyperparameters that we discussed. You may want to tune the hyperparameters using smaller validation sets to speed up the process. What accuracy can you reach?\n",
        "\n",
        "In this exercise you need to:\n",
        "\n",
        "- Visualize and present the dataset\n",
        "- Apply the SVC to perform binary classification\n",
        "- Comment on the usage of the different kernels and the effect of the hyper-parameters (is always needed a nonlinear kernel?)\n",
        "- Visualize the results with a confusion matrix\n",
        "- Compute the accuracy score and comment on the results\n",
        "- Perform any other experiments that you can think of, always reason about the results!"
      ]
    },
    {
      "cell_type": "markdown",
      "metadata": {
        "id": "azx5pDkyXcV4"
      },
      "source": [
        "# Mnist: Image Classification "
      ]
    },
    {
      "cell_type": "code",
      "metadata": {
        "id": "j4d-OhUnW51C"
      },
      "source": [
        "# SVM is used with SKlearn\n",
        "from sklearn.svm import SVC \n",
        "from datetime import datetime"
      ],
      "execution_count": null,
      "outputs": []
    },
    {
      "cell_type": "code",
      "metadata": {
        "id": "AQ2EeLyeW54C"
      },
      "source": [
        "from keras.datasets import mnist"
      ],
      "execution_count": null,
      "outputs": []
    },
    {
      "cell_type": "code",
      "metadata": {
        "id": "ILbdV50NW560",
        "colab": {
          "base_uri": "https://localhost:8080/"
        },
        "outputId": "6b6cdf6f-a65e-4589-d9f4-4c62d6ceca79"
      },
      "source": [
        "(train_x, train_y), (test_x, test_y) = mnist.load_data()"
      ],
      "execution_count": null,
      "outputs": [
        {
          "output_type": "stream",
          "text": [
            "Downloading data from https://storage.googleapis.com/tensorflow/tf-keras-datasets/mnist.npz\n",
            "11493376/11490434 [==============================] - 0s 0us/step\n"
          ],
          "name": "stdout"
        }
      ]
    },
    {
      "cell_type": "code",
      "metadata": {
        "colab": {
          "base_uri": "https://localhost:8080/"
        },
        "id": "cQyjbrgrW5-D",
        "outputId": "192276da-f483-49ce-de10-10aca71c42dd"
      },
      "source": [
        "print(\"train_x\", train_x.shape)\n",
        "print(\"train_y\", train_y.shape)\n",
        "print(\"test_x\", test_x.shape)\n",
        "print(\"test_y\", test_y.shape)"
      ],
      "execution_count": null,
      "outputs": [
        {
          "output_type": "stream",
          "text": [
            "train_x (60000, 28, 28)\n",
            "train_y (60000,)\n",
            "test_x (10000, 28, 28)\n",
            "test_y (10000,)\n"
          ],
          "name": "stdout"
        }
      ]
    },
    {
      "cell_type": "code",
      "metadata": {
        "colab": {
          "base_uri": "https://localhost:8080/",
          "height": 298
        },
        "id": "rxS6Z1SPW6Ae",
        "outputId": "69528a87-5611-4d75-bf9f-542e8fdb0894"
      },
      "source": [
        "import matplotlib.pyplot as plt\n",
        "\n",
        "plt.imshow(train_x[0])\n",
        "plt.title(\"Digit \" + str(train_y[0]))"
      ],
      "execution_count": null,
      "outputs": [
        {
          "output_type": "execute_result",
          "data": {
            "text/plain": [
              "Text(0.5, 1.0, 'Digit 5')"
            ]
          },
          "metadata": {
            "tags": []
          },
          "execution_count": 5
        },
        {
          "output_type": "display_data",
          "data": {
            "image/png": "[encoded data removed]",
            "text/plain": [
              "<Figure size 432x288 with 1 Axes>"
            ]
          },
          "metadata": {
            "tags": [],
            "needs_background": "light"
          }
        }
      ]
    },
    {
      "cell_type": "code",
      "metadata": {
        "id": "jlL1QkaHW6DZ",
        "colab": {
          "base_uri": "https://localhost:8080/"
        },
        "outputId": "66ea6f97-6a23-439b-b677-db7350ce3a38"
      },
      "source": [
        "# We can inspect the image as an array of numbers \n",
        "\n",
        "train_x[0]"
      ],
      "execution_count": null,
      "outputs": [
        {
          "output_type": "execute_result",
          "data": {
            "text/plain": [
              "array([[  0,   0,   0,   0,   0,   0,   0,   0,   0,   0,   0,   0,   0,\n",
              "          0,   0,   0,   0,   0,   0,   0,   0,   0,   0,   0,   0,   0,\n",
              "          0,   0],\n",
              "       [  0,   0,   0,   0,   0,   0,   0,   0,   0,   0,   0,   0,   0,\n",
              "          0,   0,   0,   0,   0,   0,   0,   0,   0,   0,   0,   0,   0,\n",
              "          0,   0],\n",
              "       [  0,   0,   0,   0,   0,   0,   0,   0,   0,   0,   0,   0,   0,\n",
              "          0,   0,   0,   0,   0,   0,   0,   0,   0,   0,   0,   0,   0,\n",
              "          0,   0],\n",
              "       [  0,   0,   0,   0,   0,   0,   0,   0,   0,   0,   0,   0,   0,\n",
              "          0,   0,   0,   0,   0,   0,   0,   0,   0,   0,   0,   0,   0,\n",
              "          0,   0],\n",
              "       [  0,   0,   0,   0,   0,   0,   0,   0,   0,   0,   0,   0,   0,\n",
              "          0,   0,   0,   0,   0,   0,   0,   0,   0,   0,   0,   0,   0,\n",
              "          0,   0],\n",
              "       [  0,   0,   0,   0,   0,   0,   0,   0,   0,   0,   0,   0,   3,\n",
              "         18,  18,  18, 126, 136, 175,  26, 166, 255, 247, 127,   0,   0,\n",
              "          0,   0],\n",
              "       [  0,   0,   0,   0,   0,   0,   0,   0,  30,  36,  94, 154, 170,\n",
              "        253, 253, 253, 253, 253, 225, 172, 253, 242, 195,  64,   0,   0,\n",
              "          0,   0],\n",
              "       [  0,   0,   0,   0,   0,   0,   0,  49, 238, 253, 253, 253, 253,\n",
              "        253, 253, 253, 253, 251,  93,  82,  82,  56,  39,   0,   0,   0,\n",
              "          0,   0],\n",
              "       [  0,   0,   0,   0,   0,   0,   0,  18, 219, 253, 253, 253, 253,\n",
              "        253, 198, 182, 247, 241,   0,   0,   0,   0,   0,   0,   0,   0,\n",
              "          0,   0],\n",
              "       [  0,   0,   0,   0,   0,   0,   0,   0,  80, 156, 107, 253, 253,\n",
              "        205,  11,   0,  43, 154,   0,   0,   0,   0,   0,   0,   0,   0,\n",
              "          0,   0],\n",
              "       [  0,   0,   0,   0,   0,   0,   0,   0,   0,  14,   1, 154, 253,\n",
              "         90,   0,   0,   0,   0,   0,   0,   0,   0,   0,   0,   0,   0,\n",
              "          0,   0],\n",
              "       [  0,   0,   0,   0,   0,   0,   0,   0,   0,   0,   0, 139, 253,\n",
              "        190,   2,   0,   0,   0,   0,   0,   0,   0,   0,   0,   0,   0,\n",
              "          0,   0],\n",
              "       [  0,   0,   0,   0,   0,   0,   0,   0,   0,   0,   0,  11, 190,\n",
              "        253,  70,   0,   0,   0,   0,   0,   0,   0,   0,   0,   0,   0,\n",
              "          0,   0],\n",
              "       [  0,   0,   0,   0,   0,   0,   0,   0,   0,   0,   0,   0,  35,\n",
              "        241, 225, 160, 108,   1,   0,   0,   0,   0,   0,   0,   0,   0,\n",
              "          0,   0],\n",
              "       [  0,   0,   0,   0,   0,   0,   0,   0,   0,   0,   0,   0,   0,\n",
              "         81, 240, 253, 253, 119,  25,   0,   0,   0,   0,   0,   0,   0,\n",
              "          0,   0],\n",
              "       [  0,   0,   0,   0,   0,   0,   0,   0,   0,   0,   0,   0,   0,\n",
              "          0,  45, 186, 253, 253, 150,  27,   0,   0,   0,   0,   0,   0,\n",
              "          0,   0],\n",
              "       [  0,   0,   0,   0,   0,   0,   0,   0,   0,   0,   0,   0,   0,\n",
              "          0,   0,  16,  93, 252, 253, 187,   0,   0,   0,   0,   0,   0,\n",
              "          0,   0],\n",
              "       [  0,   0,   0,   0,   0,   0,   0,   0,   0,   0,   0,   0,   0,\n",
              "          0,   0,   0,   0, 249, 253, 249,  64,   0,   0,   0,   0,   0,\n",
              "          0,   0],\n",
              "       [  0,   0,   0,   0,   0,   0,   0,   0,   0,   0,   0,   0,   0,\n",
              "          0,  46, 130, 183, 253, 253, 207,   2,   0,   0,   0,   0,   0,\n",
              "          0,   0],\n",
              "       [  0,   0,   0,   0,   0,   0,   0,   0,   0,   0,   0,   0,  39,\n",
              "        148, 229, 253, 253, 253, 250, 182,   0,   0,   0,   0,   0,   0,\n",
              "          0,   0],\n",
              "       [  0,   0,   0,   0,   0,   0,   0,   0,   0,   0,  24, 114, 221,\n",
              "        253, 253, 253, 253, 201,  78,   0,   0,   0,   0,   0,   0,   0,\n",
              "          0,   0],\n",
              "       [  0,   0,   0,   0,   0,   0,   0,   0,  23,  66, 213, 253, 253,\n",
              "        253, 253, 198,  81,   2,   0,   0,   0,   0,   0,   0,   0,   0,\n",
              "          0,   0],\n",
              "       [  0,   0,   0,   0,   0,   0,  18, 171, 219, 253, 253, 253, 253,\n",
              "        195,  80,   9,   0,   0,   0,   0,   0,   0,   0,   0,   0,   0,\n",
              "          0,   0],\n",
              "       [  0,   0,   0,   0,  55, 172, 226, 253, 253, 253, 253, 244, 133,\n",
              "         11,   0,   0,   0,   0,   0,   0,   0,   0,   0,   0,   0,   0,\n",
              "          0,   0],\n",
              "       [  0,   0,   0,   0, 136, 253, 253, 253, 212, 135, 132,  16,   0,\n",
              "          0,   0,   0,   0,   0,   0,   0,   0,   0,   0,   0,   0,   0,\n",
              "          0,   0],\n",
              "       [  0,   0,   0,   0,   0,   0,   0,   0,   0,   0,   0,   0,   0,\n",
              "          0,   0,   0,   0,   0,   0,   0,   0,   0,   0,   0,   0,   0,\n",
              "          0,   0],\n",
              "       [  0,   0,   0,   0,   0,   0,   0,   0,   0,   0,   0,   0,   0,\n",
              "          0,   0,   0,   0,   0,   0,   0,   0,   0,   0,   0,   0,   0,\n",
              "          0,   0],\n",
              "       [  0,   0,   0,   0,   0,   0,   0,   0,   0,   0,   0,   0,   0,\n",
              "          0,   0,   0,   0,   0,   0,   0,   0,   0,   0,   0,   0,   0,\n",
              "          0,   0]], dtype=uint8)"
            ]
          },
          "metadata": {
            "tags": []
          },
          "execution_count": 6
        }
      ]
    },
    {
      "cell_type": "code",
      "metadata": {
        "colab": {
          "base_uri": "https://localhost:8080/"
        },
        "id": "SKjAzU4lcBld",
        "outputId": "4ffa8c4a-652d-44ed-b88b-54bd9be9bb9c"
      },
      "source": [
        "# Remember before using SVC's we always need to normalize our data\n",
        "\n",
        "num_pixels = train_x.shape[1] * train_x.shape[2]\n",
        "num_pixels"
      ],
      "execution_count": null,
      "outputs": [
        {
          "output_type": "execute_result",
          "data": {
            "text/plain": [
              "784"
            ]
          },
          "metadata": {
            "tags": []
          },
          "execution_count": 7
        }
      ]
    },
    {
      "cell_type": "code",
      "metadata": {
        "colab": {
          "base_uri": "https://localhost:8080/"
        },
        "id": "8-zNEpZcchjF",
        "outputId": "a0bc066a-7249-4db2-de25-503ded192ea5"
      },
      "source": [
        "train_x_reshaped = train_x.reshape(train_x.shape[0], num_pixels).astype('float32')\n",
        "test_x_reshaped = test_x.reshape(test_x.shape[0], num_pixels).astype('float32')\n",
        "\n",
        "print(\"train_x_reshaped\",  train_x_reshaped.shape)\n",
        "print(\"test_x_reshaped\", test_x_reshaped.shape)"
      ],
      "execution_count": null,
      "outputs": [
        {
          "output_type": "stream",
          "text": [
            "train_x_reshaped (60000, 784)\n",
            "test_x_reshaped (10000, 784)\n"
          ],
          "name": "stdout"
        }
      ]
    },
    {
      "cell_type": "code",
      "metadata": {
        "id": "cSrzi7nYsrkL"
      },
      "source": [
        "# Now we must normalize our data as we always need to normalize the inputs of an SVM\n",
        "\n",
        "train_x_normalized = train_x_reshaped/255\n",
        "test_x_normalized = test_x_reshaped/255\n"
      ],
      "execution_count": null,
      "outputs": []
    },
    {
      "cell_type": "code",
      "metadata": {
        "colab": {
          "base_uri": "https://localhost:8080/"
        },
        "id": "8V9cs81YthrN",
        "outputId": "8ebae524-4d81-4b72-c022-b3165f8b3622"
      },
      "source": [
        "# Lets visualize our normalized values to ensure that they are between 0 - 1\n",
        "\n",
        "train_x_normalized[0][150:300]\n"
      ],
      "execution_count": null,
      "outputs": [
        {
          "output_type": "execute_result",
          "data": {
            "text/plain": [
              "array([0.        , 0.        , 0.01176471, 0.07058824, 0.07058824,\n",
              "       0.07058824, 0.49411765, 0.53333336, 0.6862745 , 0.10196079,\n",
              "       0.6509804 , 1.        , 0.96862745, 0.49803922, 0.        ,\n",
              "       0.        , 0.        , 0.        , 0.        , 0.        ,\n",
              "       0.        , 0.        , 0.        , 0.        , 0.        ,\n",
              "       0.        , 0.11764706, 0.14117648, 0.36862746, 0.6039216 ,\n",
              "       0.6666667 , 0.99215686, 0.99215686, 0.99215686, 0.99215686,\n",
              "       0.99215686, 0.88235295, 0.6745098 , 0.99215686, 0.9490196 ,\n",
              "       0.7647059 , 0.2509804 , 0.        , 0.        , 0.        ,\n",
              "       0.        , 0.        , 0.        , 0.        , 0.        ,\n",
              "       0.        , 0.        , 0.        , 0.19215687, 0.93333334,\n",
              "       0.99215686, 0.99215686, 0.99215686, 0.99215686, 0.99215686,\n",
              "       0.99215686, 0.99215686, 0.99215686, 0.9843137 , 0.3647059 ,\n",
              "       0.32156864, 0.32156864, 0.21960784, 0.15294118, 0.        ,\n",
              "       0.        , 0.        , 0.        , 0.        , 0.        ,\n",
              "       0.        , 0.        , 0.        , 0.        , 0.        ,\n",
              "       0.        , 0.07058824, 0.85882354, 0.99215686, 0.99215686,\n",
              "       0.99215686, 0.99215686, 0.99215686, 0.7764706 , 0.7137255 ,\n",
              "       0.96862745, 0.94509804, 0.        , 0.        , 0.        ,\n",
              "       0.        , 0.        , 0.        , 0.        , 0.        ,\n",
              "       0.        , 0.        , 0.        , 0.        , 0.        ,\n",
              "       0.        , 0.        , 0.        , 0.        , 0.        ,\n",
              "       0.3137255 , 0.6117647 , 0.41960785, 0.99215686, 0.99215686,\n",
              "       0.8039216 , 0.04313726, 0.        , 0.16862746, 0.6039216 ,\n",
              "       0.        , 0.        , 0.        , 0.        , 0.        ,\n",
              "       0.        , 0.        , 0.        , 0.        , 0.        ,\n",
              "       0.        , 0.        , 0.        , 0.        , 0.        ,\n",
              "       0.        , 0.        , 0.        , 0.        , 0.05490196,\n",
              "       0.00392157, 0.6039216 , 0.99215686, 0.3529412 , 0.        ,\n",
              "       0.        , 0.        , 0.        , 0.        , 0.        ],\n",
              "      dtype=float32)"
            ]
          },
          "metadata": {
            "tags": []
          },
          "execution_count": 10
        }
      ]
    },
    {
      "cell_type": "code",
      "metadata": {
        "id": "uaJ62dS2thtP"
      },
      "source": [
        "# We can also use Sklearns standard scalar getting a mean=0, variance=1\n",
        "\n",
        "from sklearn.preprocessing import StandardScaler\n",
        "\n",
        "scalar = StandardScaler()\n",
        "\n",
        "train_x_meanvar = scalar.fit_transform(train_x_reshaped)\n",
        "test_x_meanvar = scalar.transform(test_x_reshaped)"
      ],
      "execution_count": null,
      "outputs": []
    },
    {
      "cell_type": "code",
      "metadata": {
        "colab": {
          "base_uri": "https://localhost:8080/"
        },
        "id": "G94CA8ObthwG",
        "outputId": "a3beb83e-0c06-40ad-8b72-e7a723de5566"
      },
      "source": [
        "# Again, lets visualize the image pixel vales in an array\n",
        "\n",
        "train_x_meanvar[0][100:300]"
      ],
      "execution_count": null,
      "outputs": [
        {
          "output_type": "execute_result",
          "data": {
            "text/plain": [
              "array([-2.62596905e-01, -2.47855902e-01, -2.21947014e-01, -1.87211409e-01,\n",
              "       -1.47640124e-01, -1.08164363e-01, -7.68121183e-02, -4.70752977e-02,\n",
              "       -3.02019659e-02, -1.52412439e-02, -5.28371939e-03,  0.00000000e+00,\n",
              "        0.00000000e+00, -4.08251677e-03, -7.76342256e-03, -1.48932543e-02,\n",
              "       -2.39627510e-02, -5.03408983e-02, -7.87674636e-02, -1.16181545e-01,\n",
              "       -1.61247566e-01, -2.11961627e-01, -2.66898721e-01, -3.25678021e-01,\n",
              "       -3.90241563e-01, -4.52076375e-01, -4.99397993e-01, -5.23428321e-01,\n",
              "       -5.17618895e-01, -4.80902404e-01, -4.23079699e-01, -3.56740385e-01,\n",
              "       -2.83683658e-01, -2.16836661e-01, -1.58524379e-01, -1.08784594e-01,\n",
              "       -7.09225312e-02, -3.89534794e-02, -1.42523851e-02, -5.77049796e-03,\n",
              "        0.00000000e+00,  0.00000000e+00, -1.19017400e-02, -2.20501553e-02,\n",
              "       -5.18380739e-02, -9.06597003e-02, -1.39667109e-01, -1.97082117e-01,\n",
              "       -2.64384717e-01, -3.40730429e-01, -4.22535747e-01, -5.15408635e-01,\n",
              "       -5.84660351e-01, -5.41363060e-01, -6.26156747e-01, -6.69145048e-01,\n",
              "        3.43637139e-01,  5.31055987e-01,  1.10236573e+00, -2.65802562e-01,\n",
              "        1.71565962e+00,  3.77344823e+00,  4.93900204e+00,  3.45006824e+00,\n",
              "       -1.31080121e-01, -7.48460367e-02, -3.19301300e-02, -8.20891839e-03,\n",
              "        0.00000000e+00, -5.57015277e-03, -1.56619269e-02, -3.63656618e-02,\n",
              "       -7.90243074e-02, -1.33289084e-01, -1.99154407e-01, -2.75429696e-01,\n",
              "        8.82421136e-02, -1.60018951e-02,  4.42476511e-01,  8.18774998e-01,\n",
              "        7.49339521e-01,  1.32200205e+00,  1.19900227e+00,  1.14748073e+00,\n",
              "        1.16876769e+00,  1.25693738e+00,  1.17313576e+00,  9.33441520e-01,\n",
              "        2.13777184e+00,  2.64653063e+00,  2.81275272e+00,  1.14339089e+00,\n",
              "       -1.72939703e-01, -1.04104243e-01, -4.83176224e-02, -1.47080189e-02,\n",
              "       -4.08251677e-03, -1.32310092e-02, -2.62438208e-02, -5.91585934e-02,\n",
              "       -1.13004856e-01, -1.78441525e-01, -2.58004814e-01,  4.14936751e-01,\n",
              "        2.55139995e+00,  2.15784264e+00,  1.76151121e+00,  1.47855282e+00,\n",
              "        1.28620374e+00,  1.15934205e+00,  1.08883059e+00,  1.06792176e+00,\n",
              "        1.08561206e+00,  1.12333035e+00, -1.85138151e-01, -1.08110681e-01,\n",
              "        1.20942190e-01,  1.04310662e-01,  1.53347805e-01, -2.87681282e-01,\n",
              "       -1.97007015e-01, -1.21228941e-01, -5.68086170e-02, -1.53906681e-02,\n",
              "       -5.02549298e-03, -1.73205193e-02, -4.30805348e-02, -8.52489024e-02,\n",
              "       -1.39458373e-01, -2.10883304e-01, -3.00017983e-01, -1.59588560e-01,\n",
              "        1.95384085e+00,  1.84773397e+00,  1.51729631e+00,  1.30892134e+00,\n",
              "        1.20210624e+00,  1.16376233e+00,  6.74199760e-01,  5.38435698e-01,\n",
              "        1.12192714e+00,  1.07058620e+00, -1.04378664e+00, -9.12978530e-01,\n",
              "       -7.39191294e-01, -5.71005464e-01, -4.23671007e-01, -2.98196197e-01,\n",
              "       -1.97686136e-01, -1.20683819e-01, -5.39356284e-02, -1.35055427e-02,\n",
              "       -5.90571249e-03, -2.11096667e-02, -5.29890358e-02, -9.30784941e-02,\n",
              "       -1.50398731e-01, -2.26191014e-01, -3.23645353e-01, -4.42131221e-01,\n",
              "        2.70213753e-01,  7.45930851e-01,  7.23832920e-02,  1.27771211e+00,\n",
              "        1.27734542e+00,  9.12254632e-01, -8.07963371e-01, -9.13935959e-01,\n",
              "       -5.60996652e-01,  3.90063792e-01, -9.99486566e-01, -9.01508629e-01,\n",
              "       -7.36681521e-01, -5.67589402e-01, -4.20171887e-01, -2.90174574e-01,\n",
              "       -1.81482360e-01, -1.04939774e-01, -4.72131744e-02, -1.41308662e-02,\n",
              "       -5.77280531e-03, -2.26322785e-02, -5.28031737e-02, -9.22058001e-02,\n",
              "       -1.47451699e-01, -2.27284595e-01, -3.32428306e-01, -4.62696135e-01,\n",
              "       -6.19033515e-01, -6.52626514e-01, -8.99148285e-01,  4.58886653e-01,\n",
              "        1.47356892e+00,  6.77134916e-02, -7.71412134e-01, -8.03560078e-01,\n",
              "       -8.73939276e-01, -9.51575458e-01, -9.62131083e-01, -8.63473296e-01],\n",
              "      dtype=float32)"
            ]
          },
          "metadata": {
            "tags": []
          },
          "execution_count": 12
        }
      ]
    },
    {
      "cell_type": "code",
      "metadata": {
        "id": "p0qJ0FSWth0h"
      },
      "source": [
        "# Now lets fit the SVC to our normalized data\n",
        "\n",
        "model = SVC()"
      ],
      "execution_count": null,
      "outputs": []
    },
    {
      "cell_type": "code",
      "metadata": {
        "id": "KLSZ2ength22",
        "colab": {
          "base_uri": "https://localhost:8080/"
        },
        "outputId": "c580e4d3-0e71-4a89-880d-b83626138a7d"
      },
      "source": [
        "# model training \n",
        "\n",
        "t0 = datetime.now()\n",
        "\n",
        "model.fit(train_x_meanvar, train_y) \n",
        "print(\"Train Duration\", datetime.now()-t0)"
      ],
      "execution_count": null,
      "outputs": [
        {
          "output_type": "stream",
          "text": [
            "Train Duration 0:13:47.643645\n"
          ],
          "name": "stdout"
        }
      ]
    },
    {
      "cell_type": "code",
      "metadata": {
        "id": "XnsGEHtm7QGg"
      },
      "source": [
        "# predicting with test x to check the accuracy\n",
        "\n",
        "y_pred = model.predict(test_x_meanvar)"
      ],
      "execution_count": null,
      "outputs": []
    },
    {
      "cell_type": "code",
      "metadata": {
        "id": "ggq8f8vx7XOh",
        "colab": {
          "base_uri": "https://localhost:8080/"
        },
        "outputId": "9e7565e8-8dfe-41c0-ca48-d8809e33b631"
      },
      "source": [
        "from sklearn import metrics\n",
        "from sklearn.metrics import confusion_matrix\n",
        "from sklearn.metrics import classification_report\n",
        "\n",
        "print(\"Classification report for classifier %s:\\n%s\\n\"\n",
        "      % (model, metrics.classification_report(test_y, y_pred)))\n",
        "print(\"Confusion matrix:\\n%s\" % metrics.confusion_matrix(test_y, y_pred))\n",
        "\n"
      ],
      "execution_count": null,
      "outputs": [
        {
          "output_type": "stream",
          "text": [
            "Classification report for classifier SVC(C=1.0, break_ties=False, cache_size=200, class_weight=None, coef0=0.0,\n",
            "    decision_function_shape='ovr', degree=3, gamma='scale', kernel='rbf',\n",
            "    max_iter=-1, probability=False, random_state=None, shrinking=True,\n",
            "    tol=0.001, verbose=False):\n",
            "              precision    recall  f1-score   support\n",
            "\n",
            "           0       0.98      0.99      0.98       980\n",
            "           1       0.99      0.99      0.99      1135\n",
            "           2       0.96      0.97      0.96      1032\n",
            "           3       0.97      0.97      0.97      1010\n",
            "           4       0.97      0.96      0.97       982\n",
            "           5       0.96      0.96      0.96       892\n",
            "           6       0.98      0.97      0.98       958\n",
            "           7       0.93      0.96      0.94      1028\n",
            "           8       0.96      0.95      0.96       974\n",
            "           9       0.97      0.94      0.95      1009\n",
            "\n",
            "    accuracy                           0.97     10000\n",
            "   macro avg       0.97      0.97      0.97     10000\n",
            "weighted avg       0.97      0.97      0.97     10000\n",
            "\n",
            "\n",
            "Confusion matrix:\n",
            "[[ 968    0    1    1    0    3    3    2    2    0]\n",
            " [   0 1127    3    0    0    1    2    0    2    0]\n",
            " [   5    1  996    2    2    0    1   15    9    1]\n",
            " [   0    0    4  979    1    7    0   12    7    0]\n",
            " [   0    0   12    0  944    2    4    7    3   10]\n",
            " [   2    0    1   10    2  854    6    8    7    2]\n",
            " [   6    2    1    0    4    8  930    2    5    0]\n",
            " [   1    6   13    2    3    0    0  990    0   13]\n",
            " [   3    0    4    6    6    9    3   14  926    3]\n",
            " [   4    6    5   11   12    2    0   20    3  946]]\n"
          ],
          "name": "stdout"
        }
      ]
    },
    {
      "cell_type": "code",
      "metadata": {
        "id": "d0q1NTVI8ZL1",
        "colab": {
          "base_uri": "https://localhost:8080/",
          "height": 265
        },
        "outputId": "39c668d8-10bd-4620-8c51-64d077bdbbf6"
      },
      "source": [
        "import seaborn as sns\n",
        "\n",
        "sns.heatmap(confusion_matrix(test_y, y_pred), cmap=plt.cm.inferno)\n",
        "plt.show()"
      ],
      "execution_count": null,
      "outputs": [
        {
          "output_type": "display_data",
          "data": {
            "image/png": "[encoded data removed]",
            "text/plain": [
              "<Figure size 432x288 with 2 Axes>"
            ]
          },
          "metadata": {
            "tags": [],
            "needs_background": "light"
          }
        }
      ]
    },
    {
      "cell_type": "code",
      "metadata": {
        "id": "g7kiXivw_pS2"
      },
      "source": [
        "# Model score returns the models accraucy\n",
        "\n",
        "t0 = datetime.now()\n",
        "\n",
        "print(\"Train Score\", model.score(train_x_normalized, train_y), \"Duration: \", dateime.now()-t0)"
      ],
      "execution_count": null,
      "outputs": []
    },
    {
      "cell_type": "code",
      "metadata": {
        "id": "j6qGyJMe_rm8"
      },
      "source": [
        "t0 = datetime.now()\n",
        "\n",
        "print(\"Test Score\", model.score(test_x_normalized, test_y), \"Duration: \", dateime.now()-t0)"
      ],
      "execution_count": null,
      "outputs": []
    },
    {
      "cell_type": "markdown",
      "metadata": {
        "id": "PS8nXJGk_M1G"
      },
      "source": [
        "# Spam: Binary Classificaiton"
      ]
    },
    {
      "cell_type": "code",
      "metadata": {
        "id": "FYMV9MLM_U0R",
        "colab": {
          "base_uri": "https://localhost:8080/"
        },
        "outputId": "b45338d4-4284-4d01-95d8-239df059b8f7"
      },
      "source": [
        "!wget \"https://github.com/vfp1/bts-mbds-classical-data-analysis-2019/raw/master/05_SVM/data/spam.csv\""
      ],
      "execution_count": 1,
      "outputs": [
        {
          "output_type": "stream",
          "text": [
            "--2021-02-19 11:01:37--  https://github.com/vfp1/bts-mbds-classical-data-analysis-2019/raw/master/05_SVM/data/spam.csv\n",
            "Resolving github.com (github.com)... 140.82.112.3\n",
            "Connecting to github.com (github.com)|140.82.112.3|:443... connected.\n",
            "HTTP request sent, awaiting response... 302 Found\n",
            "Location: https://raw.githubusercontent.com/vfp1/bts-mbds-classical-data-analysis-2019/master/05_SVM/data/spam.csv [following]\n",
            "--2021-02-19 11:01:37--  https://raw.githubusercontent.com/vfp1/bts-mbds-classical-data-analysis-2019/master/05_SVM/data/spam.csv\n",
            "Resolving raw.githubusercontent.com (raw.githubusercontent.com)... 185.199.108.133, 185.199.109.133, 185.199.110.133, ...\n",
            "Connecting to raw.githubusercontent.com (raw.githubusercontent.com)|185.199.108.133|:443... connected.\n",
            "HTTP request sent, awaiting response... 200 OK\n",
            "Length: 503663 (492K) [text/plain]\n",
            "Saving to: ‘spam.csv’\n",
            "\n",
            "spam.csv            100%[===================>] 491.86K  --.-KB/s    in 0.04s   \n",
            "\n",
            "2021-02-19 11:01:37 (11.2 MB/s) - ‘spam.csv’ saved [503663/503663]\n",
            "\n"
          ],
          "name": "stdout"
        }
      ]
    },
    {
      "cell_type": "code",
      "metadata": {
        "id": "jVnqRJot_U2x",
        "colab": {
          "base_uri": "https://localhost:8080/",
          "height": 204
        },
        "outputId": "6c5101e8-4a52-4631-e737-7c0931c70171"
      },
      "source": [
        "import pandas as pd\n",
        "\n",
        "df_spam = pd.read_csv('https://github.com/vfp1/bts-mbds-classical-data-analysis-2019/raw/master/05_SVM/data/spam.csv', encoding='ISO-8859-1')\n",
        "df_spam.head()"
      ],
      "execution_count": 2,
      "outputs": [
        {
          "output_type": "execute_result",
          "data": {
            "text/html": [
              "<div>\n",
              "<style scoped>\n",
              "    .dataframe tbody tr th:only-of-type {\n",
              "        vertical-align: middle;\n",
              "    }\n",
              "\n",
              "    .dataframe tbody tr th {\n",
              "        vertical-align: top;\n",
              "    }\n",
              "\n",
              "    .dataframe thead th {\n",
              "        text-align: right;\n",
              "    }\n",
              "</style>\n",
              "<table border=\"1\" class=\"dataframe\">\n",
              "  <thead>\n",
              "    <tr style=\"text-align: right;\">\n",
              "      <th></th>\n",
              "      <th>v1</th>\n",
              "      <th>v2</th>\n",
              "      <th>Unnamed: 2</th>\n",
              "      <th>Unnamed: 3</th>\n",
              "      <th>Unnamed: 4</th>\n",
              "    </tr>\n",
              "  </thead>\n",
              "  <tbody>\n",
              "    <tr>\n",
              "      <th>0</th>\n",
              "      <td>ham</td>\n",
              "      <td>Go until jurong point, crazy.. Available only ...</td>\n",
              "      <td>NaN</td>\n",
              "      <td>NaN</td>\n",
              "      <td>NaN</td>\n",
              "    </tr>\n",
              "    <tr>\n",
              "      <th>1</th>\n",
              "      <td>ham</td>\n",
              "      <td>Ok lar... Joking wif u oni...</td>\n",
              "      <td>NaN</td>\n",
              "      <td>NaN</td>\n",
              "      <td>NaN</td>\n",
              "    </tr>\n",
              "    <tr>\n",
              "      <th>2</th>\n",
              "      <td>spam</td>\n",
              "      <td>Free entry in 2 a wkly comp to win FA Cup fina...</td>\n",
              "      <td>NaN</td>\n",
              "      <td>NaN</td>\n",
              "      <td>NaN</td>\n",
              "    </tr>\n",
              "    <tr>\n",
              "      <th>3</th>\n",
              "      <td>ham</td>\n",
              "      <td>U dun say so early hor... U c already then say...</td>\n",
              "      <td>NaN</td>\n",
              "      <td>NaN</td>\n",
              "      <td>NaN</td>\n",
              "    </tr>\n",
              "    <tr>\n",
              "      <th>4</th>\n",
              "      <td>ham</td>\n",
              "      <td>Nah I don't think he goes to usf, he lives aro...</td>\n",
              "      <td>NaN</td>\n",
              "      <td>NaN</td>\n",
              "      <td>NaN</td>\n",
              "    </tr>\n",
              "  </tbody>\n",
              "</table>\n",
              "</div>"
            ],
            "text/plain": [
              "     v1  ... Unnamed: 4\n",
              "0   ham  ...        NaN\n",
              "1   ham  ...        NaN\n",
              "2  spam  ...        NaN\n",
              "3   ham  ...        NaN\n",
              "4   ham  ...        NaN\n",
              "\n",
              "[5 rows x 5 columns]"
            ]
          },
          "metadata": {
            "tags": []
          },
          "execution_count": 2
        }
      ]
    },
    {
      "cell_type": "code",
      "metadata": {
        "id": "gH2cp2ez_U5L",
        "colab": {
          "base_uri": "https://localhost:8080/",
          "height": 359
        },
        "outputId": "c6eb90ff-83b3-4e04-f6bf-793dd0ee93a7"
      },
      "source": [
        "df_spam = df_spam.drop([\"Unnamed: 2\", \"Unnamed: 3\", \"Unnamed: 4\"], axis=1)\n",
        "df_spam.head(10)"
      ],
      "execution_count": 3,
      "outputs": [
        {
          "output_type": "execute_result",
          "data": {
            "text/html": [
              "<div>\n",
              "<style scoped>\n",
              "    .dataframe tbody tr th:only-of-type {\n",
              "        vertical-align: middle;\n",
              "    }\n",
              "\n",
              "    .dataframe tbody tr th {\n",
              "        vertical-align: top;\n",
              "    }\n",
              "\n",
              "    .dataframe thead th {\n",
              "        text-align: right;\n",
              "    }\n",
              "</style>\n",
              "<table border=\"1\" class=\"dataframe\">\n",
              "  <thead>\n",
              "    <tr style=\"text-align: right;\">\n",
              "      <th></th>\n",
              "      <th>v1</th>\n",
              "      <th>v2</th>\n",
              "    </tr>\n",
              "  </thead>\n",
              "  <tbody>\n",
              "    <tr>\n",
              "      <th>0</th>\n",
              "      <td>ham</td>\n",
              "      <td>Go until jurong point, crazy.. Available only ...</td>\n",
              "    </tr>\n",
              "    <tr>\n",
              "      <th>1</th>\n",
              "      <td>ham</td>\n",
              "      <td>Ok lar... Joking wif u oni...</td>\n",
              "    </tr>\n",
              "    <tr>\n",
              "      <th>2</th>\n",
              "      <td>spam</td>\n",
              "      <td>Free entry in 2 a wkly comp to win FA Cup fina...</td>\n",
              "    </tr>\n",
              "    <tr>\n",
              "      <th>3</th>\n",
              "      <td>ham</td>\n",
              "      <td>U dun say so early hor... U c already then say...</td>\n",
              "    </tr>\n",
              "    <tr>\n",
              "      <th>4</th>\n",
              "      <td>ham</td>\n",
              "      <td>Nah I don't think he goes to usf, he lives aro...</td>\n",
              "    </tr>\n",
              "    <tr>\n",
              "      <th>5</th>\n",
              "      <td>spam</td>\n",
              "      <td>FreeMsg Hey there darling it's been 3 week's n...</td>\n",
              "    </tr>\n",
              "    <tr>\n",
              "      <th>6</th>\n",
              "      <td>ham</td>\n",
              "      <td>Even my brother is not like to speak with me. ...</td>\n",
              "    </tr>\n",
              "    <tr>\n",
              "      <th>7</th>\n",
              "      <td>ham</td>\n",
              "      <td>As per your request 'Melle Melle (Oru Minnamin...</td>\n",
              "    </tr>\n",
              "    <tr>\n",
              "      <th>8</th>\n",
              "      <td>spam</td>\n",
              "      <td>WINNER!! As a valued network customer you have...</td>\n",
              "    </tr>\n",
              "    <tr>\n",
              "      <th>9</th>\n",
              "      <td>spam</td>\n",
              "      <td>Had your mobile 11 months or more? U R entitle...</td>\n",
              "    </tr>\n",
              "  </tbody>\n",
              "</table>\n",
              "</div>"
            ],
            "text/plain": [
              "     v1                                                 v2\n",
              "0   ham  Go until jurong point, crazy.. Available only ...\n",
              "1   ham                      Ok lar... Joking wif u oni...\n",
              "2  spam  Free entry in 2 a wkly comp to win FA Cup fina...\n",
              "3   ham  U dun say so early hor... U c already then say...\n",
              "4   ham  Nah I don't think he goes to usf, he lives aro...\n",
              "5  spam  FreeMsg Hey there darling it's been 3 week's n...\n",
              "6   ham  Even my brother is not like to speak with me. ...\n",
              "7   ham  As per your request 'Melle Melle (Oru Minnamin...\n",
              "8  spam  WINNER!! As a valued network customer you have...\n",
              "9  spam  Had your mobile 11 months or more? U R entitle..."
            ]
          },
          "metadata": {
            "tags": []
          },
          "execution_count": 3
        }
      ]
    },
    {
      "cell_type": "code",
      "metadata": {
        "id": "CMF4Ii6J_U67",
        "colab": {
          "base_uri": "https://localhost:8080/",
          "height": 204
        },
        "outputId": "30483876-7da9-436d-a05e-a4a8605449a4"
      },
      "source": [
        "df_spam.columns = [\"labels\", \"data\"]\n",
        "df_spam.head()"
      ],
      "execution_count": 4,
      "outputs": [
        {
          "output_type": "execute_result",
          "data": {
            "text/html": [
              "<div>\n",
              "<style scoped>\n",
              "    .dataframe tbody tr th:only-of-type {\n",
              "        vertical-align: middle;\n",
              "    }\n",
              "\n",
              "    .dataframe tbody tr th {\n",
              "        vertical-align: top;\n",
              "    }\n",
              "\n",
              "    .dataframe thead th {\n",
              "        text-align: right;\n",
              "    }\n",
              "</style>\n",
              "<table border=\"1\" class=\"dataframe\">\n",
              "  <thead>\n",
              "    <tr style=\"text-align: right;\">\n",
              "      <th></th>\n",
              "      <th>labels</th>\n",
              "      <th>data</th>\n",
              "    </tr>\n",
              "  </thead>\n",
              "  <tbody>\n",
              "    <tr>\n",
              "      <th>0</th>\n",
              "      <td>ham</td>\n",
              "      <td>Go until jurong point, crazy.. Available only ...</td>\n",
              "    </tr>\n",
              "    <tr>\n",
              "      <th>1</th>\n",
              "      <td>ham</td>\n",
              "      <td>Ok lar... Joking wif u oni...</td>\n",
              "    </tr>\n",
              "    <tr>\n",
              "      <th>2</th>\n",
              "      <td>spam</td>\n",
              "      <td>Free entry in 2 a wkly comp to win FA Cup fina...</td>\n",
              "    </tr>\n",
              "    <tr>\n",
              "      <th>3</th>\n",
              "      <td>ham</td>\n",
              "      <td>U dun say so early hor... U c already then say...</td>\n",
              "    </tr>\n",
              "    <tr>\n",
              "      <th>4</th>\n",
              "      <td>ham</td>\n",
              "      <td>Nah I don't think he goes to usf, he lives aro...</td>\n",
              "    </tr>\n",
              "  </tbody>\n",
              "</table>\n",
              "</div>"
            ],
            "text/plain": [
              "  labels                                               data\n",
              "0    ham  Go until jurong point, crazy.. Available only ...\n",
              "1    ham                      Ok lar... Joking wif u oni...\n",
              "2   spam  Free entry in 2 a wkly comp to win FA Cup fina...\n",
              "3    ham  U dun say so early hor... U c already then say...\n",
              "4    ham  Nah I don't think he goes to usf, he lives aro..."
            ]
          },
          "metadata": {
            "tags": []
          },
          "execution_count": 4
        }
      ]
    },
    {
      "cell_type": "code",
      "metadata": {
        "id": "EJUgUEVJ_U-W",
        "colab": {
          "base_uri": "https://localhost:8080/",
          "height": 204
        },
        "outputId": "07e6fea9-de97-4f4d-9b18-e88b8ebfdba8"
      },
      "source": [
        "# Lets create a column for binary labels\n",
        "\n",
        "df_spam['binary_labels'] = df_spam['labels'].map({\"ham\":0, \"spam\":1})\n",
        "df_spam.head()"
      ],
      "execution_count": 5,
      "outputs": [
        {
          "output_type": "execute_result",
          "data": {
            "text/html": [
              "<div>\n",
              "<style scoped>\n",
              "    .dataframe tbody tr th:only-of-type {\n",
              "        vertical-align: middle;\n",
              "    }\n",
              "\n",
              "    .dataframe tbody tr th {\n",
              "        vertical-align: top;\n",
              "    }\n",
              "\n",
              "    .dataframe thead th {\n",
              "        text-align: right;\n",
              "    }\n",
              "</style>\n",
              "<table border=\"1\" class=\"dataframe\">\n",
              "  <thead>\n",
              "    <tr style=\"text-align: right;\">\n",
              "      <th></th>\n",
              "      <th>labels</th>\n",
              "      <th>data</th>\n",
              "      <th>binary_labels</th>\n",
              "    </tr>\n",
              "  </thead>\n",
              "  <tbody>\n",
              "    <tr>\n",
              "      <th>0</th>\n",
              "      <td>ham</td>\n",
              "      <td>Go until jurong point, crazy.. Available only ...</td>\n",
              "      <td>0</td>\n",
              "    </tr>\n",
              "    <tr>\n",
              "      <th>1</th>\n",
              "      <td>ham</td>\n",
              "      <td>Ok lar... Joking wif u oni...</td>\n",
              "      <td>0</td>\n",
              "    </tr>\n",
              "    <tr>\n",
              "      <th>2</th>\n",
              "      <td>spam</td>\n",
              "      <td>Free entry in 2 a wkly comp to win FA Cup fina...</td>\n",
              "      <td>1</td>\n",
              "    </tr>\n",
              "    <tr>\n",
              "      <th>3</th>\n",
              "      <td>ham</td>\n",
              "      <td>U dun say so early hor... U c already then say...</td>\n",
              "      <td>0</td>\n",
              "    </tr>\n",
              "    <tr>\n",
              "      <th>4</th>\n",
              "      <td>ham</td>\n",
              "      <td>Nah I don't think he goes to usf, he lives aro...</td>\n",
              "      <td>0</td>\n",
              "    </tr>\n",
              "  </tbody>\n",
              "</table>\n",
              "</div>"
            ],
            "text/plain": [
              "  labels                                               data  binary_labels\n",
              "0    ham  Go until jurong point, crazy.. Available only ...              0\n",
              "1    ham                      Ok lar... Joking wif u oni...              0\n",
              "2   spam  Free entry in 2 a wkly comp to win FA Cup fina...              1\n",
              "3    ham  U dun say so early hor... U c already then say...              0\n",
              "4    ham  Nah I don't think he goes to usf, he lives aro...              0"
            ]
          },
          "metadata": {
            "tags": []
          },
          "execution_count": 5
        }
      ]
    },
    {
      "cell_type": "code",
      "metadata": {
        "id": "McUpR0o0E1ze",
        "colab": {
          "base_uri": "https://localhost:8080/"
        },
        "outputId": "e11148eb-17ff-44dd-82eb-3919d4a51080"
      },
      "source": [
        "# Lets create a Y matrix by extracting our Numpy array\n",
        "\n",
        "\"\"\"\n",
        "We don't really need to do this as sklearn accepts strings and series as labels,\n",
        "however, it is good practice to have a nuermical representation of the data\n",
        "if we want to build our own outside of Sklearn\n",
        "\"\"\"\n",
        "\n",
        "Y = df_spam[\"binary_labels\"].values\n",
        "Y"
      ],
      "execution_count": 6,
      "outputs": [
        {
          "output_type": "execute_result",
          "data": {
            "text/plain": [
              "array([0, 0, 1, ..., 0, 0, 0])"
            ]
          },
          "metadata": {
            "tags": []
          },
          "execution_count": 6
        }
      ]
    },
    {
      "cell_type": "code",
      "metadata": {
        "id": "3BvHRVBFE12n"
      },
      "source": [
        "# Now we need only have text in our data column so we need to vectorize it\n",
        "# We can do this using tf-idf\n",
        "\n",
        "from sklearn.feature_extraction.text import TfidfVectorizer\n",
        "\n",
        "tfidf = TfidfVectorizer(decode_error=\"ignore\")\n",
        "\n",
        "x_tfidf = tf_idf.fit_transform(df_spam[\"data\"])\n",
        "\n"
      ],
      "execution_count": 28,
      "outputs": []
    },
    {
      "cell_type": "code",
      "metadata": {
        "id": "oh0WSmMQ-0mP"
      },
      "source": [
        "from sklearn.model_selection import train_test_split\n",
        "\n",
        "x_train_tfidf, x_test_tfidf, y_train_tfidf, y_test_tfidf = train_test_split(x_tfidf, Y, test_size=0.20, random_state=42)"
      ],
      "execution_count": 29,
      "outputs": []
    },
    {
      "cell_type": "code",
      "metadata": {
        "colab": {
          "base_uri": "https://localhost:8080/"
        },
        "id": "1GPKyI2P-0o2",
        "outputId": "b40b9630-ff57-42e7-f3fb-f1971bfebb9d"
      },
      "source": [
        "print(\"x_train_tfidf\", x_train_tfidf.shape)\n",
        "print(\"x_test_tfidf\", x_test_tfidf.shape)\n",
        "print(\"y_train_tfidf\", y_train_tfidf.shape)\n",
        "print(\"y_test_tfidf\", y_test_tfidf.shape)"
      ],
      "execution_count": 30,
      "outputs": [
        {
          "output_type": "stream",
          "text": [
            "x_train_tfidf (4457, 8672)\n",
            "x_test_tfidf (1115, 8672)\n",
            "y_train_tfidf (4457,)\n",
            "y_test_tfidf (1115,)\n"
          ],
          "name": "stdout"
        }
      ]
    },
    {
      "cell_type": "code",
      "metadata": {
        "id": "HTo3nC7H-0u1"
      },
      "source": [
        "# Now that we have prepared the data and done our train_test_split we can fit the SVC\n",
        "# Since this is a binary classification problem and linear classifier/kernal should work well so I will try this first\n",
        "# With a C = 2 wont be so strict and allow violations to our model as in a spam dataset there is likely to be outliers, tus, I think there we would attain a\n",
        "# better separation line with less strict model\n",
        "\n",
        "\n",
        "\"\"\"\n",
        "C refers to the amount of violations we will allow to our margin, the greater C, the stricter we will be in allowing violations to the margin.\n",
        "The strength of the regularization is inversely proportional to C. Must be strictly positive.e The penalty is a squared l2 penalty.\n",
        "\"\"\"\n",
        "\n",
        "from sklearn.svm import SVC\n",
        "\n",
        "svc = SVC(kernel=\"linear\", C=2)"
      ],
      "execution_count": 36,
      "outputs": []
    },
    {
      "cell_type": "code",
      "metadata": {
        "id": "67mhMOT1-0yT"
      },
      "source": [
        "# Fit the svc\n",
        "\n",
        "model = svc.fit(x_train_tfidf, y_train_tfidf)"
      ],
      "execution_count": 37,
      "outputs": []
    },
    {
      "cell_type": "code",
      "metadata": {
        "id": "OKRDH5sw-00d"
      },
      "source": [
        "# Predict with our model\n",
        "\n",
        "y_pred = svc.predict(x_test_tfidf)"
      ],
      "execution_count": 38,
      "outputs": []
    },
    {
      "cell_type": "code",
      "metadata": {
        "colab": {
          "base_uri": "https://localhost:8080/"
        },
        "id": "emIgzgwc-03B",
        "outputId": "271bb9bd-c370-46ba-fee5-3329cc9a29a2"
      },
      "source": [
        "from sklearn import metrics\n",
        "from sklearn.metrics import confusion_matrix\n",
        "from sklearn.metrics import classification_report\n",
        "\n",
        "print(\"Classification report for classifier %s:\\n%s\\n\"\n",
        "      % (model, metrics.classification_report(y_test_tfidf, y_pred)))\n",
        "print(\"Confusion matrix:\\n%s\" % metrics.confusion_matrix(y_test_tfidf, y_pred))"
      ],
      "execution_count": 39,
      "outputs": [
        {
          "output_type": "stream",
          "text": [
            "Classification report for classifier SVC(C=2, break_ties=False, cache_size=200, class_weight=None, coef0=0.0,\n",
            "    decision_function_shape='ovr', degree=3, gamma='scale', kernel='linear',\n",
            "    max_iter=-1, probability=False, random_state=None, shrinking=True,\n",
            "    tol=0.001, verbose=False):\n",
            "              precision    recall  f1-score   support\n",
            "\n",
            "           0       0.98      1.00      0.99       965\n",
            "           1       0.98      0.86      0.91       150\n",
            "\n",
            "    accuracy                           0.98      1115\n",
            "   macro avg       0.98      0.93      0.95      1115\n",
            "weighted avg       0.98      0.98      0.98      1115\n",
            "\n",
            "\n",
            "Confusion matrix:\n",
            "[[962   3]\n",
            " [ 21 129]]\n"
          ],
          "name": "stdout"
        }
      ]
    },
    {
      "cell_type": "code",
      "metadata": {
        "colab": {
          "base_uri": "https://localhost:8080/",
          "height": 282
        },
        "id": "ayJE8_l9-05i",
        "outputId": "321404a3-8f9a-45c2-bba4-d19eb5d55018"
      },
      "source": [
        "import seaborn as sns\n",
        "\n",
        "sns.heatmap(confusion_matrix(y_test_tfidf, y_pred))"
      ],
      "execution_count": 40,
      "outputs": [
        {
          "output_type": "execute_result",
          "data": {
            "text/plain": [
              "<matplotlib.axes._subplots.AxesSubplot at 0x7fe5d00e3860>"
            ]
          },
          "metadata": {
            "tags": []
          },
          "execution_count": 40
        },
        {
          "output_type": "display_data",
          "data": {
            "image/png": "[encoded data removed]",
            "text/plain": [
              "<Figure size 432x288 with 2 Axes>"
            ]
          },
          "metadata": {
            "tags": [],
            "needs_background": "light"
          }
        }
      ]
    },
    {
      "cell_type": "code",
      "metadata": {
        "colab": {
          "base_uri": "https://localhost:8080/"
        },
        "id": "dFocpwnM-08b",
        "outputId": "bb621368-2c87-4753-f326-7942d4091ca3"
      },
      "source": [
        "# Once again our model score reflects the accuracy of the SVC\n",
        "from datetime import datetime\n",
        "\n",
        "t0 = datetime.now()\n",
        "\n",
        "print(\"Train Score: \",model.score(x_train_tfidf, y_train_tfidf)) # \"Duration: \" datetime.now() - t0)\n"
      ],
      "execution_count": 47,
      "outputs": [
        {
          "output_type": "stream",
          "text": [
            "Train Score:  0.9993269015032533\n"
          ],
          "name": "stdout"
        }
      ]
    },
    {
      "cell_type": "code",
      "metadata": {
        "colab": {
          "base_uri": "https://localhost:8080/"
        },
        "id": "P1uedM7O-0_x",
        "outputId": "9bb2acc1-c0bb-4979-ce68-ed787ff9a892"
      },
      "source": [
        "t0 = datetime.now()\n",
        "\n",
        "print(\"Test Score: \", model.score(x_test_tfidf, y_test_tfidf), \"Duration: \", datetime.now()-t0)\n",
        "\n",
        "# We can see the the SVC linear kernal is doing a great job at separating the spam and non-spam emails in this binary classificaiton proble,"
      ],
      "execution_count": 45,
      "outputs": [
        {
          "output_type": "stream",
          "text": [
            "Test Score:  0.97847533632287 Duration:  0:00:00.183800\n"
          ],
          "name": "stdout"
        }
      ]
    },
    {
      "cell_type": "code",
      "metadata": {
        "colab": {
          "base_uri": "https://localhost:8080/",
          "height": 35
        },
        "id": "aHG7-laoHpFy",
        "outputId": "24c78ffa-c54f-4109-cd6c-fdc93a17f615"
      },
      "source": [
        "import sklearn\n",
        "sklearn.__version__"
      ],
      "execution_count": 49,
      "outputs": [
        {
          "output_type": "execute_result",
          "data": {
            "application/vnd.google.colaboratory.intrinsic+json": {
              "type": "string"
            },
            "text/plain": [
              "'0.22.2.post1'"
            ]
          },
          "metadata": {
            "tags": []
          },
          "execution_count": 49
        }
      ]
    },
    {
      "cell_type": "code",
      "metadata": {
        "colab": {
          "base_uri": "https://localhost:8080/",
          "height": 279
        },
        "id": "H4km0qpIHz6E",
        "outputId": "30ca8fe6-4ade-4b12-df62-f519d4d3b0a4"
      },
      "source": [
        "# Lets plot the precision recall curve\n",
        "\n",
        "from sklearn.metrics import precision_recall_curve\n",
        "from sklearn.metrics import plot_precision_recall_curve\n",
        "import matplotlib.pyplot as plt\n",
        "\n",
        "disp = plot_precision_recall_curve(model, x_test_tfidf, y_test_tfidf)\n"
      ],
      "execution_count": 51,
      "outputs": [
        {
          "output_type": "display_data",
          "data": {
            "image/png": "[encoded data removed]",
            "text/plain": [
              "<Figure size 432x288 with 1 Axes>"
            ]
          },
          "metadata": {
            "tags": [],
            "needs_background": "light"
          }
        }
      ]
    },
    {
      "cell_type": "markdown",
      "metadata": {
        "id": "Up7Xvm7LFY-N"
      },
      "source": [
        "# Breast Cancer Detection"
      ]
    },
    {
      "cell_type": "code",
      "metadata": {
        "id": "403bJ7ANGF2Y"
      },
      "source": [
        "from sklearn.datasets import load_breast_cancer\n",
        "\n",
        "data = load_breast_cancer()"
      ],
      "execution_count": 53,
      "outputs": []
    },
    {
      "cell_type": "code",
      "metadata": {
        "colab": {
          "base_uri": "https://localhost:8080/"
        },
        "id": "sFDo58EGIzUx",
        "outputId": "208ece25-c138-48c6-c639-70b01d8ef36f"
      },
      "source": [
        "print(data.DESCR)"
      ],
      "execution_count": 58,
      "outputs": [
        {
          "output_type": "stream",
          "text": [
            ".. _breast_cancer_dataset:\n",
            "\n",
            "Breast cancer wisconsin (diagnostic) dataset\n",
            "--------------------------------------------\n",
            "\n",
            "**Data Set Characteristics:**\n",
            "\n",
            "    :Number of Instances: 569\n",
            "\n",
            "    :Number of Attributes: 30 numeric, predictive attributes and the class\n",
            "\n",
            "    :Attribute Information:\n",
            "        - radius (mean of distances from center to points on the perimeter)\n",
            "        - texture (standard deviation of gray-scale values)\n",
            "        - perimeter\n",
            "        - area\n",
            "        - smoothness (local variation in radius lengths)\n",
            "        - compactness (perimeter^2 / area - 1.0)\n",
            "        - concavity (severity of concave portions of the contour)\n",
            "        - concave points (number of concave portions of the contour)\n",
            "        - symmetry \n",
            "        - fractal dimension (\"coastline approximation\" - 1)\n",
            "\n",
            "        The mean, standard error, and \"worst\" or largest (mean of the three\n",
            "        largest values) of these features were computed for each image,\n",
            "        resulting in 30 features.  For instance, field 3 is Mean Radius, field\n",
            "        13 is Radius SE, field 23 is Worst Radius.\n",
            "\n",
            "        - class:\n",
            "                - WDBC-Malignant\n",
            "                - WDBC-Benign\n",
            "\n",
            "    :Summary Statistics:\n",
            "\n",
            "    ===================================== ====== ======\n",
            "                                           Min    Max\n",
            "    ===================================== ====== ======\n",
            "    radius (mean):                        6.981  28.11\n",
            "    texture (mean):                       9.71   39.28\n",
            "    perimeter (mean):                     43.79  188.5\n",
            "    area (mean):                          143.5  2501.0\n",
            "    smoothness (mean):                    0.053  0.163\n",
            "    compactness (mean):                   0.019  0.345\n",
            "    concavity (mean):                     0.0    0.427\n",
            "    concave points (mean):                0.0    0.201\n",
            "    symmetry (mean):                      0.106  0.304\n",
            "    fractal dimension (mean):             0.05   0.097\n",
            "    radius (standard error):              0.112  2.873\n",
            "    texture (standard error):             0.36   4.885\n",
            "    perimeter (standard error):           0.757  21.98\n",
            "    area (standard error):                6.802  542.2\n",
            "    smoothness (standard error):          0.002  0.031\n",
            "    compactness (standard error):         0.002  0.135\n",
            "    concavity (standard error):           0.0    0.396\n",
            "    concave points (standard error):      0.0    0.053\n",
            "    symmetry (standard error):            0.008  0.079\n",
            "    fractal dimension (standard error):   0.001  0.03\n",
            "    radius (worst):                       7.93   36.04\n",
            "    texture (worst):                      12.02  49.54\n",
            "    perimeter (worst):                    50.41  251.2\n",
            "    area (worst):                         185.2  4254.0\n",
            "    smoothness (worst):                   0.071  0.223\n",
            "    compactness (worst):                  0.027  1.058\n",
            "    concavity (worst):                    0.0    1.252\n",
            "    concave points (worst):               0.0    0.291\n",
            "    symmetry (worst):                     0.156  0.664\n",
            "    fractal dimension (worst):            0.055  0.208\n",
            "    ===================================== ====== ======\n",
            "\n",
            "    :Missing Attribute Values: None\n",
            "\n",
            "    :Class Distribution: 212 - Malignant, 357 - Benign\n",
            "\n",
            "    :Creator:  Dr. William H. Wolberg, W. Nick Street, Olvi L. Mangasarian\n",
            "\n",
            "    :Donor: Nick Street\n",
            "\n",
            "    :Date: November, 1995\n",
            "\n",
            "This is a copy of UCI ML Breast Cancer Wisconsin (Diagnostic) datasets.\n",
            "https://goo.gl/U2Uwz2\n",
            "\n",
            "Features are computed from a digitized image of a fine needle\n",
            "aspirate (FNA) of a breast mass.  They describe\n",
            "characteristics of the cell nuclei present in the image.\n",
            "\n",
            "Separating plane described above was obtained using\n",
            "Multisurface Method-Tree (MSM-T) [K. P. Bennett, \"Decision Tree\n",
            "Construction Via Linear Programming.\" Proceedings of the 4th\n",
            "Midwest Artificial Intelligence and Cognitive Science Society,\n",
            "pp. 97-101, 1992], a classification method which uses linear\n",
            "programming to construct a decision tree.  Relevant features\n",
            "were selected using an exhaustive search in the space of 1-4\n",
            "features and 1-3 separating planes.\n",
            "\n",
            "The actual linear program used to obtain the separating plane\n",
            "in the 3-dimensional space is that described in:\n",
            "[K. P. Bennett and O. L. Mangasarian: \"Robust Linear\n",
            "Programming Discrimination of Two Linearly Inseparable Sets\",\n",
            "Optimization Methods and Software 1, 1992, 23-34].\n",
            "\n",
            "This database is also available through the UW CS ftp server:\n",
            "\n",
            "ftp ftp.cs.wisc.edu\n",
            "cd math-prog/cpo-dataset/machine-learn/WDBC/\n",
            "\n",
            ".. topic:: References\n",
            "\n",
            "   - W.N. Street, W.H. Wolberg and O.L. Mangasarian. Nuclear feature extraction \n",
            "     for breast tumor diagnosis. IS&T/SPIE 1993 International Symposium on \n",
            "     Electronic Imaging: Science and Technology, volume 1905, pages 861-870,\n",
            "     San Jose, CA, 1993.\n",
            "   - O.L. Mangasarian, W.N. Street and W.H. Wolberg. Breast cancer diagnosis and \n",
            "     prognosis via linear programming. Operations Research, 43(4), pages 570-577, \n",
            "     July-August 1995.\n",
            "   - W.H. Wolberg, W.N. Street, and O.L. Mangasarian. Machine learning techniques\n",
            "     to diagnose breast cancer from fine-needle aspirates. Cancer Letters 77 (1994) \n",
            "     163-171.\n"
          ],
          "name": "stdout"
        }
      ]
    },
    {
      "cell_type": "code",
      "metadata": {
        "colab": {
          "base_uri": "https://localhost:8080/"
        },
        "id": "QnS79hyuGF4p",
        "outputId": "c1ef184a-65d7-4200-ef85-7f04f68bb16c"
      },
      "source": [
        "data.data.shape"
      ],
      "execution_count": 54,
      "outputs": [
        {
          "output_type": "execute_result",
          "data": {
            "text/plain": [
              "(569, 30)"
            ]
          },
          "metadata": {
            "tags": []
          },
          "execution_count": 54
        }
      ]
    },
    {
      "cell_type": "code",
      "metadata": {
        "colab": {
          "base_uri": "https://localhost:8080/"
        },
        "id": "RMcytN4NGF7l",
        "outputId": "5777c111-0ac1-480f-909a-473356fe05d3"
      },
      "source": [
        "# Again, we have a binary classification problem, so first I would try a linear kernal svc\n",
        "# Not a radial kernal which was used in the lectures, no need to add unncessary complexity to our model\n",
        "\n",
        "data.target"
      ],
      "execution_count": 60,
      "outputs": [
        {
          "output_type": "execute_result",
          "data": {
            "text/plain": [
              "array([0, 0, 0, 0, 0, 0, 0, 0, 0, 0, 0, 0, 0, 0, 0, 0, 0, 0, 0, 1, 1, 1,\n",
              "       0, 0, 0, 0, 0, 0, 0, 0, 0, 0, 0, 0, 0, 0, 0, 1, 0, 0, 0, 0, 0, 0,\n",
              "       0, 0, 1, 0, 1, 1, 1, 1, 1, 0, 0, 1, 0, 0, 1, 1, 1, 1, 0, 1, 0, 0,\n",
              "       1, 1, 1, 1, 0, 1, 0, 0, 1, 0, 1, 0, 0, 1, 1, 1, 0, 0, 1, 0, 0, 0,\n",
              "       1, 1, 1, 0, 1, 1, 0, 0, 1, 1, 1, 0, 0, 1, 1, 1, 1, 0, 1, 1, 0, 1,\n",
              "       1, 1, 1, 1, 1, 1, 1, 0, 0, 0, 1, 0, 0, 1, 1, 1, 0, 0, 1, 0, 1, 0,\n",
              "       0, 1, 0, 0, 1, 1, 0, 1, 1, 0, 1, 1, 1, 1, 0, 1, 1, 1, 1, 1, 1, 1,\n",
              "       1, 1, 0, 1, 1, 1, 1, 0, 0, 1, 0, 1, 1, 0, 0, 1, 1, 0, 0, 1, 1, 1,\n",
              "       1, 0, 1, 1, 0, 0, 0, 1, 0, 1, 0, 1, 1, 1, 0, 1, 1, 0, 0, 1, 0, 0,\n",
              "       0, 0, 1, 0, 0, 0, 1, 0, 1, 0, 1, 1, 0, 1, 0, 0, 0, 0, 1, 1, 0, 0,\n",
              "       1, 1, 1, 0, 1, 1, 1, 1, 1, 0, 0, 1, 1, 0, 1, 1, 0, 0, 1, 0, 1, 1,\n",
              "       1, 1, 0, 1, 1, 1, 1, 1, 0, 1, 0, 0, 0, 0, 0, 0, 0, 0, 0, 0, 0, 0,\n",
              "       0, 0, 1, 1, 1, 1, 1, 1, 0, 1, 0, 1, 1, 0, 1, 1, 0, 1, 0, 0, 1, 1,\n",
              "       1, 1, 1, 1, 1, 1, 1, 1, 1, 1, 1, 0, 1, 1, 0, 1, 0, 1, 1, 1, 1, 1,\n",
              "       1, 1, 1, 1, 1, 1, 1, 1, 1, 0, 1, 1, 1, 0, 1, 0, 1, 1, 1, 1, 0, 0,\n",
              "       0, 1, 1, 1, 1, 0, 1, 0, 1, 0, 1, 1, 1, 0, 1, 1, 1, 1, 1, 1, 1, 0,\n",
              "       0, 0, 1, 1, 1, 1, 1, 1, 1, 1, 1, 1, 1, 0, 0, 1, 0, 0, 0, 1, 0, 0,\n",
              "       1, 1, 1, 1, 1, 0, 1, 1, 1, 1, 1, 0, 1, 1, 1, 0, 1, 1, 0, 0, 1, 1,\n",
              "       1, 1, 1, 1, 0, 1, 1, 1, 1, 1, 1, 1, 0, 1, 1, 1, 1, 1, 0, 1, 1, 0,\n",
              "       1, 1, 1, 1, 1, 1, 1, 1, 1, 1, 1, 1, 0, 1, 0, 0, 1, 0, 1, 1, 1, 1,\n",
              "       1, 0, 1, 1, 0, 1, 0, 1, 1, 0, 1, 0, 1, 1, 1, 1, 1, 1, 1, 1, 0, 0,\n",
              "       1, 1, 1, 1, 1, 1, 0, 1, 1, 1, 1, 1, 1, 1, 1, 1, 1, 0, 1, 1, 1, 1,\n",
              "       1, 1, 1, 0, 1, 0, 1, 1, 0, 1, 1, 1, 1, 1, 0, 0, 1, 0, 1, 0, 1, 1,\n",
              "       1, 1, 1, 0, 1, 1, 0, 1, 0, 1, 0, 0, 1, 1, 1, 0, 1, 1, 1, 1, 1, 1,\n",
              "       1, 1, 1, 1, 1, 0, 1, 0, 0, 1, 1, 1, 1, 1, 1, 1, 1, 1, 1, 1, 1, 1,\n",
              "       1, 1, 1, 1, 1, 1, 1, 1, 1, 1, 1, 1, 0, 0, 0, 0, 0, 0, 1])"
            ]
          },
          "metadata": {
            "tags": []
          },
          "execution_count": 60
        }
      ]
    },
    {
      "cell_type": "code",
      "metadata": {
        "colab": {
          "base_uri": "https://localhost:8080/",
          "height": 224
        },
        "id": "GxZyjYklJqC8",
        "outputId": "41df6db9-e4e7-4c8b-e3ab-f5cd45e61c6d"
      },
      "source": [
        "pd.DataFrame(data.data).head()"
      ],
      "execution_count": 64,
      "outputs": [
        {
          "output_type": "execute_result",
          "data": {
            "text/html": [
              "<div>\n",
              "<style scoped>\n",
              "    .dataframe tbody tr th:only-of-type {\n",
              "        vertical-align: middle;\n",
              "    }\n",
              "\n",
              "    .dataframe tbody tr th {\n",
              "        vertical-align: top;\n",
              "    }\n",
              "\n",
              "    .dataframe thead th {\n",
              "        text-align: right;\n",
              "    }\n",
              "</style>\n",
              "<table border=\"1\" class=\"dataframe\">\n",
              "  <thead>\n",
              "    <tr style=\"text-align: right;\">\n",
              "      <th></th>\n",
              "      <th>0</th>\n",
              "      <th>1</th>\n",
              "      <th>2</th>\n",
              "      <th>3</th>\n",
              "      <th>4</th>\n",
              "      <th>5</th>\n",
              "      <th>6</th>\n",
              "      <th>7</th>\n",
              "      <th>8</th>\n",
              "      <th>9</th>\n",
              "      <th>10</th>\n",
              "      <th>11</th>\n",
              "      <th>12</th>\n",
              "      <th>13</th>\n",
              "      <th>14</th>\n",
              "      <th>15</th>\n",
              "      <th>16</th>\n",
              "      <th>17</th>\n",
              "      <th>18</th>\n",
              "      <th>19</th>\n",
              "      <th>20</th>\n",
              "      <th>21</th>\n",
              "      <th>22</th>\n",
              "      <th>23</th>\n",
              "      <th>24</th>\n",
              "      <th>25</th>\n",
              "      <th>26</th>\n",
              "      <th>27</th>\n",
              "      <th>28</th>\n",
              "      <th>29</th>\n",
              "    </tr>\n",
              "  </thead>\n",
              "  <tbody>\n",
              "    <tr>\n",
              "      <th>0</th>\n",
              "      <td>17.99</td>\n",
              "      <td>10.38</td>\n",
              "      <td>122.80</td>\n",
              "      <td>1001.0</td>\n",
              "      <td>0.11840</td>\n",
              "      <td>0.27760</td>\n",
              "      <td>0.3001</td>\n",
              "      <td>0.14710</td>\n",
              "      <td>0.2419</td>\n",
              "      <td>0.07871</td>\n",
              "      <td>1.0950</td>\n",
              "      <td>0.9053</td>\n",
              "      <td>8.589</td>\n",
              "      <td>153.40</td>\n",
              "      <td>0.006399</td>\n",
              "      <td>0.04904</td>\n",
              "      <td>0.05373</td>\n",
              "      <td>0.01587</td>\n",
              "      <td>0.03003</td>\n",
              "      <td>0.006193</td>\n",
              "      <td>25.38</td>\n",
              "      <td>17.33</td>\n",
              "      <td>184.60</td>\n",
              "      <td>2019.0</td>\n",
              "      <td>0.1622</td>\n",
              "      <td>0.6656</td>\n",
              "      <td>0.7119</td>\n",
              "      <td>0.2654</td>\n",
              "      <td>0.4601</td>\n",
              "      <td>0.11890</td>\n",
              "    </tr>\n",
              "    <tr>\n",
              "      <th>1</th>\n",
              "      <td>20.57</td>\n",
              "      <td>17.77</td>\n",
              "      <td>132.90</td>\n",
              "      <td>1326.0</td>\n",
              "      <td>0.08474</td>\n",
              "      <td>0.07864</td>\n",
              "      <td>0.0869</td>\n",
              "      <td>0.07017</td>\n",
              "      <td>0.1812</td>\n",
              "      <td>0.05667</td>\n",
              "      <td>0.5435</td>\n",
              "      <td>0.7339</td>\n",
              "      <td>3.398</td>\n",
              "      <td>74.08</td>\n",
              "      <td>0.005225</td>\n",
              "      <td>0.01308</td>\n",
              "      <td>0.01860</td>\n",
              "      <td>0.01340</td>\n",
              "      <td>0.01389</td>\n",
              "      <td>0.003532</td>\n",
              "      <td>24.99</td>\n",
              "      <td>23.41</td>\n",
              "      <td>158.80</td>\n",
              "      <td>1956.0</td>\n",
              "      <td>0.1238</td>\n",
              "      <td>0.1866</td>\n",
              "      <td>0.2416</td>\n",
              "      <td>0.1860</td>\n",
              "      <td>0.2750</td>\n",
              "      <td>0.08902</td>\n",
              "    </tr>\n",
              "    <tr>\n",
              "      <th>2</th>\n",
              "      <td>19.69</td>\n",
              "      <td>21.25</td>\n",
              "      <td>130.00</td>\n",
              "      <td>1203.0</td>\n",
              "      <td>0.10960</td>\n",
              "      <td>0.15990</td>\n",
              "      <td>0.1974</td>\n",
              "      <td>0.12790</td>\n",
              "      <td>0.2069</td>\n",
              "      <td>0.05999</td>\n",
              "      <td>0.7456</td>\n",
              "      <td>0.7869</td>\n",
              "      <td>4.585</td>\n",
              "      <td>94.03</td>\n",
              "      <td>0.006150</td>\n",
              "      <td>0.04006</td>\n",
              "      <td>0.03832</td>\n",
              "      <td>0.02058</td>\n",
              "      <td>0.02250</td>\n",
              "      <td>0.004571</td>\n",
              "      <td>23.57</td>\n",
              "      <td>25.53</td>\n",
              "      <td>152.50</td>\n",
              "      <td>1709.0</td>\n",
              "      <td>0.1444</td>\n",
              "      <td>0.4245</td>\n",
              "      <td>0.4504</td>\n",
              "      <td>0.2430</td>\n",
              "      <td>0.3613</td>\n",
              "      <td>0.08758</td>\n",
              "    </tr>\n",
              "    <tr>\n",
              "      <th>3</th>\n",
              "      <td>11.42</td>\n",
              "      <td>20.38</td>\n",
              "      <td>77.58</td>\n",
              "      <td>386.1</td>\n",
              "      <td>0.14250</td>\n",
              "      <td>0.28390</td>\n",
              "      <td>0.2414</td>\n",
              "      <td>0.10520</td>\n",
              "      <td>0.2597</td>\n",
              "      <td>0.09744</td>\n",
              "      <td>0.4956</td>\n",
              "      <td>1.1560</td>\n",
              "      <td>3.445</td>\n",
              "      <td>27.23</td>\n",
              "      <td>0.009110</td>\n",
              "      <td>0.07458</td>\n",
              "      <td>0.05661</td>\n",
              "      <td>0.01867</td>\n",
              "      <td>0.05963</td>\n",
              "      <td>0.009208</td>\n",
              "      <td>14.91</td>\n",
              "      <td>26.50</td>\n",
              "      <td>98.87</td>\n",
              "      <td>567.7</td>\n",
              "      <td>0.2098</td>\n",
              "      <td>0.8663</td>\n",
              "      <td>0.6869</td>\n",
              "      <td>0.2575</td>\n",
              "      <td>0.6638</td>\n",
              "      <td>0.17300</td>\n",
              "    </tr>\n",
              "    <tr>\n",
              "      <th>4</th>\n",
              "      <td>20.29</td>\n",
              "      <td>14.34</td>\n",
              "      <td>135.10</td>\n",
              "      <td>1297.0</td>\n",
              "      <td>0.10030</td>\n",
              "      <td>0.13280</td>\n",
              "      <td>0.1980</td>\n",
              "      <td>0.10430</td>\n",
              "      <td>0.1809</td>\n",
              "      <td>0.05883</td>\n",
              "      <td>0.7572</td>\n",
              "      <td>0.7813</td>\n",
              "      <td>5.438</td>\n",
              "      <td>94.44</td>\n",
              "      <td>0.011490</td>\n",
              "      <td>0.02461</td>\n",
              "      <td>0.05688</td>\n",
              "      <td>0.01885</td>\n",
              "      <td>0.01756</td>\n",
              "      <td>0.005115</td>\n",
              "      <td>22.54</td>\n",
              "      <td>16.67</td>\n",
              "      <td>152.20</td>\n",
              "      <td>1575.0</td>\n",
              "      <td>0.1374</td>\n",
              "      <td>0.2050</td>\n",
              "      <td>0.4000</td>\n",
              "      <td>0.1625</td>\n",
              "      <td>0.2364</td>\n",
              "      <td>0.07678</td>\n",
              "    </tr>\n",
              "  </tbody>\n",
              "</table>\n",
              "</div>"
            ],
            "text/plain": [
              "      0      1       2       3   ...      26      27      28       29\n",
              "0  17.99  10.38  122.80  1001.0  ...  0.7119  0.2654  0.4601  0.11890\n",
              "1  20.57  17.77  132.90  1326.0  ...  0.2416  0.1860  0.2750  0.08902\n",
              "2  19.69  21.25  130.00  1203.0  ...  0.4504  0.2430  0.3613  0.08758\n",
              "3  11.42  20.38   77.58   386.1  ...  0.6869  0.2575  0.6638  0.17300\n",
              "4  20.29  14.34  135.10  1297.0  ...  0.4000  0.1625  0.2364  0.07678\n",
              "\n",
              "[5 rows x 30 columns]"
            ]
          },
          "metadata": {
            "tags": []
          },
          "execution_count": 64
        }
      ]
    },
    {
      "cell_type": "code",
      "metadata": {
        "id": "cySyXkbpGF-I"
      },
      "source": [
        "x = data.data\n",
        "y = data.target"
      ],
      "execution_count": 67,
      "outputs": []
    },
    {
      "cell_type": "code",
      "metadata": {
        "id": "N_rlnDpTGGA9"
      },
      "source": [
        "x_train, x_test, y_train, y_test = train_test_split(x, y, test_size = 0.2, random_state=42) "
      ],
      "execution_count": 68,
      "outputs": []
    },
    {
      "cell_type": "code",
      "metadata": {
        "id": "RWX1EHiKGGDD"
      },
      "source": [
        "# Now as per usual with SVMs we have to standardize our data\n",
        "\n",
        "from sklearn.preprocessing import StandardScaler\n",
        "\n",
        "scaler = StandardScaler()\n",
        "\n",
        "x_train_scaled = scaler.fit_transform(x_train)\n",
        "x_test_scaled = scaler.transform(x_test)"
      ],
      "execution_count": 69,
      "outputs": []
    },
    {
      "cell_type": "code",
      "metadata": {
        "id": "CKZoZQp3GGF8"
      },
      "source": [
        "# Now we can fit the svc\n",
        "# since, this is a binary classification problem I will first try with a linear model\n",
        "# since, we are detecting cancer we need to have a very high recall of accuracy, therefore, I am going to be strict and in terms of margin violations\n",
        "\n",
        "svc = SVC(kernel=\"linear\", C=300)\n",
        "\n",
        "model = svc.fit(x_train_scaled, y_train)"
      ],
      "execution_count": 70,
      "outputs": []
    },
    {
      "cell_type": "code",
      "metadata": {
        "id": "0n1rcZszGGIY"
      },
      "source": [
        "# predictions\n",
        "\n",
        "y_pred = model.predict(x_test_scaled)"
      ],
      "execution_count": 71,
      "outputs": []
    },
    {
      "cell_type": "code",
      "metadata": {
        "colab": {
          "base_uri": "https://localhost:8080/"
        },
        "id": "EKj7nFn6GGMT",
        "outputId": "625853ea-b895-4367-c092-172b55a794f3"
      },
      "source": [
        "from sklearn import metrics\n",
        "from sklearn.metrics import confusion_matrix\n",
        "from sklearn.metrics import classification_report\n",
        "\n",
        "print(\"Classification report for classifier %s:\\n%s\\n\"\n",
        "      % (model, metrics.classification_report(y_test, y_pred)))\n",
        "print(\"Confusion matrix:\\n%s\" % metrics.confusion_matrix(y_test, y_pred))\n",
        "\n"
      ],
      "execution_count": 72,
      "outputs": [
        {
          "output_type": "stream",
          "text": [
            "Classification report for classifier SVC(C=300, break_ties=False, cache_size=200, class_weight=None, coef0=0.0,\n",
            "    decision_function_shape='ovr', degree=3, gamma='scale', kernel='linear',\n",
            "    max_iter=-1, probability=False, random_state=None, shrinking=True,\n",
            "    tol=0.001, verbose=False):\n",
            "              precision    recall  f1-score   support\n",
            "\n",
            "           0       0.88      0.98      0.92        43\n",
            "           1       0.98      0.92      0.95        71\n",
            "\n",
            "    accuracy                           0.94       114\n",
            "   macro avg       0.93      0.95      0.94       114\n",
            "weighted avg       0.94      0.94      0.94       114\n",
            "\n",
            "\n",
            "Confusion matrix:\n",
            "[[42  1]\n",
            " [ 6 65]]\n"
          ],
          "name": "stdout"
        }
      ]
    },
    {
      "cell_type": "markdown",
      "metadata": {
        "id": "52Qxe4LXM8_t"
      },
      "source": [
        "The model above looks quite accurate, lets run it again with a low C hyperparameter and compare the results"
      ]
    },
    {
      "cell_type": "code",
      "metadata": {
        "colab": {
          "base_uri": "https://localhost:8080/"
        },
        "id": "3y0GGMQtGGOs",
        "outputId": "9271ccfd-f474-45a5-8212-c2a71c5d7e26"
      },
      "source": [
        "svc = SVC(kernel=\"linear\", C=2)\n",
        "\n",
        "model = svc.fit(x_train_scaled, y_train)\n",
        "\n",
        "y_pred = model.predict(x_test_scaled)\n",
        "\n",
        "\n",
        "print(\"Classification report for classifier %s:\\n%s\\n\"\n",
        "      % (model, metrics.classification_report(y_test, y_pred)))\n",
        "print(\"Confusion matrix:\\n%s\" % metrics.confusion_matrix(y_test, y_pred))\n",
        "\n",
        "# With a lower C value it appears we are getting greater precision, recall, and accuracy\n",
        "# Less missclassifications when we look at the confusion matrix"
      ],
      "execution_count": 73,
      "outputs": [
        {
          "output_type": "stream",
          "text": [
            "Classification report for classifier SVC(C=2, break_ties=False, cache_size=200, class_weight=None, coef0=0.0,\n",
            "    decision_function_shape='ovr', degree=3, gamma='scale', kernel='linear',\n",
            "    max_iter=-1, probability=False, random_state=None, shrinking=True,\n",
            "    tol=0.001, verbose=False):\n",
            "              precision    recall  f1-score   support\n",
            "\n",
            "           0       0.93      0.95      0.94        43\n",
            "           1       0.97      0.96      0.96        71\n",
            "\n",
            "    accuracy                           0.96       114\n",
            "   macro avg       0.95      0.96      0.95       114\n",
            "weighted avg       0.96      0.96      0.96       114\n",
            "\n",
            "\n",
            "Confusion matrix:\n",
            "[[41  2]\n",
            " [ 3 68]]\n"
          ],
          "name": "stdout"
        }
      ]
    },
    {
      "cell_type": "markdown",
      "metadata": {
        "id": "YWFGWNl7N9i4"
      },
      "source": [
        "Lets run the model again with the radial kernal for different vaules of C"
      ]
    },
    {
      "cell_type": "code",
      "metadata": {
        "colab": {
          "base_uri": "https://localhost:8080/"
        },
        "id": "OXUvnkj0GGQz",
        "outputId": "940d0117-3285-4c50-ef1d-55f7f0c0e842"
      },
      "source": [
        "svc = SVC(kernel=\"rbf\", C=2)\n",
        "\n",
        "model = svc.fit(x_train_scaled, y_train)\n",
        "\n",
        "y_pred = model.predict(x_test_scaled)\n",
        "\n",
        "\n",
        "print(\"Classification report for classifier %s:\\n%s\\n\"\n",
        "      % (model, metrics.classification_report(y_test, y_pred)))\n",
        "print(\"Confusion matrix:\\n%s\" % metrics.confusion_matrix(y_test, y_pred))"
      ],
      "execution_count": 74,
      "outputs": [
        {
          "output_type": "stream",
          "text": [
            "Classification report for classifier SVC(C=2, break_ties=False, cache_size=200, class_weight=None, coef0=0.0,\n",
            "    decision_function_shape='ovr', degree=3, gamma='scale', kernel='rbf',\n",
            "    max_iter=-1, probability=False, random_state=None, shrinking=True,\n",
            "    tol=0.001, verbose=False):\n",
            "              precision    recall  f1-score   support\n",
            "\n",
            "           0       1.00      0.95      0.98        43\n",
            "           1       0.97      1.00      0.99        71\n",
            "\n",
            "    accuracy                           0.98       114\n",
            "   macro avg       0.99      0.98      0.98       114\n",
            "weighted avg       0.98      0.98      0.98       114\n",
            "\n",
            "\n",
            "Confusion matrix:\n",
            "[[41  2]\n",
            " [ 0 71]]\n"
          ],
          "name": "stdout"
        }
      ]
    },
    {
      "cell_type": "code",
      "metadata": {
        "colab": {
          "base_uri": "https://localhost:8080/"
        },
        "id": "pv-wQx1XGGTJ",
        "outputId": "cf5c2281-9566-493f-f02b-965b27265c5a"
      },
      "source": [
        "svc = SVC(kernel=\"rbf\", C=200)\n",
        "\n",
        "model = svc.fit(x_train_scaled, y_train)\n",
        "\n",
        "y_pred = model.predict(x_test_scaled)\n",
        "\n",
        "\n",
        "print(\"Classification report for classifier %s:\\n%s\\n\"\n",
        "      % (model, metrics.classification_report(y_test, y_pred)))\n",
        "print(\"Confusion matrix:\\n%s\" % metrics.confusion_matrix(y_test, y_pred))"
      ],
      "execution_count": 75,
      "outputs": [
        {
          "output_type": "stream",
          "text": [
            "Classification report for classifier SVC(C=200, break_ties=False, cache_size=200, class_weight=None, coef0=0.0,\n",
            "    decision_function_shape='ovr', degree=3, gamma='scale', kernel='rbf',\n",
            "    max_iter=-1, probability=False, random_state=None, shrinking=True,\n",
            "    tol=0.001, verbose=False):\n",
            "              precision    recall  f1-score   support\n",
            "\n",
            "           0       0.89      0.95      0.92        43\n",
            "           1       0.97      0.93      0.95        71\n",
            "\n",
            "    accuracy                           0.94       114\n",
            "   macro avg       0.93      0.94      0.94       114\n",
            "weighted avg       0.94      0.94      0.94       114\n",
            "\n",
            "\n",
            "Confusion matrix:\n",
            "[[41  2]\n",
            " [ 5 66]]\n"
          ],
          "name": "stdout"
        }
      ]
    },
    {
      "cell_type": "markdown",
      "metadata": {
        "id": "xqway5_iORtB"
      },
      "source": [
        "In this case adding more complexity to our model appears to be worthwhile. The model using the radial kernal and a low c value C = 2 has resulted in just two False Postives, and no False Negatives.\n",
        "\n",
        "This is our best model. Especially, since it has product 0 False negatives which is of utmost importance in a situation where we are trying to detect cancer."
      ]
    },
    {
      "cell_type": "markdown",
      "metadata": {
        "id": "7tTtLvBXPRWv"
      },
      "source": [
        "# Concrete Regression\n"
      ]
    },
    {
      "cell_type": "code",
      "metadata": {
        "id": "XPvIy7RlGGZ6"
      },
      "source": [
        "!wget \"https://archive.ics.uci.edu/ml/machine-learning-databases/concrete/compressive/Concrete_Data.xls\""
      ],
      "execution_count": null,
      "outputs": []
    },
    {
      "cell_type": "code",
      "metadata": {
        "colab": {
          "base_uri": "https://localhost:8080/",
          "height": 255
        },
        "id": "0EGVIaN_GGbv",
        "outputId": "751a754b-7b4b-4082-a71e-e8e12a934455"
      },
      "source": [
        "import pandas as pd\n",
        "\n",
        "df = pd.read_excel(\"https://archive.ics.uci.edu/ml/machine-learning-databases/concrete/compressive/Concrete_Data.xls\")\n",
        "df.head()"
      ],
      "execution_count": 76,
      "outputs": [
        {
          "output_type": "execute_result",
          "data": {
            "text/html": [
              "<div>\n",
              "<style scoped>\n",
              "    .dataframe tbody tr th:only-of-type {\n",
              "        vertical-align: middle;\n",
              "    }\n",
              "\n",
              "    .dataframe tbody tr th {\n",
              "        vertical-align: top;\n",
              "    }\n",
              "\n",
              "    .dataframe thead th {\n",
              "        text-align: right;\n",
              "    }\n",
              "</style>\n",
              "<table border=\"1\" class=\"dataframe\">\n",
              "  <thead>\n",
              "    <tr style=\"text-align: right;\">\n",
              "      <th></th>\n",
              "      <th>Cement (component 1)(kg in a m^3 mixture)</th>\n",
              "      <th>Blast Furnace Slag (component 2)(kg in a m^3 mixture)</th>\n",
              "      <th>Fly Ash (component 3)(kg in a m^3 mixture)</th>\n",
              "      <th>Water  (component 4)(kg in a m^3 mixture)</th>\n",
              "      <th>Superplasticizer (component 5)(kg in a m^3 mixture)</th>\n",
              "      <th>Coarse Aggregate  (component 6)(kg in a m^3 mixture)</th>\n",
              "      <th>Fine Aggregate (component 7)(kg in a m^3 mixture)</th>\n",
              "      <th>Age (day)</th>\n",
              "      <th>Concrete compressive strength(MPa, megapascals)</th>\n",
              "    </tr>\n",
              "  </thead>\n",
              "  <tbody>\n",
              "    <tr>\n",
              "      <th>0</th>\n",
              "      <td>540.0</td>\n",
              "      <td>0.0</td>\n",
              "      <td>0.0</td>\n",
              "      <td>162.0</td>\n",
              "      <td>2.5</td>\n",
              "      <td>1040.0</td>\n",
              "      <td>676.0</td>\n",
              "      <td>28</td>\n",
              "      <td>79.986111</td>\n",
              "    </tr>\n",
              "    <tr>\n",
              "      <th>1</th>\n",
              "      <td>540.0</td>\n",
              "      <td>0.0</td>\n",
              "      <td>0.0</td>\n",
              "      <td>162.0</td>\n",
              "      <td>2.5</td>\n",
              "      <td>1055.0</td>\n",
              "      <td>676.0</td>\n",
              "      <td>28</td>\n",
              "      <td>61.887366</td>\n",
              "    </tr>\n",
              "    <tr>\n",
              "      <th>2</th>\n",
              "      <td>332.5</td>\n",
              "      <td>142.5</td>\n",
              "      <td>0.0</td>\n",
              "      <td>228.0</td>\n",
              "      <td>0.0</td>\n",
              "      <td>932.0</td>\n",
              "      <td>594.0</td>\n",
              "      <td>270</td>\n",
              "      <td>40.269535</td>\n",
              "    </tr>\n",
              "    <tr>\n",
              "      <th>3</th>\n",
              "      <td>332.5</td>\n",
              "      <td>142.5</td>\n",
              "      <td>0.0</td>\n",
              "      <td>228.0</td>\n",
              "      <td>0.0</td>\n",
              "      <td>932.0</td>\n",
              "      <td>594.0</td>\n",
              "      <td>365</td>\n",
              "      <td>41.052780</td>\n",
              "    </tr>\n",
              "    <tr>\n",
              "      <th>4</th>\n",
              "      <td>198.6</td>\n",
              "      <td>132.4</td>\n",
              "      <td>0.0</td>\n",
              "      <td>192.0</td>\n",
              "      <td>0.0</td>\n",
              "      <td>978.4</td>\n",
              "      <td>825.5</td>\n",
              "      <td>360</td>\n",
              "      <td>44.296075</td>\n",
              "    </tr>\n",
              "  </tbody>\n",
              "</table>\n",
              "</div>"
            ],
            "text/plain": [
              "   Cement (component 1)(kg in a m^3 mixture)  ...  Concrete compressive strength(MPa, megapascals) \n",
              "0                                      540.0  ...                                         79.986111\n",
              "1                                      540.0  ...                                         61.887366\n",
              "2                                      332.5  ...                                         40.269535\n",
              "3                                      332.5  ...                                         41.052780\n",
              "4                                      198.6  ...                                         44.296075\n",
              "\n",
              "[5 rows x 9 columns]"
            ]
          },
          "metadata": {
            "tags": []
          },
          "execution_count": 76
        }
      ]
    },
    {
      "cell_type": "code",
      "metadata": {
        "colab": {
          "base_uri": "https://localhost:8080/",
          "height": 204
        },
        "id": "4coH9tpGGGff",
        "outputId": "cea246dc-67f7-43d1-f5cb-959246e80995"
      },
      "source": [
        "df.columns = ([\"cement\", \"bf_slag\", \"fly_ash\", \"water\", \"superplasticizer\", \"coarse_aggregate\", \"fine_aggregate\", \"age\", \"compressive_strgth\"])\n",
        "df.head()"
      ],
      "execution_count": 79,
      "outputs": [
        {
          "output_type": "execute_result",
          "data": {
            "text/html": [
              "<div>\n",
              "<style scoped>\n",
              "    .dataframe tbody tr th:only-of-type {\n",
              "        vertical-align: middle;\n",
              "    }\n",
              "\n",
              "    .dataframe tbody tr th {\n",
              "        vertical-align: top;\n",
              "    }\n",
              "\n",
              "    .dataframe thead th {\n",
              "        text-align: right;\n",
              "    }\n",
              "</style>\n",
              "<table border=\"1\" class=\"dataframe\">\n",
              "  <thead>\n",
              "    <tr style=\"text-align: right;\">\n",
              "      <th></th>\n",
              "      <th>cement</th>\n",
              "      <th>bf_slag</th>\n",
              "      <th>fly_ash</th>\n",
              "      <th>water</th>\n",
              "      <th>superplasticizer</th>\n",
              "      <th>coarse_aggregate</th>\n",
              "      <th>fine_aggregate</th>\n",
              "      <th>age</th>\n",
              "      <th>compressive_strgth</th>\n",
              "    </tr>\n",
              "  </thead>\n",
              "  <tbody>\n",
              "    <tr>\n",
              "      <th>0</th>\n",
              "      <td>540.0</td>\n",
              "      <td>0.0</td>\n",
              "      <td>0.0</td>\n",
              "      <td>162.0</td>\n",
              "      <td>2.5</td>\n",
              "      <td>1040.0</td>\n",
              "      <td>676.0</td>\n",
              "      <td>28</td>\n",
              "      <td>79.986111</td>\n",
              "    </tr>\n",
              "    <tr>\n",
              "      <th>1</th>\n",
              "      <td>540.0</td>\n",
              "      <td>0.0</td>\n",
              "      <td>0.0</td>\n",
              "      <td>162.0</td>\n",
              "      <td>2.5</td>\n",
              "      <td>1055.0</td>\n",
              "      <td>676.0</td>\n",
              "      <td>28</td>\n",
              "      <td>61.887366</td>\n",
              "    </tr>\n",
              "    <tr>\n",
              "      <th>2</th>\n",
              "      <td>332.5</td>\n",
              "      <td>142.5</td>\n",
              "      <td>0.0</td>\n",
              "      <td>228.0</td>\n",
              "      <td>0.0</td>\n",
              "      <td>932.0</td>\n",
              "      <td>594.0</td>\n",
              "      <td>270</td>\n",
              "      <td>40.269535</td>\n",
              "    </tr>\n",
              "    <tr>\n",
              "      <th>3</th>\n",
              "      <td>332.5</td>\n",
              "      <td>142.5</td>\n",
              "      <td>0.0</td>\n",
              "      <td>228.0</td>\n",
              "      <td>0.0</td>\n",
              "      <td>932.0</td>\n",
              "      <td>594.0</td>\n",
              "      <td>365</td>\n",
              "      <td>41.052780</td>\n",
              "    </tr>\n",
              "    <tr>\n",
              "      <th>4</th>\n",
              "      <td>198.6</td>\n",
              "      <td>132.4</td>\n",
              "      <td>0.0</td>\n",
              "      <td>192.0</td>\n",
              "      <td>0.0</td>\n",
              "      <td>978.4</td>\n",
              "      <td>825.5</td>\n",
              "      <td>360</td>\n",
              "      <td>44.296075</td>\n",
              "    </tr>\n",
              "  </tbody>\n",
              "</table>\n",
              "</div>"
            ],
            "text/plain": [
              "   cement  bf_slag  fly_ash  ...  fine_aggregate  age  compressive_strgth\n",
              "0   540.0      0.0      0.0  ...           676.0   28           79.986111\n",
              "1   540.0      0.0      0.0  ...           676.0   28           61.887366\n",
              "2   332.5    142.5      0.0  ...           594.0  270           40.269535\n",
              "3   332.5    142.5      0.0  ...           594.0  365           41.052780\n",
              "4   198.6    132.4      0.0  ...           825.5  360           44.296075\n",
              "\n",
              "[5 rows x 9 columns]"
            ]
          },
          "metadata": {
            "tags": []
          },
          "execution_count": 79
        }
      ]
    },
    {
      "cell_type": "code",
      "metadata": {
        "id": "BnyzjsdjGGh-"
      },
      "source": [
        "x = df.loc[: , :'age'].values\n",
        "y = df['compressive_strgth'].values"
      ],
      "execution_count": 89,
      "outputs": []
    },
    {
      "cell_type": "code",
      "metadata": {
        "id": "97opjy1qGGkF"
      },
      "source": [
        "x_train, x_test, y_train, y_test = train_test_split(x, y, test_size=0.2, random_state=42)"
      ],
      "execution_count": 90,
      "outputs": []
    },
    {
      "cell_type": "code",
      "metadata": {
        "colab": {
          "base_uri": "https://localhost:8080/"
        },
        "id": "AmrAl6cUS4rw",
        "outputId": "2b418194-4bf0-4c84-aa8b-3c1c8d80ba54"
      },
      "source": [
        "print(x_train.shape)\n",
        "print(x_test.shape)\n",
        "print(y_train.shape)\n",
        "print(y_test.shape)"
      ],
      "execution_count": 92,
      "outputs": [
        {
          "output_type": "stream",
          "text": [
            "(824, 8)\n",
            "(206, 8)\n",
            "(824,)\n",
            "(206,)\n"
          ],
          "name": "stdout"
        }
      ]
    },
    {
      "cell_type": "code",
      "metadata": {
        "id": "-RCsYGoGRxyV"
      },
      "source": [
        "# Standardize that data as per usual\n",
        "\n",
        "scaler = StandardScaler()\n",
        "\n",
        "x_train_std = scaler.fit_transform(x_train)\n",
        "x_test_std = scaler.transform(x_test)"
      ],
      "execution_count": 91,
      "outputs": []
    },
    {
      "cell_type": "code",
      "metadata": {
        "id": "WlBT4cVARx1E"
      },
      "source": [
        "# As this is a regression problem we also need to standardize the y values in the same manner \n",
        "# For the target, the model expects 2D array and target is 1D, therefor we need to reshape the target arrays\n",
        "\n",
        "target_scaler = StandardScaler()\n",
        "y_train_std = target_scaler.fit_transform(y_train.reshape(-1, 1)).flatten()\n",
        "y_test_std = target_scaler.transform(y_test.reshape(-1, 1)).flatten()"
      ],
      "execution_count": 94,
      "outputs": []
    },
    {
      "cell_type": "code",
      "metadata": {
        "colab": {
          "base_uri": "https://localhost:8080/"
        },
        "id": "qNd-AloGRx3v",
        "outputId": "f69a3bf7-95ca-48ed-a4ba-9cb6e3edf266"
      },
      "source": [
        "y_test_std.shape"
      ],
      "execution_count": 96,
      "outputs": [
        {
          "output_type": "execute_result",
          "data": {
            "text/plain": [
              "(206,)"
            ]
          },
          "metadata": {
            "tags": []
          },
          "execution_count": 96
        }
      ]
    },
    {
      "cell_type": "markdown",
      "metadata": {
        "id": "n3NMxejBTrlK"
      },
      "source": [
        "This is a regression problem. Not a classification problem.\n",
        "\n",
        "Therefor, we will use the **SVR** which is the SVM that Sklearn uses for regression. We will use different kernels and see how rbf is actually the best one that we can apply"
      ]
    },
    {
      "cell_type": "code",
      "metadata": {
        "colab": {
          "base_uri": "https://localhost:8080/"
        },
        "id": "v1pu1AWyRx5v",
        "outputId": "6d64fb81-53bb-4ccd-eeb5-e94817cedae1"
      },
      "source": [
        "from sklearn.svm import SVR\n",
        "\n",
        "svr = SVR(kernel='linear', C=2)\n",
        "\n",
        "model = svr.fit(x_train_std, y_train_std)\n",
        "\n",
        "print(\"Train Score: \", model.score(x_train_std, y_train_std))\n",
        "print(\"Test Score: \", model.score(x_test_std, y_test_std))\n",
        "\n",
        "# Here the model accuracy is quite poor with the linear kernel"
      ],
      "execution_count": 100,
      "outputs": [
        {
          "output_type": "stream",
          "text": [
            "Train Score:  0.5692251770560239\n",
            "Test Score:  0.5386520356799473\n"
          ],
          "name": "stdout"
        }
      ]
    },
    {
      "cell_type": "code",
      "metadata": {
        "colab": {
          "base_uri": "https://localhost:8080/"
        },
        "id": "hFP5hsFYRx8e",
        "outputId": "9198ba9f-3fcb-4c52-835f-8bb603100256"
      },
      "source": [
        "from sklearn.svm import SVR\n",
        "\n",
        "svr = SVR(kernel='linear', C=200)\n",
        "\n",
        "model = svr.fit(x_train_std, y_train_std)\n",
        "\n",
        "print(\"Train Score: \", model.score(x_train_std, y_train_std))\n",
        "print(\"Test Score: \", model.score(x_test_std, y_test_std))\n",
        "\n",
        "# No any significant change if you increase C"
      ],
      "execution_count": 101,
      "outputs": [
        {
          "output_type": "stream",
          "text": [
            "Train Score:  0.5691461927373513\n",
            "Test Score:  0.5384549650037694\n"
          ],
          "name": "stdout"
        }
      ]
    },
    {
      "cell_type": "code",
      "metadata": {
        "colab": {
          "base_uri": "https://localhost:8080/"
        },
        "id": "EEGr5iOFRx_m",
        "outputId": "c172dfda-5465-497c-d78c-2ee640477903"
      },
      "source": [
        "# Lets use poly\n",
        "\n",
        "from sklearn.svm import SVR\n",
        "\n",
        "svr = SVR(kernel='poly',degree=3, C=2)\n",
        "\n",
        "model = svr.fit(x_train_std, y_train_std)\n",
        "\n",
        "print(\"Train Score: \", model.score(x_train_std, y_train_std))\n",
        "print(\"Test Score: \", model.score(x_test_std, y_test_std))\n",
        "\n",
        "# Accuracy is much better"
      ],
      "execution_count": 102,
      "outputs": [
        {
          "output_type": "stream",
          "text": [
            "Train Score:  0.7636309832852766\n",
            "Test Score:  0.6931964997797734\n"
          ],
          "name": "stdout"
        }
      ]
    },
    {
      "cell_type": "code",
      "metadata": {
        "colab": {
          "base_uri": "https://localhost:8080/"
        },
        "id": "fVUrz7lUVrPG",
        "outputId": "4626047a-37b3-4c17-9f61-fe617d79bcfb"
      },
      "source": [
        "# Lets increase the degree of the ploynomial\n",
        "\n",
        "from sklearn.svm import SVR\n",
        "\n",
        "svr = SVR(kernel='poly',degree=7, C=2)\n",
        "\n",
        "model = svr.fit(x_train_std, y_train_std)\n",
        "\n",
        "print(\"Train Score: \", model.score(x_train_std, y_train_std))\n",
        "print(\"Test Score: \", model.score(x_test_std, y_test_std))\n",
        "\n",
        "# This is leading to very poor results... I am not sure why, it looks like it may be due to overfitting ..."
      ],
      "execution_count": 107,
      "outputs": [
        {
          "output_type": "stream",
          "text": [
            "Train Score:  0.7056548212241165\n",
            "Test Score:  -4.353803322332087\n"
          ],
          "name": "stdout"
        }
      ]
    },
    {
      "cell_type": "code",
      "metadata": {
        "colab": {
          "base_uri": "https://localhost:8080/"
        },
        "id": "EoZtBYexVxKT",
        "outputId": "3b3e9df3-a873-4706-aaee-a0d411bb0e86"
      },
      "source": [
        "# Lets try another poly with a higher C\n",
        "\n",
        "from sklearn.svm import SVR\n",
        "\n",
        "svr = SVR(kernel='poly',degree=3, C=200)\n",
        "\n",
        "model = svr.fit(x_train_std, y_train_std)\n",
        "\n",
        "print(\"Train Score: \", model.score(x_train_std, y_train_std))\n",
        "print(\"Test Score: \", model.score(x_test_std, y_test_std))\n",
        "\n",
        "# Accuracy is better again"
      ],
      "execution_count": 110,
      "outputs": [
        {
          "output_type": "stream",
          "text": [
            "Train Score:  0.8022341028139839\n",
            "Test Score:  0.7208180465193031\n"
          ],
          "name": "stdout"
        }
      ]
    },
    {
      "cell_type": "code",
      "metadata": {
        "colab": {
          "base_uri": "https://localhost:8080/"
        },
        "id": "l5rgCVdXVxVg",
        "outputId": "6e89c297-af9f-4a50-84bc-050fcc01e046"
      },
      "source": [
        "# Now lets try rbf\n",
        "\n",
        "from sklearn.svm import SVR\n",
        "\n",
        "svr = SVR(kernel='rbf', C=2)\n",
        "\n",
        "model = svr.fit(x_train_std, y_train_std)\n",
        "\n",
        "print(\"Train Score: \", model.score(x_train_std, y_train_std))\n",
        "print(\"Test Score: \", model.score(x_test_std, y_test_std))\n",
        "\n",
        "# Accuracy is better again"
      ],
      "execution_count": 111,
      "outputs": [
        {
          "output_type": "stream",
          "text": [
            "Train Score:  0.9083260174519389\n",
            "Test Score:  0.8545523514842992\n"
          ],
          "name": "stdout"
        }
      ]
    },
    {
      "cell_type": "code",
      "metadata": {
        "colab": {
          "base_uri": "https://localhost:8080/"
        },
        "id": "Zctmq7NQWf_N",
        "outputId": "a8a750ff-7a3c-4990-a89c-d6908f8dbce4"
      },
      "source": [
        "# Now lets try rbf\n",
        "\n",
        "from sklearn.svm import SVR\n",
        "\n",
        "svr = SVR(kernel='rbf', C=200)\n",
        "\n",
        "model = svr.fit(x_train_std, y_train_std)\n",
        "\n",
        "print(\"Train Score: \", model.score(x_train_std, y_train_std))\n",
        "print(\"Test Score: \", model.score(x_test_std, y_test_std))\n",
        "\n",
        "# Accuracy is best!!!"
      ],
      "execution_count": 112,
      "outputs": [
        {
          "output_type": "stream",
          "text": [
            "Train Score:  0.9733627228525505\n",
            "Test Score:  0.8765877482767301\n"
          ],
          "name": "stdout"
        }
      ]
    },
    {
      "cell_type": "markdown",
      "metadata": {
        "id": "Q_CNk7CCDBZW"
      },
      "source": [
        "## Exercise three [OPTIONAL]\n",
        "\n",
        "*Try to solve this as an optional assignement, we will review the code in the following class*\n",
        "\n",
        "Support vector machines (SVMs) are a particularly powerful and flexible class of supervised algorithms. In this exercise, we will develop the intuition behind support vector machines and their use in classification problems."
      ]
    },
    {
      "cell_type": "code",
      "metadata": {
        "id": "DI8A79SnDBZa"
      },
      "source": [
        "%matplotlib inline\n",
        "import numpy as np\n",
        "import matplotlib.pyplot as plt"
      ],
      "execution_count": null,
      "outputs": []
    },
    {
      "cell_type": "markdown",
      "metadata": {
        "id": "man6HsMEDBZe"
      },
      "source": [
        "To begin with, let us generate the data for a linear classification problem. In order to do so use the `make_blobs` function from `sklearn`. We want to generate 50 samples, set the `random_state=0` and `cluster_std=0.6`. Finally plot the points with `plt.scatter`"
      ]
    },
    {
      "cell_type": "code",
      "metadata": {
        "id": "cUqAe-pRDBZf"
      },
      "source": [
        ""
      ],
      "execution_count": null,
      "outputs": []
    },
    {
      "cell_type": "markdown",
      "metadata": {
        "id": "2IjYXDIVDBZi"
      },
      "source": [
        "A linear discriminative classifier would attempt to draw a straight line separating the two sets of data, and thereby create a model for classification. For two dimensional data like that shown here, this is a task we could do by hand. Think about a line that separates the two classes, how many are there? Which do you think would be the more appropiate given the data points? Draw some lines over this plot with slopes [1, 0.5, -0.2] and biases [0.65, 1.6, 2.9]. Use the `np.linespace` function to generate the x and the line equation \n",
        "\n",
        "$$y = mx + b$$\n",
        "\n",
        "for the y. Finally plot a \"new point\" in the coordinates (0.6, 2.1) with a red X."
      ]
    },
    {
      "cell_type": "code",
      "metadata": {
        "id": "qlK4-WhqDBZj"
      },
      "source": [
        ""
      ],
      "execution_count": null,
      "outputs": []
    },
    {
      "cell_type": "markdown",
      "metadata": {
        "id": "nPmh31QGDBZm"
      },
      "source": [
        "## SVM margins and support vectors\n",
        "These are three very different separators which, nevertheless, perfectly discriminate between these samples. Depending on which you choose, a new data point (e.g., the one marked by the \"X\" in this plot) will be assigned a different label!.\n",
        "\n",
        "Support vector machines offer one way to improve on this. The intuition is this: rather than simply drawing a line between the classes, we can draw around each line a margin of some width, up to the nearest point (no matter the class). To visualize this, let us repeat the same plot but adding some code to fill the margins. Use the method `plt.fill_between` with `color='#AAAAAA'`. The margins for each of the lines above are [0.33, 0.55, 0.2]."
      ]
    },
    {
      "cell_type": "code",
      "metadata": {
        "id": "pU89a8OxDBZn"
      },
      "source": [
        ""
      ],
      "execution_count": null,
      "outputs": []
    },
    {
      "cell_type": "markdown",
      "metadata": {
        "id": "ZfCWQ4iNDBZq"
      },
      "source": [
        "Now fit an SVM to this data. Use Scikit-Learn's support vector classifier to train an SVM model. For the time being, we will use a linear kernel and set the C parameter to a very large number like 1E10. \n",
        "\n"
      ]
    },
    {
      "cell_type": "code",
      "metadata": {
        "id": "VSNunBV7DBZr"
      },
      "source": [
        ""
      ],
      "execution_count": null,
      "outputs": []
    },
    {
      "cell_type": "markdown",
      "metadata": {
        "id": "PezkPYL6DBZt"
      },
      "source": [
        "Now retrieve the support vectors from the learned model. Would you be able to identify them on the plot? Why are these the support vectors? Why are they important?"
      ]
    },
    {
      "cell_type": "code",
      "metadata": {
        "id": "IVi6El7fDBZu"
      },
      "source": [
        ""
      ],
      "execution_count": null,
      "outputs": []
    },
    {
      "cell_type": "markdown",
      "metadata": {
        "id": "LpWuo3Y2DBZx"
      },
      "source": [
        "This function will plot the decision boundaries of a model and the support vectors. "
      ]
    },
    {
      "cell_type": "code",
      "metadata": {
        "id": "JRwkHIUHDBZy"
      },
      "source": [
        "def plot_svc_decision_function(model, ax=None, plot_support=True):\n",
        "    \"\"\"Plot the decision function for a 2D SVC\"\"\"\n",
        "\n",
        "    ax = plt.gca()\n",
        "    xlim = ax.get_xlim()\n",
        "    ylim = ax.get_ylim()\n",
        "    \n",
        "    # create grid to evaluate model\n",
        "    x = np.linspace(xlim[0], xlim[1], 30)\n",
        "    y = np.linspace(ylim[0], ylim[1], 30)\n",
        "    Y, X = np.meshgrid(y, x)\n",
        "    xy = np.vstack([X.ravel(), Y.ravel()]).T\n",
        "    P = model.decision_function(xy).reshape(X.shape)\n",
        "    \n",
        "    # plot decision boundary and margins\n",
        "    ax.contour(X, Y, P, colors='k',\n",
        "               levels=[-1, 0, 1], alpha=0.5,\n",
        "               linestyles=['--', '-', '--'])\n",
        "    \n",
        "    # plot support vectors\n",
        "    if plot_support:\n",
        "        ax.scatter(model.support_vectors_[:, 0],\n",
        "                   model.support_vectors_[:, 1],\n",
        "                   s=300, linewidth=1, facecolors='none',\n",
        "                   edgecolors='blue')\n",
        "        \n",
        "    ax.set_xlim(xlim)\n",
        "    ax.set_ylim(ylim)"
      ],
      "execution_count": null,
      "outputs": []
    },
    {
      "cell_type": "markdown",
      "metadata": {
        "id": "BRWrOwVyDBZ0"
      },
      "source": [
        "Generate a scatter plot of the data set and use the previous function to draw the support vectors and the decision boundaries "
      ]
    },
    {
      "cell_type": "code",
      "metadata": {
        "id": "-UjwQEmtDBZ1"
      },
      "source": [
        ""
      ],
      "execution_count": null,
      "outputs": []
    },
    {
      "cell_type": "markdown",
      "metadata": {
        "id": "Uysvg21VDBZ4"
      },
      "source": [
        "A key to this classifier's success is that for the fit, only the position of the support vectors matter; any points further from the margin which are on the correct side do not modify the fit! Technically, this is because these points do not contribute to the loss function used to fit the model, so their position and number do not matter so long as they do not cross the margin.\n",
        "\n",
        "In order to see an example of this, simulate the points with the same random seed, but now simulate 120. Then train again the SVM and plot the decision boundaries. Which are the support vectors this time? Is this an expected result? Why?"
      ]
    },
    {
      "cell_type": "code",
      "metadata": {
        "id": "Lb5vprHPDBZ5"
      },
      "source": [
        ""
      ],
      "execution_count": null,
      "outputs": []
    },
    {
      "cell_type": "markdown",
      "metadata": {
        "id": "d3iHukpeDBZ7"
      },
      "source": [
        "## SVM softening the margins\n",
        "Now add a new point which is inside the decision boundary, say (-0.5, 2) to class 0, what do you expect will happen?"
      ]
    },
    {
      "cell_type": "code",
      "metadata": {
        "id": "xUDN6uIeDBZ8"
      },
      "source": [
        ""
      ],
      "execution_count": null,
      "outputs": []
    },
    {
      "cell_type": "markdown",
      "metadata": {
        "id": "KY4n1jerDBZ_"
      },
      "source": [
        "How about adding an even more outlier, like (0, 0) to class 0."
      ]
    },
    {
      "cell_type": "code",
      "metadata": {
        "id": "FxD0OxVXDBaA"
      },
      "source": [
        ""
      ],
      "execution_count": null,
      "outputs": []
    },
    {
      "cell_type": "markdown",
      "metadata": {
        "id": "mL4375vTDBaC"
      },
      "source": [
        "What happened to the margin? Could we use this model if we had a red point further right? Why?\n",
        "\n",
        "Now, is there a way that we could try to make the SVM more robust to these possible outliers? Which one? Try to implement an SVM model with the same data modifying the C parameter. What do you observe?"
      ]
    },
    {
      "cell_type": "code",
      "metadata": {
        "id": "BLkzsKUjDBaD"
      },
      "source": [
        ""
      ],
      "execution_count": null,
      "outputs": []
    },
    {
      "cell_type": "markdown",
      "metadata": {
        "id": "uQHsrz0xDBaG"
      },
      "source": [
        "## SVM Kernels\n",
        "Now we have seen that SVM are very useful to find the optimal separating hyper-plane when your data is linearly separable. Even when you have some noise in the data set, you can tune the C-value to be able to adjust this. But what happens if your classes are not linearly separable? Is there a way we could overcome this draw-back? Let us generate a dataset that is not linearly separable. Use the `make_circles` method from `samples_generator` in sklearn. Generate 100 examples with `factor=.1, noise=.1, random_state=0`. Then generate a scatter plot to visualize the samples, use a different color for each class."
      ]
    },
    {
      "cell_type": "code",
      "metadata": {
        "id": "InJwc2mXDBaH"
      },
      "source": [
        ""
      ],
      "execution_count": null,
      "outputs": []
    },
    {
      "cell_type": "markdown",
      "metadata": {
        "id": "1yn6JyRfDBaJ"
      },
      "source": [
        "Now try to classify this data with a linear SVM, what do you expect will happen? Does this model capture the pattern of the classes? Plot the classification results with the `plot_svc_decision_function`"
      ]
    },
    {
      "cell_type": "code",
      "metadata": {
        "id": "8bOMWVdSDBaK"
      },
      "source": [
        ""
      ],
      "execution_count": null,
      "outputs": []
    },
    {
      "cell_type": "markdown",
      "metadata": {
        "id": "GcgCa72_DBaN"
      },
      "source": [
        "What could we do in order to make this dataset linearly separable? We can project it into a higher dimensional space. Note the similarity between this, and the polynomial regression. In order to have a better understanding of how kernels work, first implement a third axis with python with the following expression:\n",
        "\n",
        "$$x_3 = e^{-(x_1^2 + x_2^2)}$$\n",
        "\n",
        "Actually this is somewhat equivalent to the rbf kernel. You should name the new axis `x_3`"
      ]
    },
    {
      "cell_type": "code",
      "metadata": {
        "id": "o45PISlODBaN"
      },
      "source": [
        ""
      ],
      "execution_count": null,
      "outputs": []
    },
    {
      "cell_type": "markdown",
      "metadata": {
        "id": "HiAyuCCEDBaQ"
      },
      "source": [
        "Once you have implemented this 3rd axis, you may "
      ]
    },
    {
      "cell_type": "code",
      "metadata": {
        "id": "hpDOj7ffDBaR"
      },
      "source": [
        "from mpl_toolkits import mplot3d\n",
        "from ipywidgets import interact, fixed\n",
        "\n",
        "def plot_3D(elev=30, azim=30, X=X, y=y):\n",
        "    ax = plt.subplot(projection='3d')\n",
        "    ax.scatter3D(X[:, 0], X[:, 1], x_3, c=y, s=50, cmap='autumn')\n",
        "    ax.view_init(elev=elev, azim=azim)\n",
        "    ax.set_xlabel('x_1')\n",
        "    ax.set_ylabel('x_2')\n",
        "    ax.set_zlabel('x_3')\n",
        "    \n",
        "interact(plot_3D, elev=[30, 0, 90], azip=(-180, 180),\n",
        "         X=fixed(X), y=fixed(y));"
      ],
      "execution_count": null,
      "outputs": []
    },
    {
      "cell_type": "markdown",
      "metadata": {
        "id": "4rJsRTQyDBaV"
      },
      "source": [
        "Now use the SVM classifier but set the `kernel='rbf'` with high value for C and plot the results"
      ]
    },
    {
      "cell_type": "code",
      "metadata": {
        "id": "uw5G5p5DDBaW"
      },
      "source": [
        ""
      ],
      "execution_count": null,
      "outputs": []
    },
    {
      "cell_type": "markdown",
      "metadata": {
        "id": "wEexYnN1DBae"
      },
      "source": [
        "## Evaluating the classification results\n",
        "In order to assess the goodness of our model we need to compute some quantitative scores, we will review some of the most relevant. First, use the function `make_blobs` to generate a multilabel dataset. Generate 200 samples with 4 different classes set `random_state=0` and `cluster_std=0.6` "
      ]
    },
    {
      "cell_type": "code",
      "metadata": {
        "id": "uwvy5D0_DBag"
      },
      "source": [
        ""
      ],
      "execution_count": null,
      "outputs": []
    },
    {
      "cell_type": "code",
      "metadata": {
        "id": "oA2vO9MUDBai"
      },
      "source": [
        ""
      ],
      "execution_count": null,
      "outputs": []
    },
    {
      "cell_type": "markdown",
      "metadata": {
        "id": "H-VV9ldrDBak"
      },
      "source": [
        "Split the data set in training and test and apply the SVC with `C=1, kernel='rbf', gamma='auto', class_weight='balanced', decision_function_shape='ovr'` "
      ]
    },
    {
      "cell_type": "code",
      "metadata": {
        "id": "9XI3eDREDBal"
      },
      "source": [
        ""
      ],
      "execution_count": null,
      "outputs": []
    },
    {
      "cell_type": "markdown",
      "metadata": {
        "id": "heL4lVD5DBao"
      },
      "source": [
        "Predict on the test set and plot the confusion matrix, use the `confusion_matrix` function from sklearn and `heatmap` from seaborn. What would be the confusion matrix result of a perfect classification? What information can we extract from it?"
      ]
    },
    {
      "cell_type": "code",
      "metadata": {
        "id": "7lbRXQg3DBao"
      },
      "source": [
        ""
      ],
      "execution_count": null,
      "outputs": []
    },
    {
      "cell_type": "code",
      "metadata": {
        "id": "5GWVAc9PDBar"
      },
      "source": [
        ""
      ],
      "execution_count": null,
      "outputs": []
    },
    {
      "cell_type": "markdown",
      "metadata": {
        "id": "sL_fpv4dDBat"
      },
      "source": [
        "Finally compute the accuracy score, what does this value mean?"
      ]
    },
    {
      "cell_type": "code",
      "metadata": {
        "id": "oT3eCLRwDBat"
      },
      "source": [
        ""
      ],
      "execution_count": null,
      "outputs": []
    },
    {
      "cell_type": "markdown",
      "metadata": {
        "id": "oWiIwsYeDBav"
      },
      "source": [
        "You can use the follwing code to visualize the decision function computed by the model. "
      ]
    },
    {
      "cell_type": "code",
      "metadata": {
        "id": "iQYhjHVODBaw"
      },
      "source": [
        "def make_meshgrid(x, y, h=.02):\n",
        "    \"\"\"Create a mesh of points to plot in\n",
        "\n",
        "    Parameters\n",
        "    ----------\n",
        "    x: data to base x-axis meshgrid on\n",
        "    y: data to base y-axis meshgrid on\n",
        "    h: stepsize for meshgrid, optional\n",
        "\n",
        "    Returns\n",
        "    -------\n",
        "    xx, yy : ndarray\n",
        "    \"\"\"\n",
        "    x_min, x_max = x.min() - 1, x.max() + 1\n",
        "    y_min, y_max = y.min() - 1, y.max() + 1\n",
        "    xx, yy = np.meshgrid(np.arange(x_min, x_max, h),\n",
        "                         np.arange(y_min, y_max, h))\n",
        "    return xx, yy\n",
        "\n",
        "\n",
        "def plot_contours(clf, xx, yy, **params):\n",
        "    \"\"\"Plot the decision boundaries for a classifier.\n",
        "\n",
        "    Parameters\n",
        "    ----------\n",
        "    ax: matplotlib axes object\n",
        "    clf: a classifier\n",
        "    xx: meshgrid ndarray\n",
        "    yy: meshgrid ndarray\n",
        "    params: dictionary of params to pass to contourf, optional\n",
        "    \"\"\"\n",
        "    Z = clf.predict(np.c_[xx.ravel(), yy.ravel()])\n",
        "    Z = Z.reshape(xx.shape)\n",
        "    out = plt.contourf(xx, yy, Z, **params)\n",
        "    return out\n",
        "\n",
        "X0, X1 = Xtest[:, 0], Xtest[:, 1]\n",
        "xx, yy = make_meshgrid(X0, X1)\n",
        "\n",
        "plot_contours(svc, xx, yy,\n",
        "               cmap='jet', alpha=0.6)\n",
        "\n",
        "plt.scatter(X0, X1, c=ytest, cmap='jet', s=20, edgecolors='k')\n",
        "plt.xlim(xx.min(), xx.max())\n",
        "plt.ylim(yy.min(), yy.max())\n",
        "plt.show()"
      ],
      "execution_count": null,
      "outputs": []
    },
    {
      "cell_type": "markdown",
      "metadata": {
        "id": "RRxrK8DqDBaz"
      },
      "source": [
        "Now repeat the computations with a linear kernel, what changes do you observe? Now change the `cluster_std` when you generate the data, what would you expecte when you increase it? and when you decrease it? "
      ]
    },
    {
      "cell_type": "code",
      "metadata": {
        "id": "TBUs9YaOAEBs"
      },
      "source": [
        ""
      ],
      "execution_count": null,
      "outputs": []
    }
  ]
}